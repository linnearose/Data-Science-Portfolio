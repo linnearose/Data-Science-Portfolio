{
 "cells": [
  {
   "cell_type": "markdown",
   "metadata": {},
   "source": [
    "\n",
    "## Modeling"
   ]
  },
  {
   "cell_type": "code",
   "execution_count": 1,
   "metadata": {},
   "outputs": [],
   "source": [
    "import pandas as pd\n",
    "import numpy as np\n",
    "import matplotlib.pyplot as plt\n",
    "\n",
    "%matplotlib inline\n",
    "\n",
    "from io import StringIO\n",
    "\n",
    "# from sklearn.feature_selection import chi2\n",
    "\n",
    "from sklearn.model_selection import train_test_split\n",
    "from sklearn.feature_extraction.text import CountVectorizer\n",
    "from sklearn.linear_model import LogisticRegression\n",
    "from sklearn.tree import DecisionTreeClassifier\n",
    "from sklearn.svm import LinearSVC, LinearSVR\n",
    "from sklearn.metrics import accuracy_score\n",
    "from sklearn.feature_extraction.text import TfidfVectorizer\n",
    "from sklearn.preprocessing import StandardScaler\n",
    "\n",
    "from sklearn.feature_extraction.text import TfidfTransformer\n",
    "from sklearn.naive_bayes import MultinomialNB"
   ]
  },
  {
   "cell_type": "code",
   "execution_count": 2,
   "metadata": {},
   "outputs": [],
   "source": [
    "df = pd.read_csv('./clean_data_3.csv', index_col=0)"
   ]
  },
  {
   "cell_type": "code",
   "execution_count": 3,
   "metadata": {},
   "outputs": [],
   "source": [
    "# ngrams = pd.read_csv('./ngram_df.csv', index_col=0)"
   ]
  },
  {
   "cell_type": "code",
   "execution_count": 4,
   "metadata": {},
   "outputs": [],
   "source": [
    "# words = pd.read_csv('./words_df.csv', index_col=0)"
   ]
  },
  {
   "cell_type": "code",
   "execution_count": 5,
   "metadata": {},
   "outputs": [
    {
     "data": {
      "text/html": [
       "<div>\n",
       "<style scoped>\n",
       "    .dataframe tbody tr th:only-of-type {\n",
       "        vertical-align: middle;\n",
       "    }\n",
       "\n",
       "    .dataframe tbody tr th {\n",
       "        vertical-align: top;\n",
       "    }\n",
       "\n",
       "    .dataframe thead th {\n",
       "        text-align: right;\n",
       "    }\n",
       "</style>\n",
       "<table border=\"1\" class=\"dataframe\">\n",
       "  <thead>\n",
       "    <tr style=\"text-align: right;\">\n",
       "      <th></th>\n",
       "      <th>brand</th>\n",
       "      <th>description</th>\n",
       "      <th>item_id</th>\n",
       "      <th>status</th>\n",
       "      <th>title</th>\n",
       "      <th>url</th>\n",
       "      <th>original_price</th>\n",
       "      <th>new_price</th>\n",
       "      <th>tag_1</th>\n",
       "      <th>tag_3</th>\n",
       "      <th>...</th>\n",
       "      <th>tag_2_Makeup</th>\n",
       "      <th>tag_2_Pants</th>\n",
       "      <th>tag_2_Shoes</th>\n",
       "      <th>tag_2_Shorts</th>\n",
       "      <th>tag_2_Skirts</th>\n",
       "      <th>tag_2_Sweaters</th>\n",
       "      <th>tag_2_Swim</th>\n",
       "      <th>tag_2_Tops</th>\n",
       "      <th>clean_title</th>\n",
       "      <th>clean_description</th>\n",
       "    </tr>\n",
       "  </thead>\n",
       "  <tbody>\n",
       "    <tr>\n",
       "      <th>0</th>\n",
       "      <td>Zenana Outfitters</td>\n",
       "      <td>Zenana Premium shirt, size large, came from a ...</td>\n",
       "      <td>5c76992f819e9019dc35783d</td>\n",
       "      <td>Buy Now</td>\n",
       "      <td>Zenana Premium shirt</td>\n",
       "      <td>https://poshmark.com/listing/Zenana-Premium-sh...</td>\n",
       "      <td>25.0</td>\n",
       "      <td>13.0</td>\n",
       "      <td>Women</td>\n",
       "      <td>Blouses</td>\n",
       "      <td>...</td>\n",
       "      <td>0</td>\n",
       "      <td>0</td>\n",
       "      <td>0</td>\n",
       "      <td>0</td>\n",
       "      <td>0</td>\n",
       "      <td>0</td>\n",
       "      <td>0</td>\n",
       "      <td>1</td>\n",
       "      <td>zenana premium shirt</td>\n",
       "      <td>zenana premium shirt size large came from a lo...</td>\n",
       "    </tr>\n",
       "    <tr>\n",
       "      <th>1</th>\n",
       "      <td>Dansko</td>\n",
       "      <td>Like New\\nOnly worn a few times\\nNo wear signs...</td>\n",
       "      <td>5c76989bfe5151cc53579bce</td>\n",
       "      <td>Buy Now</td>\n",
       "      <td>Dansko Black Leather Mary Janes</td>\n",
       "      <td>https://poshmark.com/listing/Dansko-Black-Leat...</td>\n",
       "      <td>0.0</td>\n",
       "      <td>25.0</td>\n",
       "      <td>Women</td>\n",
       "      <td>NaN</td>\n",
       "      <td>...</td>\n",
       "      <td>0</td>\n",
       "      <td>0</td>\n",
       "      <td>0</td>\n",
       "      <td>0</td>\n",
       "      <td>0</td>\n",
       "      <td>0</td>\n",
       "      <td>0</td>\n",
       "      <td>0</td>\n",
       "      <td>dansko black leather mary janes</td>\n",
       "      <td>like new only worn a few time no wear sign doe...</td>\n",
       "    </tr>\n",
       "    <tr>\n",
       "      <th>2</th>\n",
       "      <td>Matisse</td>\n",
       "      <td>Amazing pair of leopard print pony hair wedge ...</td>\n",
       "      <td>5c7694f9df03079e3a8c89cf</td>\n",
       "      <td>Buy Now</td>\n",
       "      <td>Matisse Leopard Wedge Bootie</td>\n",
       "      <td>https://poshmark.com/listing/Matisse-Leopard-W...</td>\n",
       "      <td>215.0</td>\n",
       "      <td>80.0</td>\n",
       "      <td>Women</td>\n",
       "      <td>AnkleBoots&amp;Booties</td>\n",
       "      <td>...</td>\n",
       "      <td>0</td>\n",
       "      <td>0</td>\n",
       "      <td>1</td>\n",
       "      <td>0</td>\n",
       "      <td>0</td>\n",
       "      <td>0</td>\n",
       "      <td>0</td>\n",
       "      <td>0</td>\n",
       "      <td>matisse leopard wedge bootie</td>\n",
       "      <td>amazing pair of leopard print pony hair wedge ...</td>\n",
       "    </tr>\n",
       "  </tbody>\n",
       "</table>\n",
       "<p>3 rows × 28 columns</p>\n",
       "</div>"
      ],
      "text/plain": [
       "               brand                                        description  \\\n",
       "0  Zenana Outfitters  Zenana Premium shirt, size large, came from a ...   \n",
       "1             Dansko  Like New\\nOnly worn a few times\\nNo wear signs...   \n",
       "2            Matisse  Amazing pair of leopard print pony hair wedge ...   \n",
       "\n",
       "                    item_id   status                            title  \\\n",
       "0  5c76992f819e9019dc35783d  Buy Now          Zenana Premium shirt      \n",
       "1  5c76989bfe5151cc53579bce  Buy Now  Dansko Black Leather Mary Janes   \n",
       "2  5c7694f9df03079e3a8c89cf  Buy Now     Matisse Leopard Wedge Bootie   \n",
       "\n",
       "                                                 url  original_price  \\\n",
       "0  https://poshmark.com/listing/Zenana-Premium-sh...            25.0   \n",
       "1  https://poshmark.com/listing/Dansko-Black-Leat...             0.0   \n",
       "2  https://poshmark.com/listing/Matisse-Leopard-W...           215.0   \n",
       "\n",
       "   new_price  tag_1               tag_3  \\\n",
       "0       13.0  Women             Blouses   \n",
       "1       25.0  Women                 NaN   \n",
       "2       80.0  Women  AnkleBoots&Booties   \n",
       "\n",
       "                         ...                          tag_2_Makeup  \\\n",
       "0                        ...                                     0   \n",
       "1                        ...                                     0   \n",
       "2                        ...                                     0   \n",
       "\n",
       "   tag_2_Pants  tag_2_Shoes  tag_2_Shorts  tag_2_Skirts  tag_2_Sweaters  \\\n",
       "0            0            0             0             0               0   \n",
       "1            0            0             0             0               0   \n",
       "2            0            1             0             0               0   \n",
       "\n",
       "   tag_2_Swim  tag_2_Tops                      clean_title  \\\n",
       "0           0           1             zenana premium shirt   \n",
       "1           0           0  dansko black leather mary janes   \n",
       "2           0           0     matisse leopard wedge bootie   \n",
       "\n",
       "                                   clean_description  \n",
       "0  zenana premium shirt size large came from a lo...  \n",
       "1  like new only worn a few time no wear sign doe...  \n",
       "2  amazing pair of leopard print pony hair wedge ...  \n",
       "\n",
       "[3 rows x 28 columns]"
      ]
     },
     "execution_count": 5,
     "metadata": {},
     "output_type": "execute_result"
    }
   ],
   "source": [
    "df.head(3)"
   ]
  },
  {
   "cell_type": "code",
   "execution_count": 6,
   "metadata": {},
   "outputs": [
    {
     "name": "stdout",
     "output_type": "stream",
     "text": [
      "No nulls\n"
     ]
    }
   ],
   "source": [
    "# Check again for nulls\n",
    "try:\n",
    "    ind = df[df['clean_title'].isnull()].index[0]\n",
    "    print('There are nulls...')\n",
    "    print('Null values by index:', ind)\n",
    "    \n",
    "except:\n",
    "    print('No nulls')\n",
    "    pass"
   ]
  },
  {
   "cell_type": "code",
   "execution_count": 7,
   "metadata": {},
   "outputs": [],
   "source": [
    "# Drop nulls if they exist\n",
    "try:\n",
    "    df.drop(index=ind, inplace=True)\n",
    "    df.reset_index(inplace=True, drop=True)\n",
    "except:\n",
    "    pass"
   ]
  },
  {
   "cell_type": "code",
   "execution_count": 8,
   "metadata": {
    "scrolled": false
   },
   "outputs": [
    {
     "data": {
      "text/html": [
       "<div>\n",
       "<style scoped>\n",
       "    .dataframe tbody tr th:only-of-type {\n",
       "        vertical-align: middle;\n",
       "    }\n",
       "\n",
       "    .dataframe tbody tr th {\n",
       "        vertical-align: top;\n",
       "    }\n",
       "\n",
       "    .dataframe thead th {\n",
       "        text-align: right;\n",
       "    }\n",
       "</style>\n",
       "<table border=\"1\" class=\"dataframe\">\n",
       "  <thead>\n",
       "    <tr style=\"text-align: right;\">\n",
       "      <th></th>\n",
       "      <th>brand</th>\n",
       "      <th>description</th>\n",
       "      <th>item_id</th>\n",
       "      <th>status</th>\n",
       "      <th>title</th>\n",
       "      <th>url</th>\n",
       "      <th>original_price</th>\n",
       "      <th>new_price</th>\n",
       "      <th>tag_1</th>\n",
       "      <th>tag_3</th>\n",
       "      <th>...</th>\n",
       "      <th>tag_2_Makeup</th>\n",
       "      <th>tag_2_Pants</th>\n",
       "      <th>tag_2_Shoes</th>\n",
       "      <th>tag_2_Shorts</th>\n",
       "      <th>tag_2_Skirts</th>\n",
       "      <th>tag_2_Sweaters</th>\n",
       "      <th>tag_2_Swim</th>\n",
       "      <th>tag_2_Tops</th>\n",
       "      <th>clean_title</th>\n",
       "      <th>clean_description</th>\n",
       "    </tr>\n",
       "  </thead>\n",
       "  <tbody>\n",
       "    <tr>\n",
       "      <th>591</th>\n",
       "      <td>Pandora</td>\n",
       "      <td>🤩</td>\n",
       "      <td>5c75f114951996e7c42404b4</td>\n",
       "      <td>Buy Now</td>\n",
       "      <td>Authentic Very Rare Pandora Cell Phone Charm!</td>\n",
       "      <td>https://poshmark.com/listing/Authentic-Very-Ra...</td>\n",
       "      <td>0.0</td>\n",
       "      <td>50.0</td>\n",
       "      <td>Women</td>\n",
       "      <td>Bracelets</td>\n",
       "      <td>...</td>\n",
       "      <td>0</td>\n",
       "      <td>0</td>\n",
       "      <td>0</td>\n",
       "      <td>0</td>\n",
       "      <td>0</td>\n",
       "      <td>0</td>\n",
       "      <td>0</td>\n",
       "      <td>0</td>\n",
       "      <td>authentic very rare pandora cell phone charm</td>\n",
       "      <td>NaN</td>\n",
       "    </tr>\n",
       "    <tr>\n",
       "      <th>810</th>\n",
       "      <td>NaN</td>\n",
       "      <td>.</td>\n",
       "      <td>5c73161d035cf1ee818d617e</td>\n",
       "      <td>Buy Now</td>\n",
       "      <td>Miscellaneous shirts.</td>\n",
       "      <td>https://poshmark.com/listing/Miscellaneous-shi...</td>\n",
       "      <td>200.0</td>\n",
       "      <td>30.0</td>\n",
       "      <td>Women</td>\n",
       "      <td>Tees-ShortSleeve</td>\n",
       "      <td>...</td>\n",
       "      <td>0</td>\n",
       "      <td>0</td>\n",
       "      <td>0</td>\n",
       "      <td>0</td>\n",
       "      <td>0</td>\n",
       "      <td>0</td>\n",
       "      <td>0</td>\n",
       "      <td>1</td>\n",
       "      <td>miscellaneous shirt</td>\n",
       "      <td>NaN</td>\n",
       "    </tr>\n",
       "    <tr>\n",
       "      <th>3422</th>\n",
       "      <td>Maxine of Hollywood</td>\n",
       "      <td>.</td>\n",
       "      <td>5c5a6925aaa5b85fc3b76a58</td>\n",
       "      <td>Buy Now</td>\n",
       "      <td>Maxine of Hollywood Swimdress Size 12</td>\n",
       "      <td>https://poshmark.com/listing/Maxine-of-Hollywo...</td>\n",
       "      <td>54.0</td>\n",
       "      <td>26.0</td>\n",
       "      <td>Women</td>\n",
       "      <td>OnePieces</td>\n",
       "      <td>...</td>\n",
       "      <td>0</td>\n",
       "      <td>0</td>\n",
       "      <td>0</td>\n",
       "      <td>0</td>\n",
       "      <td>0</td>\n",
       "      <td>0</td>\n",
       "      <td>1</td>\n",
       "      <td>0</td>\n",
       "      <td>maxine of hollywood swimdress size 12</td>\n",
       "      <td>NaN</td>\n",
       "    </tr>\n",
       "    <tr>\n",
       "      <th>5003</th>\n",
       "      <td>Liz Claiborne</td>\n",
       "      <td>.</td>\n",
       "      <td>5c549902c9bf50179c49e725</td>\n",
       "      <td>Buy Now</td>\n",
       "      <td>LIZ CLAIBORNE</td>\n",
       "      <td>https://poshmark.com/listing/LIZ-CLAIBORNE-5c5...</td>\n",
       "      <td>48.0</td>\n",
       "      <td>7.0</td>\n",
       "      <td>Women</td>\n",
       "      <td>Crew&amp;ScoopNecks</td>\n",
       "      <td>...</td>\n",
       "      <td>0</td>\n",
       "      <td>0</td>\n",
       "      <td>0</td>\n",
       "      <td>0</td>\n",
       "      <td>0</td>\n",
       "      <td>1</td>\n",
       "      <td>0</td>\n",
       "      <td>0</td>\n",
       "      <td>liz claiborne</td>\n",
       "      <td>NaN</td>\n",
       "    </tr>\n",
       "    <tr>\n",
       "      <th>5558</th>\n",
       "      <td>NaN</td>\n",
       "      <td>-</td>\n",
       "      <td>5c53e2962e1478c2bc40be4e</td>\n",
       "      <td>Buy Now</td>\n",
       "      <td>The Beatles Tee</td>\n",
       "      <td>https://poshmark.com/listing/The-Beatles-Tee-5...</td>\n",
       "      <td>25.0</td>\n",
       "      <td>20.0</td>\n",
       "      <td>Women</td>\n",
       "      <td>Tees-ShortSleeve</td>\n",
       "      <td>...</td>\n",
       "      <td>0</td>\n",
       "      <td>0</td>\n",
       "      <td>0</td>\n",
       "      <td>0</td>\n",
       "      <td>0</td>\n",
       "      <td>0</td>\n",
       "      <td>0</td>\n",
       "      <td>1</td>\n",
       "      <td>the beatles tee</td>\n",
       "      <td>NaN</td>\n",
       "    </tr>\n",
       "  </tbody>\n",
       "</table>\n",
       "<p>5 rows × 28 columns</p>\n",
       "</div>"
      ],
      "text/plain": [
       "                    brand description                   item_id   status  \\\n",
       "591               Pandora           🤩  5c75f114951996e7c42404b4  Buy Now   \n",
       "810                   NaN           .  5c73161d035cf1ee818d617e  Buy Now   \n",
       "3422  Maxine of Hollywood           .  5c5a6925aaa5b85fc3b76a58  Buy Now   \n",
       "5003        Liz Claiborne           .  5c549902c9bf50179c49e725  Buy Now   \n",
       "5558                  NaN           -  5c53e2962e1478c2bc40be4e  Buy Now   \n",
       "\n",
       "                                              title  \\\n",
       "591   Authentic Very Rare Pandora Cell Phone Charm!   \n",
       "810                           Miscellaneous shirts.   \n",
       "3422       Maxine of Hollywood Swimdress Size 12      \n",
       "5003                               LIZ CLAIBORNE      \n",
       "5558                                The Beatles Tee   \n",
       "\n",
       "                                                    url  original_price  \\\n",
       "591   https://poshmark.com/listing/Authentic-Very-Ra...             0.0   \n",
       "810   https://poshmark.com/listing/Miscellaneous-shi...           200.0   \n",
       "3422  https://poshmark.com/listing/Maxine-of-Hollywo...            54.0   \n",
       "5003  https://poshmark.com/listing/LIZ-CLAIBORNE-5c5...            48.0   \n",
       "5558  https://poshmark.com/listing/The-Beatles-Tee-5...            25.0   \n",
       "\n",
       "      new_price  tag_1             tag_3        ...          tag_2_Makeup  \\\n",
       "591        50.0  Women         Bracelets        ...                     0   \n",
       "810        30.0  Women  Tees-ShortSleeve        ...                     0   \n",
       "3422       26.0  Women         OnePieces        ...                     0   \n",
       "5003        7.0  Women   Crew&ScoopNecks        ...                     0   \n",
       "5558       20.0  Women  Tees-ShortSleeve        ...                     0   \n",
       "\n",
       "      tag_2_Pants  tag_2_Shoes  tag_2_Shorts  tag_2_Skirts  tag_2_Sweaters  \\\n",
       "591             0            0             0             0               0   \n",
       "810             0            0             0             0               0   \n",
       "3422            0            0             0             0               0   \n",
       "5003            0            0             0             0               1   \n",
       "5558            0            0             0             0               0   \n",
       "\n",
       "      tag_2_Swim  tag_2_Tops                                   clean_title  \\\n",
       "591            0           0  authentic very rare pandora cell phone charm   \n",
       "810            0           1                           miscellaneous shirt   \n",
       "3422           1           0         maxine of hollywood swimdress size 12   \n",
       "5003           0           0                                 liz claiborne   \n",
       "5558           0           1                               the beatles tee   \n",
       "\n",
       "      clean_description  \n",
       "591                 NaN  \n",
       "810                 NaN  \n",
       "3422                NaN  \n",
       "5003                NaN  \n",
       "5558                NaN  \n",
       "\n",
       "[5 rows x 28 columns]"
      ]
     },
     "execution_count": 8,
     "metadata": {},
     "output_type": "execute_result"
    }
   ],
   "source": [
    "df[df['clean_description'].isnull()].head()"
   ]
  },
  {
   "cell_type": "code",
   "execution_count": 9,
   "metadata": {},
   "outputs": [],
   "source": [
    "# Replace null descriptions with a question mark\n",
    "df['clean_description'].fillna('?', inplace=True)"
   ]
  },
  {
   "cell_type": "code",
   "execution_count": 10,
   "metadata": {},
   "outputs": [],
   "source": [
    "# # Drop all rows under following condition & reset index\n",
    "# df = df[df['original_price'] > 3]\n",
    "# df.reset_index(inplace=True, drop=True)"
   ]
  },
  {
   "cell_type": "code",
   "execution_count": 11,
   "metadata": {},
   "outputs": [],
   "source": [
    "# Create `percent_change` column\n",
    "df['percent_off'] = 1 - (df['new_price']/df['original_price'])"
   ]
  },
  {
   "cell_type": "code",
   "execution_count": 12,
   "metadata": {
    "scrolled": true
   },
   "outputs": [
    {
     "data": {
      "text/html": [
       "<div>\n",
       "<style scoped>\n",
       "    .dataframe tbody tr th:only-of-type {\n",
       "        vertical-align: middle;\n",
       "    }\n",
       "\n",
       "    .dataframe tbody tr th {\n",
       "        vertical-align: top;\n",
       "    }\n",
       "\n",
       "    .dataframe thead th {\n",
       "        text-align: right;\n",
       "    }\n",
       "</style>\n",
       "<table border=\"1\" class=\"dataframe\">\n",
       "  <thead>\n",
       "    <tr style=\"text-align: right;\">\n",
       "      <th></th>\n",
       "      <th>brand</th>\n",
       "      <th>description</th>\n",
       "      <th>item_id</th>\n",
       "      <th>status</th>\n",
       "      <th>title</th>\n",
       "      <th>url</th>\n",
       "      <th>original_price</th>\n",
       "      <th>new_price</th>\n",
       "      <th>tag_1</th>\n",
       "      <th>tag_3</th>\n",
       "      <th>...</th>\n",
       "      <th>tag_2_Pants</th>\n",
       "      <th>tag_2_Shoes</th>\n",
       "      <th>tag_2_Shorts</th>\n",
       "      <th>tag_2_Skirts</th>\n",
       "      <th>tag_2_Sweaters</th>\n",
       "      <th>tag_2_Swim</th>\n",
       "      <th>tag_2_Tops</th>\n",
       "      <th>clean_title</th>\n",
       "      <th>clean_description</th>\n",
       "      <th>percent_off</th>\n",
       "    </tr>\n",
       "  </thead>\n",
       "  <tbody>\n",
       "    <tr>\n",
       "      <th>10271</th>\n",
       "      <td>Nike</td>\n",
       "      <td>NEW WOMENS NIKE AIR MAX 95’ SE GLITTER</td>\n",
       "      <td>5c48fe4003087c8aaef53fab</td>\n",
       "      <td>Buy Now</td>\n",
       "      <td>NEW WOMENS NIKE AIR MAX 95’ SE GLITTER</td>\n",
       "      <td>https://poshmark.com/listing/NEW-WOMENS-NIKE-A...</td>\n",
       "      <td>170.0</td>\n",
       "      <td>75.0</td>\n",
       "      <td>Women</td>\n",
       "      <td>Sneakers</td>\n",
       "      <td>...</td>\n",
       "      <td>0</td>\n",
       "      <td>1</td>\n",
       "      <td>0</td>\n",
       "      <td>0</td>\n",
       "      <td>0</td>\n",
       "      <td>0</td>\n",
       "      <td>0</td>\n",
       "      <td>new woman nike air max 95 se glitter</td>\n",
       "      <td>new woman nike air max 95 se glitter</td>\n",
       "      <td>0.558824</td>\n",
       "    </tr>\n",
       "  </tbody>\n",
       "</table>\n",
       "<p>1 rows × 29 columns</p>\n",
       "</div>"
      ],
      "text/plain": [
       "      brand                             description                   item_id  \\\n",
       "10271  Nike  NEW WOMENS NIKE AIR MAX 95’ SE GLITTER  5c48fe4003087c8aaef53fab   \n",
       "\n",
       "        status                                   title  \\\n",
       "10271  Buy Now  NEW WOMENS NIKE AIR MAX 95’ SE GLITTER   \n",
       "\n",
       "                                                     url  original_price  \\\n",
       "10271  https://poshmark.com/listing/NEW-WOMENS-NIKE-A...           170.0   \n",
       "\n",
       "       new_price  tag_1     tag_3     ...       tag_2_Pants  tag_2_Shoes  \\\n",
       "10271       75.0  Women  Sneakers     ...                 0            1   \n",
       "\n",
       "       tag_2_Shorts  tag_2_Skirts  tag_2_Sweaters  tag_2_Swim  tag_2_Tops  \\\n",
       "10271             0             0               0           0           0   \n",
       "\n",
       "                                clean_title  \\\n",
       "10271  new woman nike air max 95 se glitter   \n",
       "\n",
       "                          clean_description  percent_off  \n",
       "10271  new woman nike air max 95 se glitter     0.558824  \n",
       "\n",
       "[1 rows x 29 columns]"
      ]
     },
     "execution_count": 12,
     "metadata": {},
     "output_type": "execute_result"
    }
   ],
   "source": [
    "df.tail(1)"
   ]
  },
  {
   "cell_type": "code",
   "execution_count": 13,
   "metadata": {},
   "outputs": [],
   "source": [
    "# Create different buckets for percent change\n",
    "df['percent_off_bucket'] = pd.cut(df.percent_off, \n",
    "                                   [-1,0, 0.2, 0.4, 0.6, 0.8, 1.0],\n",
    "#                                 [-1,0, 0.1, 0.2, 0.3, 0.4, 0.5, 0.6, 0.7, 0.8, 0.9, 1.0],\n",
    "                                   include_lowest=True,\n",
    "                                    right=False)"
   ]
  },
  {
   "cell_type": "code",
   "execution_count": 14,
   "metadata": {},
   "outputs": [
    {
     "data": {
      "text/html": [
       "<div>\n",
       "<style scoped>\n",
       "    .dataframe tbody tr th:only-of-type {\n",
       "        vertical-align: middle;\n",
       "    }\n",
       "\n",
       "    .dataframe tbody tr th {\n",
       "        vertical-align: top;\n",
       "    }\n",
       "\n",
       "    .dataframe thead th {\n",
       "        text-align: right;\n",
       "    }\n",
       "</style>\n",
       "<table border=\"1\" class=\"dataframe\">\n",
       "  <thead>\n",
       "    <tr style=\"text-align: right;\">\n",
       "      <th></th>\n",
       "      <th>brand</th>\n",
       "      <th>description</th>\n",
       "      <th>item_id</th>\n",
       "      <th>status</th>\n",
       "      <th>title</th>\n",
       "      <th>url</th>\n",
       "      <th>original_price</th>\n",
       "      <th>new_price</th>\n",
       "      <th>tag_1</th>\n",
       "      <th>tag_3</th>\n",
       "      <th>...</th>\n",
       "      <th>tag_2_Shoes</th>\n",
       "      <th>tag_2_Shorts</th>\n",
       "      <th>tag_2_Skirts</th>\n",
       "      <th>tag_2_Sweaters</th>\n",
       "      <th>tag_2_Swim</th>\n",
       "      <th>tag_2_Tops</th>\n",
       "      <th>clean_title</th>\n",
       "      <th>clean_description</th>\n",
       "      <th>percent_off</th>\n",
       "      <th>percent_off_bucket</th>\n",
       "    </tr>\n",
       "  </thead>\n",
       "  <tbody>\n",
       "    <tr>\n",
       "      <th>0</th>\n",
       "      <td>Zenana Outfitters</td>\n",
       "      <td>Zenana Premium shirt, size large, came from a ...</td>\n",
       "      <td>5c76992f819e9019dc35783d</td>\n",
       "      <td>Buy Now</td>\n",
       "      <td>Zenana Premium shirt</td>\n",
       "      <td>https://poshmark.com/listing/Zenana-Premium-sh...</td>\n",
       "      <td>25.0</td>\n",
       "      <td>13.0</td>\n",
       "      <td>Women</td>\n",
       "      <td>Blouses</td>\n",
       "      <td>...</td>\n",
       "      <td>0</td>\n",
       "      <td>0</td>\n",
       "      <td>0</td>\n",
       "      <td>0</td>\n",
       "      <td>0</td>\n",
       "      <td>1</td>\n",
       "      <td>zenana premium shirt</td>\n",
       "      <td>zenana premium shirt size large came from a lo...</td>\n",
       "      <td>0.480000</td>\n",
       "      <td>[0.4, 0.6)</td>\n",
       "    </tr>\n",
       "    <tr>\n",
       "      <th>1</th>\n",
       "      <td>Dansko</td>\n",
       "      <td>Like New\\nOnly worn a few times\\nNo wear signs...</td>\n",
       "      <td>5c76989bfe5151cc53579bce</td>\n",
       "      <td>Buy Now</td>\n",
       "      <td>Dansko Black Leather Mary Janes</td>\n",
       "      <td>https://poshmark.com/listing/Dansko-Black-Leat...</td>\n",
       "      <td>0.0</td>\n",
       "      <td>25.0</td>\n",
       "      <td>Women</td>\n",
       "      <td>NaN</td>\n",
       "      <td>...</td>\n",
       "      <td>0</td>\n",
       "      <td>0</td>\n",
       "      <td>0</td>\n",
       "      <td>0</td>\n",
       "      <td>0</td>\n",
       "      <td>0</td>\n",
       "      <td>dansko black leather mary janes</td>\n",
       "      <td>like new only worn a few time no wear sign doe...</td>\n",
       "      <td>-inf</td>\n",
       "      <td>NaN</td>\n",
       "    </tr>\n",
       "    <tr>\n",
       "      <th>2</th>\n",
       "      <td>Matisse</td>\n",
       "      <td>Amazing pair of leopard print pony hair wedge ...</td>\n",
       "      <td>5c7694f9df03079e3a8c89cf</td>\n",
       "      <td>Buy Now</td>\n",
       "      <td>Matisse Leopard Wedge Bootie</td>\n",
       "      <td>https://poshmark.com/listing/Matisse-Leopard-W...</td>\n",
       "      <td>215.0</td>\n",
       "      <td>80.0</td>\n",
       "      <td>Women</td>\n",
       "      <td>AnkleBoots&amp;Booties</td>\n",
       "      <td>...</td>\n",
       "      <td>1</td>\n",
       "      <td>0</td>\n",
       "      <td>0</td>\n",
       "      <td>0</td>\n",
       "      <td>0</td>\n",
       "      <td>0</td>\n",
       "      <td>matisse leopard wedge bootie</td>\n",
       "      <td>amazing pair of leopard print pony hair wedge ...</td>\n",
       "      <td>0.627907</td>\n",
       "      <td>[0.6, 0.8)</td>\n",
       "    </tr>\n",
       "  </tbody>\n",
       "</table>\n",
       "<p>3 rows × 30 columns</p>\n",
       "</div>"
      ],
      "text/plain": [
       "               brand                                        description  \\\n",
       "0  Zenana Outfitters  Zenana Premium shirt, size large, came from a ...   \n",
       "1             Dansko  Like New\\nOnly worn a few times\\nNo wear signs...   \n",
       "2            Matisse  Amazing pair of leopard print pony hair wedge ...   \n",
       "\n",
       "                    item_id   status                            title  \\\n",
       "0  5c76992f819e9019dc35783d  Buy Now          Zenana Premium shirt      \n",
       "1  5c76989bfe5151cc53579bce  Buy Now  Dansko Black Leather Mary Janes   \n",
       "2  5c7694f9df03079e3a8c89cf  Buy Now     Matisse Leopard Wedge Bootie   \n",
       "\n",
       "                                                 url  original_price  \\\n",
       "0  https://poshmark.com/listing/Zenana-Premium-sh...            25.0   \n",
       "1  https://poshmark.com/listing/Dansko-Black-Leat...             0.0   \n",
       "2  https://poshmark.com/listing/Matisse-Leopard-W...           215.0   \n",
       "\n",
       "   new_price  tag_1               tag_3         ...          tag_2_Shoes  \\\n",
       "0       13.0  Women             Blouses         ...                    0   \n",
       "1       25.0  Women                 NaN         ...                    0   \n",
       "2       80.0  Women  AnkleBoots&Booties         ...                    1   \n",
       "\n",
       "   tag_2_Shorts  tag_2_Skirts  tag_2_Sweaters  tag_2_Swim  tag_2_Tops  \\\n",
       "0             0             0               0           0           1   \n",
       "1             0             0               0           0           0   \n",
       "2             0             0               0           0           0   \n",
       "\n",
       "                       clean_title  \\\n",
       "0             zenana premium shirt   \n",
       "1  dansko black leather mary janes   \n",
       "2     matisse leopard wedge bootie   \n",
       "\n",
       "                                   clean_description  percent_off  \\\n",
       "0  zenana premium shirt size large came from a lo...     0.480000   \n",
       "1  like new only worn a few time no wear sign doe...         -inf   \n",
       "2  amazing pair of leopard print pony hair wedge ...     0.627907   \n",
       "\n",
       "   percent_off_bucket  \n",
       "0          [0.4, 0.6)  \n",
       "1                 NaN  \n",
       "2          [0.6, 0.8)  \n",
       "\n",
       "[3 rows x 30 columns]"
      ]
     },
     "execution_count": 14,
     "metadata": {},
     "output_type": "execute_result"
    }
   ],
   "source": [
    "df.head(3)"
   ]
  },
  {
   "cell_type": "code",
   "execution_count": 15,
   "metadata": {},
   "outputs": [],
   "source": [
    "# Create category_id column\n",
    "df['category_id'] = df['percent_off_bucket'].factorize()[0]"
   ]
  },
  {
   "cell_type": "code",
   "execution_count": 16,
   "metadata": {},
   "outputs": [
    {
     "data": {
      "text/html": [
       "<div>\n",
       "<style scoped>\n",
       "    .dataframe tbody tr th:only-of-type {\n",
       "        vertical-align: middle;\n",
       "    }\n",
       "\n",
       "    .dataframe tbody tr th {\n",
       "        vertical-align: top;\n",
       "    }\n",
       "\n",
       "    .dataframe thead th {\n",
       "        text-align: right;\n",
       "    }\n",
       "</style>\n",
       "<table border=\"1\" class=\"dataframe\">\n",
       "  <thead>\n",
       "    <tr style=\"text-align: right;\">\n",
       "      <th></th>\n",
       "      <th>brand</th>\n",
       "      <th>description</th>\n",
       "      <th>item_id</th>\n",
       "      <th>status</th>\n",
       "      <th>title</th>\n",
       "      <th>url</th>\n",
       "      <th>original_price</th>\n",
       "      <th>new_price</th>\n",
       "      <th>tag_1</th>\n",
       "      <th>tag_3</th>\n",
       "      <th>...</th>\n",
       "      <th>tag_2_Shorts</th>\n",
       "      <th>tag_2_Skirts</th>\n",
       "      <th>tag_2_Sweaters</th>\n",
       "      <th>tag_2_Swim</th>\n",
       "      <th>tag_2_Tops</th>\n",
       "      <th>clean_title</th>\n",
       "      <th>clean_description</th>\n",
       "      <th>percent_off</th>\n",
       "      <th>percent_off_bucket</th>\n",
       "      <th>category_id</th>\n",
       "    </tr>\n",
       "  </thead>\n",
       "  <tbody>\n",
       "    <tr>\n",
       "      <th>0</th>\n",
       "      <td>Zenana Outfitters</td>\n",
       "      <td>Zenana Premium shirt, size large, came from a ...</td>\n",
       "      <td>5c76992f819e9019dc35783d</td>\n",
       "      <td>Buy Now</td>\n",
       "      <td>Zenana Premium shirt</td>\n",
       "      <td>https://poshmark.com/listing/Zenana-Premium-sh...</td>\n",
       "      <td>25.0</td>\n",
       "      <td>13.0</td>\n",
       "      <td>Women</td>\n",
       "      <td>Blouses</td>\n",
       "      <td>...</td>\n",
       "      <td>0</td>\n",
       "      <td>0</td>\n",
       "      <td>0</td>\n",
       "      <td>0</td>\n",
       "      <td>1</td>\n",
       "      <td>zenana premium shirt</td>\n",
       "      <td>zenana premium shirt size large came from a lo...</td>\n",
       "      <td>0.480000</td>\n",
       "      <td>[0.4, 0.6)</td>\n",
       "      <td>0</td>\n",
       "    </tr>\n",
       "    <tr>\n",
       "      <th>1</th>\n",
       "      <td>Dansko</td>\n",
       "      <td>Like New\\nOnly worn a few times\\nNo wear signs...</td>\n",
       "      <td>5c76989bfe5151cc53579bce</td>\n",
       "      <td>Buy Now</td>\n",
       "      <td>Dansko Black Leather Mary Janes</td>\n",
       "      <td>https://poshmark.com/listing/Dansko-Black-Leat...</td>\n",
       "      <td>0.0</td>\n",
       "      <td>25.0</td>\n",
       "      <td>Women</td>\n",
       "      <td>NaN</td>\n",
       "      <td>...</td>\n",
       "      <td>0</td>\n",
       "      <td>0</td>\n",
       "      <td>0</td>\n",
       "      <td>0</td>\n",
       "      <td>0</td>\n",
       "      <td>dansko black leather mary janes</td>\n",
       "      <td>like new only worn a few time no wear sign doe...</td>\n",
       "      <td>-inf</td>\n",
       "      <td>NaN</td>\n",
       "      <td>-1</td>\n",
       "    </tr>\n",
       "    <tr>\n",
       "      <th>2</th>\n",
       "      <td>Matisse</td>\n",
       "      <td>Amazing pair of leopard print pony hair wedge ...</td>\n",
       "      <td>5c7694f9df03079e3a8c89cf</td>\n",
       "      <td>Buy Now</td>\n",
       "      <td>Matisse Leopard Wedge Bootie</td>\n",
       "      <td>https://poshmark.com/listing/Matisse-Leopard-W...</td>\n",
       "      <td>215.0</td>\n",
       "      <td>80.0</td>\n",
       "      <td>Women</td>\n",
       "      <td>AnkleBoots&amp;Booties</td>\n",
       "      <td>...</td>\n",
       "      <td>0</td>\n",
       "      <td>0</td>\n",
       "      <td>0</td>\n",
       "      <td>0</td>\n",
       "      <td>0</td>\n",
       "      <td>matisse leopard wedge bootie</td>\n",
       "      <td>amazing pair of leopard print pony hair wedge ...</td>\n",
       "      <td>0.627907</td>\n",
       "      <td>[0.6, 0.8)</td>\n",
       "      <td>1</td>\n",
       "    </tr>\n",
       "    <tr>\n",
       "      <th>3</th>\n",
       "      <td>RACHEL Rachel Roy</td>\n",
       "      <td>NWOT never worn \\nDark blue with a fun Print a...</td>\n",
       "      <td>5c76988b2beb796fd0bc2e98</td>\n",
       "      <td>Buy Now</td>\n",
       "      <td>Label Rachel Roy Pumps 👠!!!</td>\n",
       "      <td>https://poshmark.com/listing/Label-Rachel-Roy-...</td>\n",
       "      <td>90.0</td>\n",
       "      <td>20.0</td>\n",
       "      <td>Women</td>\n",
       "      <td>Heels</td>\n",
       "      <td>...</td>\n",
       "      <td>0</td>\n",
       "      <td>0</td>\n",
       "      <td>0</td>\n",
       "      <td>0</td>\n",
       "      <td>0</td>\n",
       "      <td>label rachel roy pump</td>\n",
       "      <td>nwot never worn dark blue with a fun print and...</td>\n",
       "      <td>0.777778</td>\n",
       "      <td>[0.6, 0.8)</td>\n",
       "      <td>1</td>\n",
       "    </tr>\n",
       "    <tr>\n",
       "      <th>4</th>\n",
       "      <td>Vineyard Vines</td>\n",
       "      <td>NWOT..SOOO NICE..WHITE W/PINK SHELLS STRETCH J...</td>\n",
       "      <td>5c7699116a0bb7e69816a8d8</td>\n",
       "      <td>Buy Now</td>\n",
       "      <td>VINEYARD VINES..NWOT..SIZE 6</td>\n",
       "      <td>https://poshmark.com/listing/VINEYARD-VINESNWO...</td>\n",
       "      <td>108.0</td>\n",
       "      <td>45.0</td>\n",
       "      <td>Women</td>\n",
       "      <td>Ankle&amp;Cropped</td>\n",
       "      <td>...</td>\n",
       "      <td>0</td>\n",
       "      <td>0</td>\n",
       "      <td>0</td>\n",
       "      <td>0</td>\n",
       "      <td>0</td>\n",
       "      <td>vineyard vine nwot size 6</td>\n",
       "      <td>nwot sooo nice white w pink shell stretch jean...</td>\n",
       "      <td>0.583333</td>\n",
       "      <td>[0.4, 0.6)</td>\n",
       "      <td>0</td>\n",
       "    </tr>\n",
       "  </tbody>\n",
       "</table>\n",
       "<p>5 rows × 31 columns</p>\n",
       "</div>"
      ],
      "text/plain": [
       "               brand                                        description  \\\n",
       "0  Zenana Outfitters  Zenana Premium shirt, size large, came from a ...   \n",
       "1             Dansko  Like New\\nOnly worn a few times\\nNo wear signs...   \n",
       "2            Matisse  Amazing pair of leopard print pony hair wedge ...   \n",
       "3  RACHEL Rachel Roy  NWOT never worn \\nDark blue with a fun Print a...   \n",
       "4     Vineyard Vines  NWOT..SOOO NICE..WHITE W/PINK SHELLS STRETCH J...   \n",
       "\n",
       "                    item_id   status                            title  \\\n",
       "0  5c76992f819e9019dc35783d  Buy Now          Zenana Premium shirt      \n",
       "1  5c76989bfe5151cc53579bce  Buy Now  Dansko Black Leather Mary Janes   \n",
       "2  5c7694f9df03079e3a8c89cf  Buy Now     Matisse Leopard Wedge Bootie   \n",
       "3  5c76988b2beb796fd0bc2e98  Buy Now      Label Rachel Roy Pumps 👠!!!   \n",
       "4  5c7699116a0bb7e69816a8d8  Buy Now     VINEYARD VINES..NWOT..SIZE 6   \n",
       "\n",
       "                                                 url  original_price  \\\n",
       "0  https://poshmark.com/listing/Zenana-Premium-sh...            25.0   \n",
       "1  https://poshmark.com/listing/Dansko-Black-Leat...             0.0   \n",
       "2  https://poshmark.com/listing/Matisse-Leopard-W...           215.0   \n",
       "3  https://poshmark.com/listing/Label-Rachel-Roy-...            90.0   \n",
       "4  https://poshmark.com/listing/VINEYARD-VINESNWO...           108.0   \n",
       "\n",
       "   new_price  tag_1               tag_3     ...       tag_2_Shorts  \\\n",
       "0       13.0  Women             Blouses     ...                  0   \n",
       "1       25.0  Women                 NaN     ...                  0   \n",
       "2       80.0  Women  AnkleBoots&Booties     ...                  0   \n",
       "3       20.0  Women               Heels     ...                  0   \n",
       "4       45.0  Women       Ankle&Cropped     ...                  0   \n",
       "\n",
       "   tag_2_Skirts  tag_2_Sweaters  tag_2_Swim  tag_2_Tops  \\\n",
       "0             0               0           0           1   \n",
       "1             0               0           0           0   \n",
       "2             0               0           0           0   \n",
       "3             0               0           0           0   \n",
       "4             0               0           0           0   \n",
       "\n",
       "                       clean_title  \\\n",
       "0             zenana premium shirt   \n",
       "1  dansko black leather mary janes   \n",
       "2     matisse leopard wedge bootie   \n",
       "3            label rachel roy pump   \n",
       "4        vineyard vine nwot size 6   \n",
       "\n",
       "                                   clean_description  percent_off  \\\n",
       "0  zenana premium shirt size large came from a lo...     0.480000   \n",
       "1  like new only worn a few time no wear sign doe...         -inf   \n",
       "2  amazing pair of leopard print pony hair wedge ...     0.627907   \n",
       "3  nwot never worn dark blue with a fun print and...     0.777778   \n",
       "4  nwot sooo nice white w pink shell stretch jean...     0.583333   \n",
       "\n",
       "   percent_off_bucket  category_id  \n",
       "0          [0.4, 0.6)            0  \n",
       "1                 NaN           -1  \n",
       "2          [0.6, 0.8)            1  \n",
       "3          [0.6, 0.8)            1  \n",
       "4          [0.4, 0.6)            0  \n",
       "\n",
       "[5 rows x 31 columns]"
      ]
     },
     "execution_count": 16,
     "metadata": {},
     "output_type": "execute_result"
    }
   ],
   "source": [
    "df.head()"
   ]
  },
  {
   "cell_type": "code",
   "execution_count": 17,
   "metadata": {},
   "outputs": [],
   "source": [
    "# Cleaning\n",
    "category_id_df = df[['percent_off_bucket', \n",
    "                     'category_id']].drop_duplicates().sort_values('category_id')\n"
   ]
  },
  {
   "cell_type": "code",
   "execution_count": 18,
   "metadata": {},
   "outputs": [],
   "source": [
    "# Create dict\n",
    "category_to_id = dict(category_id_df.items())\n",
    "\n",
    "id_to_category = dict(category_id_df[['category_id', \n",
    "                                      'percent_off_bucket']].values)\n"
   ]
  },
  {
   "cell_type": "code",
   "execution_count": 19,
   "metadata": {},
   "outputs": [
    {
     "data": {
      "text/html": [
       "<div>\n",
       "<style scoped>\n",
       "    .dataframe tbody tr th:only-of-type {\n",
       "        vertical-align: middle;\n",
       "    }\n",
       "\n",
       "    .dataframe tbody tr th {\n",
       "        vertical-align: top;\n",
       "    }\n",
       "\n",
       "    .dataframe thead th {\n",
       "        text-align: right;\n",
       "    }\n",
       "</style>\n",
       "<table border=\"1\" class=\"dataframe\">\n",
       "  <thead>\n",
       "    <tr style=\"text-align: right;\">\n",
       "      <th></th>\n",
       "      <th>brand</th>\n",
       "      <th>description</th>\n",
       "      <th>item_id</th>\n",
       "      <th>status</th>\n",
       "      <th>title</th>\n",
       "      <th>url</th>\n",
       "      <th>original_price</th>\n",
       "      <th>new_price</th>\n",
       "      <th>tag_1</th>\n",
       "      <th>tag_3</th>\n",
       "      <th>...</th>\n",
       "      <th>tag_2_Shorts</th>\n",
       "      <th>tag_2_Skirts</th>\n",
       "      <th>tag_2_Sweaters</th>\n",
       "      <th>tag_2_Swim</th>\n",
       "      <th>tag_2_Tops</th>\n",
       "      <th>clean_title</th>\n",
       "      <th>clean_description</th>\n",
       "      <th>percent_off</th>\n",
       "      <th>percent_off_bucket</th>\n",
       "      <th>category_id</th>\n",
       "    </tr>\n",
       "  </thead>\n",
       "  <tbody>\n",
       "    <tr>\n",
       "      <th>0</th>\n",
       "      <td>Zenana Outfitters</td>\n",
       "      <td>Zenana Premium shirt, size large, came from a ...</td>\n",
       "      <td>5c76992f819e9019dc35783d</td>\n",
       "      <td>Buy Now</td>\n",
       "      <td>Zenana Premium shirt</td>\n",
       "      <td>https://poshmark.com/listing/Zenana-Premium-sh...</td>\n",
       "      <td>25.0</td>\n",
       "      <td>13.0</td>\n",
       "      <td>Women</td>\n",
       "      <td>Blouses</td>\n",
       "      <td>...</td>\n",
       "      <td>0</td>\n",
       "      <td>0</td>\n",
       "      <td>0</td>\n",
       "      <td>0</td>\n",
       "      <td>1</td>\n",
       "      <td>zenana premium shirt</td>\n",
       "      <td>zenana premium shirt size large came from a lo...</td>\n",
       "      <td>0.480000</td>\n",
       "      <td>[0.4, 0.6)</td>\n",
       "      <td>0</td>\n",
       "    </tr>\n",
       "    <tr>\n",
       "      <th>1</th>\n",
       "      <td>Dansko</td>\n",
       "      <td>Like New\\nOnly worn a few times\\nNo wear signs...</td>\n",
       "      <td>5c76989bfe5151cc53579bce</td>\n",
       "      <td>Buy Now</td>\n",
       "      <td>Dansko Black Leather Mary Janes</td>\n",
       "      <td>https://poshmark.com/listing/Dansko-Black-Leat...</td>\n",
       "      <td>0.0</td>\n",
       "      <td>25.0</td>\n",
       "      <td>Women</td>\n",
       "      <td>NaN</td>\n",
       "      <td>...</td>\n",
       "      <td>0</td>\n",
       "      <td>0</td>\n",
       "      <td>0</td>\n",
       "      <td>0</td>\n",
       "      <td>0</td>\n",
       "      <td>dansko black leather mary janes</td>\n",
       "      <td>like new only worn a few time no wear sign doe...</td>\n",
       "      <td>-inf</td>\n",
       "      <td>NaN</td>\n",
       "      <td>-1</td>\n",
       "    </tr>\n",
       "    <tr>\n",
       "      <th>2</th>\n",
       "      <td>Matisse</td>\n",
       "      <td>Amazing pair of leopard print pony hair wedge ...</td>\n",
       "      <td>5c7694f9df03079e3a8c89cf</td>\n",
       "      <td>Buy Now</td>\n",
       "      <td>Matisse Leopard Wedge Bootie</td>\n",
       "      <td>https://poshmark.com/listing/Matisse-Leopard-W...</td>\n",
       "      <td>215.0</td>\n",
       "      <td>80.0</td>\n",
       "      <td>Women</td>\n",
       "      <td>AnkleBoots&amp;Booties</td>\n",
       "      <td>...</td>\n",
       "      <td>0</td>\n",
       "      <td>0</td>\n",
       "      <td>0</td>\n",
       "      <td>0</td>\n",
       "      <td>0</td>\n",
       "      <td>matisse leopard wedge bootie</td>\n",
       "      <td>amazing pair of leopard print pony hair wedge ...</td>\n",
       "      <td>0.627907</td>\n",
       "      <td>[0.6, 0.8)</td>\n",
       "      <td>1</td>\n",
       "    </tr>\n",
       "    <tr>\n",
       "      <th>3</th>\n",
       "      <td>RACHEL Rachel Roy</td>\n",
       "      <td>NWOT never worn \\nDark blue with a fun Print a...</td>\n",
       "      <td>5c76988b2beb796fd0bc2e98</td>\n",
       "      <td>Buy Now</td>\n",
       "      <td>Label Rachel Roy Pumps 👠!!!</td>\n",
       "      <td>https://poshmark.com/listing/Label-Rachel-Roy-...</td>\n",
       "      <td>90.0</td>\n",
       "      <td>20.0</td>\n",
       "      <td>Women</td>\n",
       "      <td>Heels</td>\n",
       "      <td>...</td>\n",
       "      <td>0</td>\n",
       "      <td>0</td>\n",
       "      <td>0</td>\n",
       "      <td>0</td>\n",
       "      <td>0</td>\n",
       "      <td>label rachel roy pump</td>\n",
       "      <td>nwot never worn dark blue with a fun print and...</td>\n",
       "      <td>0.777778</td>\n",
       "      <td>[0.6, 0.8)</td>\n",
       "      <td>1</td>\n",
       "    </tr>\n",
       "    <tr>\n",
       "      <th>4</th>\n",
       "      <td>Vineyard Vines</td>\n",
       "      <td>NWOT..SOOO NICE..WHITE W/PINK SHELLS STRETCH J...</td>\n",
       "      <td>5c7699116a0bb7e69816a8d8</td>\n",
       "      <td>Buy Now</td>\n",
       "      <td>VINEYARD VINES..NWOT..SIZE 6</td>\n",
       "      <td>https://poshmark.com/listing/VINEYARD-VINESNWO...</td>\n",
       "      <td>108.0</td>\n",
       "      <td>45.0</td>\n",
       "      <td>Women</td>\n",
       "      <td>Ankle&amp;Cropped</td>\n",
       "      <td>...</td>\n",
       "      <td>0</td>\n",
       "      <td>0</td>\n",
       "      <td>0</td>\n",
       "      <td>0</td>\n",
       "      <td>0</td>\n",
       "      <td>vineyard vine nwot size 6</td>\n",
       "      <td>nwot sooo nice white w pink shell stretch jean...</td>\n",
       "      <td>0.583333</td>\n",
       "      <td>[0.4, 0.6)</td>\n",
       "      <td>0</td>\n",
       "    </tr>\n",
       "  </tbody>\n",
       "</table>\n",
       "<p>5 rows × 31 columns</p>\n",
       "</div>"
      ],
      "text/plain": [
       "               brand                                        description  \\\n",
       "0  Zenana Outfitters  Zenana Premium shirt, size large, came from a ...   \n",
       "1             Dansko  Like New\\nOnly worn a few times\\nNo wear signs...   \n",
       "2            Matisse  Amazing pair of leopard print pony hair wedge ...   \n",
       "3  RACHEL Rachel Roy  NWOT never worn \\nDark blue with a fun Print a...   \n",
       "4     Vineyard Vines  NWOT..SOOO NICE..WHITE W/PINK SHELLS STRETCH J...   \n",
       "\n",
       "                    item_id   status                            title  \\\n",
       "0  5c76992f819e9019dc35783d  Buy Now          Zenana Premium shirt      \n",
       "1  5c76989bfe5151cc53579bce  Buy Now  Dansko Black Leather Mary Janes   \n",
       "2  5c7694f9df03079e3a8c89cf  Buy Now     Matisse Leopard Wedge Bootie   \n",
       "3  5c76988b2beb796fd0bc2e98  Buy Now      Label Rachel Roy Pumps 👠!!!   \n",
       "4  5c7699116a0bb7e69816a8d8  Buy Now     VINEYARD VINES..NWOT..SIZE 6   \n",
       "\n",
       "                                                 url  original_price  \\\n",
       "0  https://poshmark.com/listing/Zenana-Premium-sh...            25.0   \n",
       "1  https://poshmark.com/listing/Dansko-Black-Leat...             0.0   \n",
       "2  https://poshmark.com/listing/Matisse-Leopard-W...           215.0   \n",
       "3  https://poshmark.com/listing/Label-Rachel-Roy-...            90.0   \n",
       "4  https://poshmark.com/listing/VINEYARD-VINESNWO...           108.0   \n",
       "\n",
       "   new_price  tag_1               tag_3     ...       tag_2_Shorts  \\\n",
       "0       13.0  Women             Blouses     ...                  0   \n",
       "1       25.0  Women                 NaN     ...                  0   \n",
       "2       80.0  Women  AnkleBoots&Booties     ...                  0   \n",
       "3       20.0  Women               Heels     ...                  0   \n",
       "4       45.0  Women       Ankle&Cropped     ...                  0   \n",
       "\n",
       "   tag_2_Skirts  tag_2_Sweaters  tag_2_Swim  tag_2_Tops  \\\n",
       "0             0               0           0           1   \n",
       "1             0               0           0           0   \n",
       "2             0               0           0           0   \n",
       "3             0               0           0           0   \n",
       "4             0               0           0           0   \n",
       "\n",
       "                       clean_title  \\\n",
       "0             zenana premium shirt   \n",
       "1  dansko black leather mary janes   \n",
       "2     matisse leopard wedge bootie   \n",
       "3            label rachel roy pump   \n",
       "4        vineyard vine nwot size 6   \n",
       "\n",
       "                                   clean_description  percent_off  \\\n",
       "0  zenana premium shirt size large came from a lo...     0.480000   \n",
       "1  like new only worn a few time no wear sign doe...         -inf   \n",
       "2  amazing pair of leopard print pony hair wedge ...     0.627907   \n",
       "3  nwot never worn dark blue with a fun print and...     0.777778   \n",
       "4  nwot sooo nice white w pink shell stretch jean...     0.583333   \n",
       "\n",
       "   percent_off_bucket  category_id  \n",
       "0          [0.4, 0.6)            0  \n",
       "1                 NaN           -1  \n",
       "2          [0.6, 0.8)            1  \n",
       "3          [0.6, 0.8)            1  \n",
       "4          [0.4, 0.6)            0  \n",
       "\n",
       "[5 rows x 31 columns]"
      ]
     },
     "execution_count": 19,
     "metadata": {},
     "output_type": "execute_result"
    }
   ],
   "source": [
    "df.head()"
   ]
  },
  {
   "cell_type": "code",
   "execution_count": 20,
   "metadata": {
    "scrolled": false
   },
   "outputs": [
    {
     "data": {
      "image/png": "[encoded data removed]",
      "text/plain": [
       "<Figure size 432x576 with 1 Axes>"
      ]
     },
     "metadata": {},
     "output_type": "display_data"
    }
   ],
   "source": [
    "plt.figure(figsize=[6,8])\n",
    "plt.title('Frequency of Discount Ranges')\n",
    "\n",
    "df.groupby('percent_off_bucket').clean_description.count().plot.bar(ylim=0)\n",
    "\n",
    "plt.show();"
   ]
  },
  {
   "cell_type": "markdown",
   "metadata": {},
   "source": [
    "#### `train_test_split`"
   ]
  },
  {
   "cell_type": "code",
   "execution_count": 21,
   "metadata": {},
   "outputs": [],
   "source": [
    "cols = list(df.columns)"
   ]
  },
  {
   "cell_type": "code",
   "execution_count": 22,
   "metadata": {},
   "outputs": [],
   "source": [
    "variables = cols[10:28]"
   ]
  },
  {
   "cell_type": "code",
   "execution_count": 23,
   "metadata": {},
   "outputs": [
    {
     "data": {
      "text/plain": [
       "['title_emoji',\n",
       " 'description_emoji',\n",
       " 'tag_2_Bags',\n",
       " 'tag_2_Dresses',\n",
       " 'tag_2_Intimates&Sleepwear',\n",
       " 'tag_2_Jackets&Coats',\n",
       " 'tag_2_Jeans',\n",
       " 'tag_2_Jewelry',\n",
       " 'tag_2_Makeup',\n",
       " 'tag_2_Pants',\n",
       " 'tag_2_Shoes',\n",
       " 'tag_2_Shorts',\n",
       " 'tag_2_Skirts',\n",
       " 'tag_2_Sweaters',\n",
       " 'tag_2_Swim',\n",
       " 'tag_2_Tops',\n",
       " 'clean_title',\n",
       " 'clean_description']"
      ]
     },
     "execution_count": 23,
     "metadata": {},
     "output_type": "execute_result"
    }
   ],
   "source": [
    "variables"
   ]
  },
  {
   "cell_type": "code",
   "execution_count": 24,
   "metadata": {},
   "outputs": [],
   "source": [
    "X = df['clean_description']\n",
    "y = df['category_id']"
   ]
  },
  {
   "cell_type": "code",
   "execution_count": 25,
   "metadata": {},
   "outputs": [],
   "source": [
    "X_train, X_test, y_train, y_test = train_test_split(X, \n",
    "                                                   y,\n",
    "                                                   random_state=42)"
   ]
  },
  {
   "cell_type": "markdown",
   "metadata": {},
   "source": [
    "#### `CountVectorizer()`"
   ]
  },
  {
   "cell_type": "code",
   "execution_count": 26,
   "metadata": {},
   "outputs": [],
   "source": [
    "count_vect = CountVectorizer(ngram_range=(1, 2))\n",
    "\n",
    "X_train_vect = count_vect.fit_transform(X_train)\n",
    "X_test_vect = count_vect.transform(X_test)"
   ]
  },
  {
   "cell_type": "markdown",
   "metadata": {},
   "source": [
    "#### `Logistic Regression`"
   ]
  },
  {
   "cell_type": "code",
   "execution_count": 27,
   "metadata": {},
   "outputs": [],
   "source": [
    "tfv = TfidfVectorizer(min_df=2,\n",
    "                     max_features=None,\n",
    "                     strip_accents='unicode',\n",
    "                     analyzer='word',\n",
    "                     token_pattern=r'\\w{1,}',\n",
    "                     ngram_range=(1,3),\n",
    "                     use_idf=1,\n",
    "                     smooth_idf=1,\n",
    "                     sublinear_tf=1,\n",
    "                     stop_words='english')"
   ]
  },
  {
   "cell_type": "code",
   "execution_count": 28,
   "metadata": {},
   "outputs": [],
   "source": [
    "X_train_tfv = tfv.fit(X_train)\n",
    "X_test_tfv = tfv.fit(X_test)"
   ]
  },
  {
   "cell_type": "code",
   "execution_count": 29,
   "metadata": {},
   "outputs": [
    {
     "data": {
      "text/plain": [
       "(7704,)"
      ]
     },
     "execution_count": 29,
     "metadata": {},
     "output_type": "execute_result"
    }
   ],
   "source": [
    "y_train.shape"
   ]
  },
  {
   "cell_type": "code",
   "execution_count": 30,
   "metadata": {},
   "outputs": [],
   "source": [
    "X_train_tfv = tfv.fit_transform(X_train)\n",
    "X_test_tfv = tfv.transform(X_test)"
   ]
  },
  {
   "cell_type": "code",
   "execution_count": 31,
   "metadata": {},
   "outputs": [
    {
     "data": {
      "text/plain": [
       "{-1, 0, 1, 2, 3, 4, 5}"
      ]
     },
     "execution_count": 31,
     "metadata": {},
     "output_type": "execute_result"
    }
   ],
   "source": [
    "set(y_train)"
   ]
  },
  {
   "cell_type": "code",
   "execution_count": 32,
   "metadata": {},
   "outputs": [],
   "source": [
    "y_train=y_train.astype('str')\n",
    "y_test=y_test.astype('str')"
   ]
  },
  {
   "cell_type": "code",
   "execution_count": 33,
   "metadata": {},
   "outputs": [
    {
     "data": {
      "text/plain": [
       "LogisticRegression(C=1.0, class_weight=None, dual=False, fit_intercept=True,\n",
       "          intercept_scaling=1, max_iter=100, multi_class='ovr', n_jobs=1,\n",
       "          penalty='l2', random_state=None, solver='liblinear', tol=0.0001,\n",
       "          verbose=0, warm_start=False)"
      ]
     },
     "execution_count": 33,
     "metadata": {},
     "output_type": "execute_result"
    }
   ],
   "source": [
    "lr = LogisticRegression()\n",
    "lr.fit(X_train_tfv, y_train)"
   ]
  },
  {
   "cell_type": "code",
   "execution_count": 34,
   "metadata": {},
   "outputs": [
    {
     "data": {
      "text/plain": [
       "0.661993769470405"
      ]
     },
     "execution_count": 34,
     "metadata": {},
     "output_type": "execute_result"
    }
   ],
   "source": [
    "lr.score(X_train_tfv, y_train)"
   ]
  },
  {
   "cell_type": "code",
   "execution_count": 35,
   "metadata": {},
   "outputs": [
    {
     "data": {
      "text/plain": [
       "0.3317757009345794"
      ]
     },
     "execution_count": 35,
     "metadata": {},
     "output_type": "execute_result"
    }
   ],
   "source": [
    "lr.score(X_test_tfv, y_test)"
   ]
  },
  {
   "cell_type": "code",
   "execution_count": 36,
   "metadata": {},
   "outputs": [],
   "source": [
    "y_pred = lr.predict(X_test_tfv)"
   ]
  },
  {
   "cell_type": "code",
   "execution_count": 37,
   "metadata": {},
   "outputs": [
    {
     "data": {
      "text/plain": [
       "0.3317757009345794"
      ]
     },
     "execution_count": 37,
     "metadata": {},
     "output_type": "execute_result"
    }
   ],
   "source": [
    "accuracy_score(y_test, y_pred)"
   ]
  },
  {
   "cell_type": "markdown",
   "metadata": {},
   "source": [
    "#### `DecisionTreeeClassifier()`"
   ]
  },
  {
   "cell_type": "code",
   "execution_count": 38,
   "metadata": {},
   "outputs": [],
   "source": [
    "tree = DecisionTreeClassifier(criterion='gini',\n",
    "                             min_samples_split=100,\n",
    "                             min_samples_leaf=100,\n",
    "                             max_depth=100)"
   ]
  },
  {
   "cell_type": "code",
   "execution_count": 39,
   "metadata": {},
   "outputs": [
    {
     "data": {
      "text/plain": [
       "DecisionTreeClassifier(class_weight=None, criterion='gini', max_depth=100,\n",
       "            max_features=None, max_leaf_nodes=None,\n",
       "            min_impurity_decrease=0.0, min_impurity_split=None,\n",
       "            min_samples_leaf=100, min_samples_split=100,\n",
       "            min_weight_fraction_leaf=0.0, presort=False, random_state=None,\n",
       "            splitter='best')"
      ]
     },
     "execution_count": 39,
     "metadata": {},
     "output_type": "execute_result"
    }
   ],
   "source": [
    "tree.fit(X_train_vect, y_train)"
   ]
  },
  {
   "cell_type": "code",
   "execution_count": 40,
   "metadata": {},
   "outputs": [
    {
     "data": {
      "text/plain": [
       "0.3417705088265836"
      ]
     },
     "execution_count": 40,
     "metadata": {},
     "output_type": "execute_result"
    }
   ],
   "source": [
    "tree.score(X_train_vect, y_train)"
   ]
  },
  {
   "cell_type": "code",
   "execution_count": 41,
   "metadata": {
    "scrolled": true
   },
   "outputs": [
    {
     "data": {
      "text/plain": [
       "0.30568535825545173"
      ]
     },
     "execution_count": 41,
     "metadata": {},
     "output_type": "execute_result"
    }
   ],
   "source": [
    "tree.score(X_test_vect, y_test)"
   ]
  },
  {
   "cell_type": "markdown",
   "metadata": {},
   "source": [
    "#### `Logistic Regression`"
   ]
  },
  {
   "cell_type": "code",
   "execution_count": 42,
   "metadata": {},
   "outputs": [],
   "source": [
    "tfv = TfidfVectorizer(min_df=2,\n",
    "                     max_features=None,\n",
    "                     strip_accents='unicode',\n",
    "                     analyzer='word',\n",
    "                     token_pattern=r'\\w{1,}',\n",
    "                     ngram_range=(1,3),\n",
    "                     use_idf=1,\n",
    "                     smooth_idf=1,\n",
    "                     sublinear_tf=1,\n",
    "                     stop_words='english')"
   ]
  },
  {
   "cell_type": "code",
   "execution_count": 43,
   "metadata": {},
   "outputs": [],
   "source": [
    "X_train_tfv = tfv.fit(X_train)\n",
    "X_test_tfv = tfv.fit(X_test)"
   ]
  },
  {
   "cell_type": "code",
   "execution_count": 44,
   "metadata": {},
   "outputs": [
    {
     "data": {
      "text/plain": [
       "(7704,)"
      ]
     },
     "execution_count": 44,
     "metadata": {},
     "output_type": "execute_result"
    }
   ],
   "source": [
    "y_train.shape"
   ]
  },
  {
   "cell_type": "code",
   "execution_count": 45,
   "metadata": {},
   "outputs": [],
   "source": [
    "X_train_tfv = tfv.fit_transform(X_train)\n",
    "X_test_tfv = tfv.transform(X_test)"
   ]
  },
  {
   "cell_type": "code",
   "execution_count": 46,
   "metadata": {},
   "outputs": [
    {
     "data": {
      "text/plain": [
       "{'-1', '0', '1', '2', '3', '4', '5'}"
      ]
     },
     "execution_count": 46,
     "metadata": {},
     "output_type": "execute_result"
    }
   ],
   "source": [
    "set(y_train)"
   ]
  },
  {
   "cell_type": "code",
   "execution_count": 47,
   "metadata": {},
   "outputs": [],
   "source": [
    "y_train=y_train.astype('str')\n",
    "y_test=y_test.astype('str')"
   ]
  },
  {
   "cell_type": "code",
   "execution_count": 48,
   "metadata": {},
   "outputs": [
    {
     "data": {
      "text/plain": [
       "LogisticRegression(C=1.0, class_weight=None, dual=False, fit_intercept=True,\n",
       "          intercept_scaling=1, max_iter=100, multi_class='ovr', n_jobs=1,\n",
       "          penalty='l2', random_state=None, solver='liblinear', tol=0.0001,\n",
       "          verbose=0, warm_start=False)"
      ]
     },
     "execution_count": 48,
     "metadata": {},
     "output_type": "execute_result"
    }
   ],
   "source": [
    "lr = LogisticRegression()\n",
    "lr.fit(X_train_tfv, y_train)"
   ]
  },
  {
   "cell_type": "code",
   "execution_count": 49,
   "metadata": {},
   "outputs": [
    {
     "data": {
      "text/plain": [
       "0.661993769470405"
      ]
     },
     "execution_count": 49,
     "metadata": {},
     "output_type": "execute_result"
    }
   ],
   "source": [
    "lr.score(X_train_tfv, y_train)"
   ]
  },
  {
   "cell_type": "code",
   "execution_count": 50,
   "metadata": {},
   "outputs": [
    {
     "data": {
      "text/plain": [
       "0.3317757009345794"
      ]
     },
     "execution_count": 50,
     "metadata": {},
     "output_type": "execute_result"
    }
   ],
   "source": [
    "lr.score(X_test_tfv, y_test)"
   ]
  },
  {
   "cell_type": "code",
   "execution_count": 51,
   "metadata": {},
   "outputs": [],
   "source": [
    "y_pred = lr.predict(X_test_tfv)"
   ]
  },
  {
   "cell_type": "code",
   "execution_count": 52,
   "metadata": {},
   "outputs": [
    {
     "data": {
      "text/plain": [
       "0.3317757009345794"
      ]
     },
     "execution_count": 52,
     "metadata": {},
     "output_type": "execute_result"
    }
   ],
   "source": [
    "accuracy_score(y_test, y_pred)"
   ]
  },
  {
   "cell_type": "code",
   "execution_count": 58,
   "metadata": {},
   "outputs": [],
   "source": [
    "df.to_csv('./modeling_data')"
   ]
  }
 ],
 "metadata": {
  "kernelspec": {
   "display_name": "Python 3",
   "language": "python",
   "name": "python3"
  },
  "language_info": {
   "codemirror_mode": {
    "name": "ipython",
    "version": 3
   },
   "file_extension": ".py",
   "mimetype": "text/x-python",
   "name": "python",
   "nbconvert_exporter": "python",
   "pygments_lexer": "ipython3",
   "version": "3.6.5"
  }
 },
 "nbformat": 4,
 "nbformat_minor": 2
}
