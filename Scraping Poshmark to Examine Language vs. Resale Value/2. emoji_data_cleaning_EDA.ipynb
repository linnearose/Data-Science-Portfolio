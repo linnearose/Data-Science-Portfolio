{
 "cells": [
  {
   "cell_type": "markdown",
   "metadata": {},
   "source": [
    "## Emoji data cleaning & EDA"
   ]
  },
  {
   "cell_type": "code",
   "execution_count": 1,
   "metadata": {},
   "outputs": [],
   "source": [
    "import pandas as pd\n",
    "\n",
    "import emoji\n",
    "from emoji import UNICODE_EMOJI"
   ]
  },
  {
   "cell_type": "code",
   "execution_count": 2,
   "metadata": {},
   "outputs": [],
   "source": [
    "df = pd.read_csv('./clean_data_1.csv', index_col=0)"
   ]
  },
  {
   "cell_type": "code",
   "execution_count": 3,
   "metadata": {},
   "outputs": [
    {
     "data": {
      "text/html": [
       "<div>\n",
       "<style scoped>\n",
       "    .dataframe tbody tr th:only-of-type {\n",
       "        vertical-align: middle;\n",
       "    }\n",
       "\n",
       "    .dataframe tbody tr th {\n",
       "        vertical-align: top;\n",
       "    }\n",
       "\n",
       "    .dataframe thead th {\n",
       "        text-align: right;\n",
       "    }\n",
       "</style>\n",
       "<table border=\"1\" class=\"dataframe\">\n",
       "  <thead>\n",
       "    <tr style=\"text-align: right;\">\n",
       "      <th></th>\n",
       "      <th>brand</th>\n",
       "      <th>description</th>\n",
       "      <th>item_id</th>\n",
       "      <th>status</th>\n",
       "      <th>title</th>\n",
       "      <th>url</th>\n",
       "      <th>original_price</th>\n",
       "      <th>new_price</th>\n",
       "      <th>tag_1</th>\n",
       "      <th>tag_2</th>\n",
       "      <th>tag_3</th>\n",
       "    </tr>\n",
       "  </thead>\n",
       "  <tbody>\n",
       "    <tr>\n",
       "      <th>11656</th>\n",
       "      <td>eric + ani</td>\n",
       "      <td>White very light weight top. Sparkly pear grap...</td>\n",
       "      <td>5c48fdee9539f7b6b5c3e2db</td>\n",
       "      <td>Buy Now</td>\n",
       "      <td>Eric + ani pear sparkly top</td>\n",
       "      <td>https://poshmark.com/listing/Eric-ani-pear-spa...</td>\n",
       "      <td>25.0</td>\n",
       "      <td>5.0</td>\n",
       "      <td>Women</td>\n",
       "      <td>Tops</td>\n",
       "      <td>Tees-ShortSleeve</td>\n",
       "    </tr>\n",
       "    <tr>\n",
       "      <th>11657</th>\n",
       "      <td>BKE</td>\n",
       "      <td>33X33 1/2</td>\n",
       "      <td>5c48fe7a409c15e95d761881</td>\n",
       "      <td>Buy Now</td>\n",
       "      <td>BKE Payton Jeans</td>\n",
       "      <td>https://poshmark.com/listing/BKE-Payton-Jeans-...</td>\n",
       "      <td>45.0</td>\n",
       "      <td>30.0</td>\n",
       "      <td>Women</td>\n",
       "      <td>Jeans</td>\n",
       "      <td>BootCut</td>\n",
       "    </tr>\n",
       "    <tr>\n",
       "      <th>11658</th>\n",
       "      <td>Nike</td>\n",
       "      <td>NEW WOMENS NIKE AIR MAX 95’ SE GLITTER</td>\n",
       "      <td>5c48fe4003087c8aaef53fab</td>\n",
       "      <td>Buy Now</td>\n",
       "      <td>NEW WOMENS NIKE AIR MAX 95’ SE GLITTER</td>\n",
       "      <td>https://poshmark.com/listing/NEW-WOMENS-NIKE-A...</td>\n",
       "      <td>170.0</td>\n",
       "      <td>75.0</td>\n",
       "      <td>Women</td>\n",
       "      <td>Shoes</td>\n",
       "      <td>Sneakers</td>\n",
       "    </tr>\n",
       "  </tbody>\n",
       "</table>\n",
       "</div>"
      ],
      "text/plain": [
       "            brand                                        description  \\\n",
       "11656  eric + ani  White very light weight top. Sparkly pear grap...   \n",
       "11657         BKE                                          33X33 1/2   \n",
       "11658        Nike             NEW WOMENS NIKE AIR MAX 95’ SE GLITTER   \n",
       "\n",
       "                        item_id   status  \\\n",
       "11656  5c48fdee9539f7b6b5c3e2db  Buy Now   \n",
       "11657  5c48fe7a409c15e95d761881  Buy Now   \n",
       "11658  5c48fe4003087c8aaef53fab  Buy Now   \n",
       "\n",
       "                                        title  \\\n",
       "11656             Eric + ani pear sparkly top   \n",
       "11657                        BKE Payton Jeans   \n",
       "11658  NEW WOMENS NIKE AIR MAX 95’ SE GLITTER   \n",
       "\n",
       "                                                     url  original_price  \\\n",
       "11656  https://poshmark.com/listing/Eric-ani-pear-spa...            25.0   \n",
       "11657  https://poshmark.com/listing/BKE-Payton-Jeans-...            45.0   \n",
       "11658  https://poshmark.com/listing/NEW-WOMENS-NIKE-A...           170.0   \n",
       "\n",
       "       new_price  tag_1  tag_2             tag_3  \n",
       "11656        5.0  Women   Tops  Tees-ShortSleeve  \n",
       "11657       30.0  Women  Jeans           BootCut  \n",
       "11658       75.0  Women  Shoes          Sneakers  "
      ]
     },
     "execution_count": 3,
     "metadata": {},
     "output_type": "execute_result"
    }
   ],
   "source": [
    "df.tail(3)"
   ]
  },
  {
   "cell_type": "code",
   "execution_count": 4,
   "metadata": {},
   "outputs": [
    {
     "data": {
      "text/plain": [
       "0"
      ]
     },
     "execution_count": 4,
     "metadata": {},
     "output_type": "execute_result"
    }
   ],
   "source": [
    "# Check for nulls using item_id column\n",
    "df['item_id'].isnull().sum()"
   ]
  },
  {
   "cell_type": "markdown",
   "metadata": {},
   "source": [
    "#### Emoji"
   ]
  },
  {
   "cell_type": "code",
   "execution_count": 5,
   "metadata": {},
   "outputs": [],
   "source": [
    "# Create empty columns \n",
    "df['title_emoji'] = None\n",
    "df['description_emoji'] = None"
   ]
  },
  {
   "cell_type": "code",
   "execution_count": 6,
   "metadata": {},
   "outputs": [
    {
     "data": {
      "text/html": [
       "<div>\n",
       "<style scoped>\n",
       "    .dataframe tbody tr th:only-of-type {\n",
       "        vertical-align: middle;\n",
       "    }\n",
       "\n",
       "    .dataframe tbody tr th {\n",
       "        vertical-align: top;\n",
       "    }\n",
       "\n",
       "    .dataframe thead th {\n",
       "        text-align: right;\n",
       "    }\n",
       "</style>\n",
       "<table border=\"1\" class=\"dataframe\">\n",
       "  <thead>\n",
       "    <tr style=\"text-align: right;\">\n",
       "      <th></th>\n",
       "      <th>title_emoji</th>\n",
       "      <th>description_emoji</th>\n",
       "    </tr>\n",
       "  </thead>\n",
       "  <tbody>\n",
       "    <tr>\n",
       "      <th>0</th>\n",
       "      <td>None</td>\n",
       "      <td>None</td>\n",
       "    </tr>\n",
       "  </tbody>\n",
       "</table>\n",
       "</div>"
      ],
      "text/plain": [
       "  title_emoji description_emoji\n",
       "0        None              None"
      ]
     },
     "execution_count": 6,
     "metadata": {},
     "output_type": "execute_result"
    }
   ],
   "source": [
    "df[['title_emoji', 'description_emoji']].head(1)"
   ]
  },
  {
   "cell_type": "code",
   "execution_count": 7,
   "metadata": {},
   "outputs": [],
   "source": [
    "# Return True if character is emoji, False if not\n",
    "def is_emoji(s):\n",
    "    return s in UNICODE_EMOJI\n",
    "\n",
    "# Determine whether a title contains at least 1 emoji\n",
    "# True/False\n",
    "def has_emoji(title): \n",
    "    \n",
    "    emoji_num = 0 \n",
    "\n",
    "    for i in title:\n",
    "        if is_emoji(i) == True: \n",
    "            emoji_num += 1 \n",
    "        else:\n",
    "            None\n",
    "    \n",
    "    if emoji_num >= 1:\n",
    "        return True\n",
    "    else: \n",
    "        return False "
   ]
  },
  {
   "cell_type": "code",
   "execution_count": 8,
   "metadata": {},
   "outputs": [
    {
     "data": {
      "text/plain": [
       "False"
      ]
     },
     "execution_count": 8,
     "metadata": {},
     "output_type": "execute_result"
    }
   ],
   "source": [
    "# Example\n",
    "has_emoji(df['title'][21])"
   ]
  },
  {
   "cell_type": "code",
   "execution_count": 9,
   "metadata": {},
   "outputs": [
    {
     "name": "stderr",
     "output_type": "stream",
     "text": [
      "/anaconda3/lib/python3.6/site-packages/pandas/core/indexing.py:189: SettingWithCopyWarning: \n",
      "A value is trying to be set on a copy of a slice from a DataFrame\n",
      "\n",
      "See the caveats in the documentation: http://pandas.pydata.org/pandas-docs/stable/indexing.html#indexing-view-versus-copy\n",
      "  self._setitem_with_indexer(indexer, value)\n"
     ]
    }
   ],
   "source": [
    "# Dummy column for emojis in title\n",
    "for i in range(len(df)):\n",
    "    if has_emoji(df['title'][i]) == True:\n",
    "        df['title_emoji'].iloc[i] = 1\n",
    "    else:\n",
    "        df['title_emoji'].iloc[i] = 0\n"
   ]
  },
  {
   "cell_type": "code",
   "execution_count": 10,
   "metadata": {},
   "outputs": [],
   "source": [
    "# Dummy column for emojis in description\n",
    "for i in range(len(df)):\n",
    "    if has_emoji(df['description'][i]) == True:\n",
    "        df['description_emoji'].iloc[i] = 1\n",
    "    else:\n",
    "        df['description_emoji'].iloc[i] = 0"
   ]
  },
  {
   "cell_type": "code",
   "execution_count": 11,
   "metadata": {},
   "outputs": [
    {
     "data": {
      "text/html": [
       "<div>\n",
       "<style scoped>\n",
       "    .dataframe tbody tr th:only-of-type {\n",
       "        vertical-align: middle;\n",
       "    }\n",
       "\n",
       "    .dataframe tbody tr th {\n",
       "        vertical-align: top;\n",
       "    }\n",
       "\n",
       "    .dataframe thead th {\n",
       "        text-align: right;\n",
       "    }\n",
       "</style>\n",
       "<table border=\"1\" class=\"dataframe\">\n",
       "  <thead>\n",
       "    <tr style=\"text-align: right;\">\n",
       "      <th></th>\n",
       "      <th>brand</th>\n",
       "      <th>description</th>\n",
       "      <th>item_id</th>\n",
       "      <th>status</th>\n",
       "      <th>title</th>\n",
       "      <th>url</th>\n",
       "      <th>original_price</th>\n",
       "      <th>new_price</th>\n",
       "      <th>tag_1</th>\n",
       "      <th>tag_2</th>\n",
       "      <th>tag_3</th>\n",
       "      <th>title_emoji</th>\n",
       "      <th>description_emoji</th>\n",
       "    </tr>\n",
       "  </thead>\n",
       "  <tbody>\n",
       "    <tr>\n",
       "      <th>11656</th>\n",
       "      <td>eric + ani</td>\n",
       "      <td>White very light weight top. Sparkly pear grap...</td>\n",
       "      <td>5c48fdee9539f7b6b5c3e2db</td>\n",
       "      <td>Buy Now</td>\n",
       "      <td>Eric + ani pear sparkly top</td>\n",
       "      <td>https://poshmark.com/listing/Eric-ani-pear-spa...</td>\n",
       "      <td>25.0</td>\n",
       "      <td>5.0</td>\n",
       "      <td>Women</td>\n",
       "      <td>Tops</td>\n",
       "      <td>Tees-ShortSleeve</td>\n",
       "      <td>0</td>\n",
       "      <td>0</td>\n",
       "    </tr>\n",
       "    <tr>\n",
       "      <th>11657</th>\n",
       "      <td>BKE</td>\n",
       "      <td>33X33 1/2</td>\n",
       "      <td>5c48fe7a409c15e95d761881</td>\n",
       "      <td>Buy Now</td>\n",
       "      <td>BKE Payton Jeans</td>\n",
       "      <td>https://poshmark.com/listing/BKE-Payton-Jeans-...</td>\n",
       "      <td>45.0</td>\n",
       "      <td>30.0</td>\n",
       "      <td>Women</td>\n",
       "      <td>Jeans</td>\n",
       "      <td>BootCut</td>\n",
       "      <td>0</td>\n",
       "      <td>0</td>\n",
       "    </tr>\n",
       "    <tr>\n",
       "      <th>11658</th>\n",
       "      <td>Nike</td>\n",
       "      <td>NEW WOMENS NIKE AIR MAX 95’ SE GLITTER</td>\n",
       "      <td>5c48fe4003087c8aaef53fab</td>\n",
       "      <td>Buy Now</td>\n",
       "      <td>NEW WOMENS NIKE AIR MAX 95’ SE GLITTER</td>\n",
       "      <td>https://poshmark.com/listing/NEW-WOMENS-NIKE-A...</td>\n",
       "      <td>170.0</td>\n",
       "      <td>75.0</td>\n",
       "      <td>Women</td>\n",
       "      <td>Shoes</td>\n",
       "      <td>Sneakers</td>\n",
       "      <td>0</td>\n",
       "      <td>0</td>\n",
       "    </tr>\n",
       "  </tbody>\n",
       "</table>\n",
       "</div>"
      ],
      "text/plain": [
       "            brand                                        description  \\\n",
       "11656  eric + ani  White very light weight top. Sparkly pear grap...   \n",
       "11657         BKE                                          33X33 1/2   \n",
       "11658        Nike             NEW WOMENS NIKE AIR MAX 95’ SE GLITTER   \n",
       "\n",
       "                        item_id   status  \\\n",
       "11656  5c48fdee9539f7b6b5c3e2db  Buy Now   \n",
       "11657  5c48fe7a409c15e95d761881  Buy Now   \n",
       "11658  5c48fe4003087c8aaef53fab  Buy Now   \n",
       "\n",
       "                                        title  \\\n",
       "11656             Eric + ani pear sparkly top   \n",
       "11657                        BKE Payton Jeans   \n",
       "11658  NEW WOMENS NIKE AIR MAX 95’ SE GLITTER   \n",
       "\n",
       "                                                     url  original_price  \\\n",
       "11656  https://poshmark.com/listing/Eric-ani-pear-spa...            25.0   \n",
       "11657  https://poshmark.com/listing/BKE-Payton-Jeans-...            45.0   \n",
       "11658  https://poshmark.com/listing/NEW-WOMENS-NIKE-A...           170.0   \n",
       "\n",
       "       new_price  tag_1  tag_2             tag_3  title_emoji  \\\n",
       "11656        5.0  Women   Tops  Tees-ShortSleeve            0   \n",
       "11657       30.0  Women  Jeans           BootCut            0   \n",
       "11658       75.0  Women  Shoes          Sneakers            0   \n",
       "\n",
       "       description_emoji  \n",
       "11656                  0  \n",
       "11657                  0  \n",
       "11658                  0  "
      ]
     },
     "execution_count": 11,
     "metadata": {},
     "output_type": "execute_result"
    }
   ],
   "source": [
    "df.tail(3)"
   ]
  },
  {
   "cell_type": "code",
   "execution_count": 12,
   "metadata": {},
   "outputs": [],
   "source": [
    "# df.to_csv('./clean_data_2.csv')"
   ]
  }
 ],
 "metadata": {
  "kernelspec": {
   "display_name": "Python 3",
   "language": "python",
   "name": "python3"
  },
  "language_info": {
   "codemirror_mode": {
    "name": "ipython",
    "version": 3
   },
   "file_extension": ".py",
   "mimetype": "text/x-python",
   "name": "python",
   "nbconvert_exporter": "python",
   "pygments_lexer": "ipython3",
   "version": "3.6.5"
  }
 },
 "nbformat": 4,
 "nbformat_minor": 2
}
