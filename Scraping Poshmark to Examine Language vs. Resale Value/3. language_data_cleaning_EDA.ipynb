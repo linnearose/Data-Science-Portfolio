{
 "cells": [
  {
   "cell_type": "markdown",
   "metadata": {},
   "source": [
    "## Language data cleaning & EDA"
   ]
  },
  {
   "cell_type": "code",
   "execution_count": 1,
   "metadata": {},
   "outputs": [],
   "source": [
    "import pandas as pd\n",
    "import numpy as np\n",
    "import regex as re\n",
    "import matplotlib.pyplot as plt\n",
    "\n",
    "%matplotlib inline\n",
    "\n",
    "from nltk.stem import WordNetLemmatizer\n",
    "from nltk.tokenize import RegexpTokenizer\n",
    "from nltk.corpus import stopwords\n",
    "\n",
    "from sklearn.feature_extraction.text import CountVectorizer, TfidfVectorizer"
   ]
  },
  {
   "cell_type": "markdown",
   "metadata": {},
   "source": [
    "### 1. Load data and delete unnecessary columns"
   ]
  },
  {
   "cell_type": "code",
   "execution_count": 2,
   "metadata": {},
   "outputs": [],
   "source": [
    "df = pd.read_csv('./clean_data_2.csv', index_col=0)"
   ]
  },
  {
   "cell_type": "code",
   "execution_count": 3,
   "metadata": {},
   "outputs": [
    {
     "data": {
      "text/html": [
       "<div>\n",
       "<style scoped>\n",
       "    .dataframe tbody tr th:only-of-type {\n",
       "        vertical-align: middle;\n",
       "    }\n",
       "\n",
       "    .dataframe tbody tr th {\n",
       "        vertical-align: top;\n",
       "    }\n",
       "\n",
       "    .dataframe thead th {\n",
       "        text-align: right;\n",
       "    }\n",
       "</style>\n",
       "<table border=\"1\" class=\"dataframe\">\n",
       "  <thead>\n",
       "    <tr style=\"text-align: right;\">\n",
       "      <th></th>\n",
       "      <th>brand</th>\n",
       "      <th>description</th>\n",
       "      <th>item_id</th>\n",
       "      <th>status</th>\n",
       "      <th>title</th>\n",
       "      <th>url</th>\n",
       "      <th>original_price</th>\n",
       "      <th>new_price</th>\n",
       "      <th>tag_1</th>\n",
       "      <th>tag_2</th>\n",
       "      <th>tag_3</th>\n",
       "      <th>title_emoji</th>\n",
       "      <th>description_emoji</th>\n",
       "    </tr>\n",
       "  </thead>\n",
       "  <tbody>\n",
       "    <tr>\n",
       "      <th>0</th>\n",
       "      <td>Zenana Outfitters</td>\n",
       "      <td>Zenana Premium shirt, size large, came from a ...</td>\n",
       "      <td>5c76992f819e9019dc35783d</td>\n",
       "      <td>Buy Now</td>\n",
       "      <td>Zenana Premium shirt</td>\n",
       "      <td>https://poshmark.com/listing/Zenana-Premium-sh...</td>\n",
       "      <td>25.0</td>\n",
       "      <td>13.0</td>\n",
       "      <td>Women</td>\n",
       "      <td>Tops</td>\n",
       "      <td>Blouses</td>\n",
       "      <td>0</td>\n",
       "      <td>0</td>\n",
       "    </tr>\n",
       "    <tr>\n",
       "      <th>1</th>\n",
       "      <td>Dansko</td>\n",
       "      <td>Like New\\nOnly worn a few times\\nNo wear signs...</td>\n",
       "      <td>5c76989bfe5151cc53579bce</td>\n",
       "      <td>Buy Now</td>\n",
       "      <td>Dansko Black Leather Mary Janes</td>\n",
       "      <td>https://poshmark.com/listing/Dansko-Black-Leat...</td>\n",
       "      <td>0.0</td>\n",
       "      <td>25.0</td>\n",
       "      <td>Women</td>\n",
       "      <td>NaN</td>\n",
       "      <td>NaN</td>\n",
       "      <td>0</td>\n",
       "      <td>0</td>\n",
       "    </tr>\n",
       "    <tr>\n",
       "      <th>2</th>\n",
       "      <td>Matisse</td>\n",
       "      <td>Amazing pair of leopard print pony hair wedge ...</td>\n",
       "      <td>5c7694f9df03079e3a8c89cf</td>\n",
       "      <td>Buy Now</td>\n",
       "      <td>Matisse Leopard Wedge Bootie</td>\n",
       "      <td>https://poshmark.com/listing/Matisse-Leopard-W...</td>\n",
       "      <td>215.0</td>\n",
       "      <td>80.0</td>\n",
       "      <td>Women</td>\n",
       "      <td>Shoes</td>\n",
       "      <td>AnkleBoots&amp;Booties</td>\n",
       "      <td>0</td>\n",
       "      <td>0</td>\n",
       "    </tr>\n",
       "  </tbody>\n",
       "</table>\n",
       "</div>"
      ],
      "text/plain": [
       "               brand                                        description  \\\n",
       "0  Zenana Outfitters  Zenana Premium shirt, size large, came from a ...   \n",
       "1             Dansko  Like New\\nOnly worn a few times\\nNo wear signs...   \n",
       "2            Matisse  Amazing pair of leopard print pony hair wedge ...   \n",
       "\n",
       "                    item_id   status                            title  \\\n",
       "0  5c76992f819e9019dc35783d  Buy Now          Zenana Premium shirt      \n",
       "1  5c76989bfe5151cc53579bce  Buy Now  Dansko Black Leather Mary Janes   \n",
       "2  5c7694f9df03079e3a8c89cf  Buy Now     Matisse Leopard Wedge Bootie   \n",
       "\n",
       "                                                 url  original_price  \\\n",
       "0  https://poshmark.com/listing/Zenana-Premium-sh...            25.0   \n",
       "1  https://poshmark.com/listing/Dansko-Black-Leat...             0.0   \n",
       "2  https://poshmark.com/listing/Matisse-Leopard-W...           215.0   \n",
       "\n",
       "   new_price  tag_1  tag_2               tag_3  title_emoji  description_emoji  \n",
       "0       13.0  Women   Tops             Blouses            0                  0  \n",
       "1       25.0  Women    NaN                 NaN            0                  0  \n",
       "2       80.0  Women  Shoes  AnkleBoots&Booties            0                  0  "
      ]
     },
     "execution_count": 3,
     "metadata": {},
     "output_type": "execute_result"
    }
   ],
   "source": [
    "df.head(3)"
   ]
  },
  {
   "cell_type": "code",
   "execution_count": 4,
   "metadata": {},
   "outputs": [
    {
     "data": {
      "text/plain": [
       "0"
      ]
     },
     "execution_count": 4,
     "metadata": {},
     "output_type": "execute_result"
    }
   ],
   "source": [
    "# Check for nulls using item_id column\n",
    "df['item_id'].isnull().sum()"
   ]
  },
  {
   "cell_type": "markdown",
   "metadata": {},
   "source": [
    "### 2. Delete rows with status='Not For Sale'"
   ]
  },
  {
   "cell_type": "code",
   "execution_count": 5,
   "metadata": {},
   "outputs": [],
   "source": [
    "not_for_sale = list(df[df['status'] == 'Not For Sale'].index)"
   ]
  },
  {
   "cell_type": "code",
   "execution_count": 6,
   "metadata": {
    "scrolled": true
   },
   "outputs": [],
   "source": [
    "# # See what kind of words/phrases appear in posts that are LABELED 'Not For Sale'\n",
    "# df.loc[not_for_sale]['description']"
   ]
  },
  {
   "cell_type": "code",
   "execution_count": 7,
   "metadata": {},
   "outputs": [],
   "source": [
    "# Drop rows with 'status' of 'Not For Sale'\n",
    "df.drop(index=not_for_sale, inplace=True)\n",
    "df.reset_index(inplace=True, drop=True)"
   ]
  },
  {
   "cell_type": "markdown",
   "metadata": {},
   "source": [
    "### 3. Regex to find \"spam\" posts"
   ]
  },
  {
   "cell_type": "code",
   "execution_count": 8,
   "metadata": {},
   "outputs": [],
   "source": [
    "# Phrases that indicate a \"spam\" post\n",
    "find_spam_title = [\n",
    "    'coming soon',\n",
    "    'not for sale',\n",
    "    'handmade',\n",
    "    'ambassador', \n",
    "    'follow', \n",
    "    'instagram',\n",
    "    'facebook',\n",
    "    'twitter',\n",
    "    'listing',\n",
    "    'deal',\n",
    "    'bundle',\n",
    "    'bogo',\n",
    "    'sale',\n",
    "    'clear out']\n",
    "\n",
    "find_spam_desc = [\n",
    "    'coming soon',\n",
    "    'not for sale', \n",
    "    'handmade']"
   ]
  },
  {
   "cell_type": "code",
   "execution_count": 9,
   "metadata": {},
   "outputs": [],
   "source": [
    "# Create empty lists to house index numbers that correspond to spam posts\n",
    "spam_title_num = []\n",
    "spam_desc_num = []"
   ]
  },
  {
   "cell_type": "code",
   "execution_count": 10,
   "metadata": {},
   "outputs": [],
   "source": [
    "def spam_title(pattern_list=find_spam_title, df=df):\n",
    "    for phrase in pattern_list:\n",
    "        pattern = re.compile(phrase, re.IGNORECASE)\n",
    "        for i in range(len(df)):\n",
    "            if re.search(pattern, df['title'][i]):\n",
    "#                 print(i, df['title'][i])\n",
    "                spam_title_num.append(i)"
   ]
  },
  {
   "cell_type": "code",
   "execution_count": 11,
   "metadata": {},
   "outputs": [],
   "source": [
    "def spam_description(pattern_list=find_spam_desc, df=df):\n",
    "    for phrase in pattern_list:\n",
    "        pattern = re.compile(phrase, re.IGNORECASE)\n",
    "        for i in range(len(df)):\n",
    "            if re.search(pattern, df['description'][i]):\n",
    "#                 print(i, df['description'][i])\n",
    "                spam_desc_num.append(i)"
   ]
  },
  {
   "cell_type": "code",
   "execution_count": 12,
   "metadata": {},
   "outputs": [],
   "source": [
    "# Run functions\n",
    "spam_title()\n",
    "spam_description()"
   ]
  },
  {
   "cell_type": "code",
   "execution_count": 13,
   "metadata": {},
   "outputs": [],
   "source": [
    "# Combine lists of index numbers\n",
    "all_spam_rows = spam_title_num + spam_desc_num"
   ]
  },
  {
   "cell_type": "code",
   "execution_count": 14,
   "metadata": {},
   "outputs": [],
   "source": [
    "# Eliminate duplicate numbers in list\n",
    "all_spam_rows = list(set(all_spam_rows))"
   ]
  },
  {
   "cell_type": "code",
   "execution_count": 15,
   "metadata": {},
   "outputs": [],
   "source": [
    "spam = df.loc[all_spam_rows]"
   ]
  },
  {
   "cell_type": "code",
   "execution_count": 16,
   "metadata": {},
   "outputs": [
    {
     "data": {
      "text/plain": [
       "171"
      ]
     },
     "execution_count": 16,
     "metadata": {},
     "output_type": "execute_result"
    }
   ],
   "source": [
    "len(spam)"
   ]
  },
  {
   "cell_type": "code",
   "execution_count": 17,
   "metadata": {},
   "outputs": [],
   "source": [
    "# # Look at identified spam posts\n",
    "# spam.sort_values(by='original_price', ascending=False)"
   ]
  },
  {
   "cell_type": "code",
   "execution_count": 18,
   "metadata": {},
   "outputs": [],
   "source": [
    "# Drop spam rows and reset index\n",
    "df.drop(index=all_spam_rows, inplace=True)\n",
    "df.reset_index(inplace=True, drop=True)"
   ]
  },
  {
   "cell_type": "markdown",
   "metadata": {},
   "source": [
    "### 4. More EDA to find \"spam\" posts"
   ]
  },
  {
   "cell_type": "markdown",
   "metadata": {},
   "source": [
    "#### 1. `Bogus titles`"
   ]
  },
  {
   "cell_type": "code",
   "execution_count": 19,
   "metadata": {},
   "outputs": [],
   "source": [
    "# Find items with bogus titles\n",
    "drop = []\n",
    "\n",
    "for i in range(len(df)):\n",
    "    if len(df['title'][i]) <= 2:\n",
    "        drop.append(i)\n",
    "    else:\n",
    "        pass"
   ]
  },
  {
   "cell_type": "code",
   "execution_count": 20,
   "metadata": {
    "scrolled": false
   },
   "outputs": [],
   "source": [
    "# # DataFrame with only bogus title posts\n",
    "# df.loc[drop]"
   ]
  },
  {
   "cell_type": "code",
   "execution_count": 21,
   "metadata": {},
   "outputs": [],
   "source": [
    "# Drop spam rows and reset index\n",
    "df.drop(index=drop, inplace=True)\n",
    "df.reset_index(inplace=True, drop=True)"
   ]
  },
  {
   "cell_type": "markdown",
   "metadata": {},
   "source": [
    "#### 2. `Bogus descriptions`"
   ]
  },
  {
   "cell_type": "code",
   "execution_count": 22,
   "metadata": {},
   "outputs": [],
   "source": [
    "# Find items with bogus descriptions, i.e. with very few characters as a placeholder for an actual description\n",
    "drop = []\n",
    "\n",
    "for i in range(len(df)):\n",
    "    if len(df['description'][i]) == 1:\n",
    "        drop.append(i)\n",
    "    else:\n",
    "        pass"
   ]
  },
  {
   "cell_type": "code",
   "execution_count": 23,
   "metadata": {},
   "outputs": [],
   "source": [
    "# DataFrame with only bogus description posts\n",
    "drop = df.loc[drop]"
   ]
  },
  {
   "cell_type": "code",
   "execution_count": 24,
   "metadata": {},
   "outputs": [],
   "source": [
    "# Reset drop variable as a list of index numbers to drop\n",
    "# Filter on 'original_price' == 0 & 'brand' = null\n",
    "drop = list(drop[(drop['original_price'] == 0) &\n",
    "    (drop['brand'].isnull())].index)"
   ]
  },
  {
   "cell_type": "code",
   "execution_count": 25,
   "metadata": {},
   "outputs": [],
   "source": [
    "# Drop spam rows and reset index\n",
    "df.drop(index=drop, inplace=True)\n",
    "df.reset_index(inplace=True, drop=True)"
   ]
  },
  {
   "cell_type": "markdown",
   "metadata": {},
   "source": [
    "### 5. Tags"
   ]
  },
  {
   "cell_type": "markdown",
   "metadata": {},
   "source": [
    "#### `tag_1`"
   ]
  },
  {
   "cell_type": "code",
   "execution_count": 26,
   "metadata": {},
   "outputs": [
    {
     "data": {
      "text/plain": [
       "{'Women'}"
      ]
     },
     "execution_count": 26,
     "metadata": {},
     "output_type": "execute_result"
    }
   ],
   "source": [
    "# Double check that 'Women' is 'tag_1' for every post\n",
    "set(list(df['tag_1']))"
   ]
  },
  {
   "cell_type": "markdown",
   "metadata": {},
   "source": [
    "#### `tag_2`"
   ]
  },
  {
   "cell_type": "code",
   "execution_count": 27,
   "metadata": {},
   "outputs": [],
   "source": [
    "tag_2 = list(set(list(df['tag_2'])))"
   ]
  },
  {
   "cell_type": "code",
   "execution_count": 28,
   "metadata": {},
   "outputs": [
    {
     "data": {
      "text/plain": [
       "16"
      ]
     },
     "execution_count": 28,
     "metadata": {},
     "output_type": "execute_result"
    }
   ],
   "source": [
    "len(tag_2)"
   ]
  },
  {
   "cell_type": "code",
   "execution_count": 29,
   "metadata": {},
   "outputs": [],
   "source": [
    "# Create dummy variables for tags (item categories)\n",
    "df = pd.get_dummies(df, columns=['tag_2'], drop_first=True)"
   ]
  },
  {
   "cell_type": "markdown",
   "metadata": {},
   "source": [
    "#### `tag_3`"
   ]
  },
  {
   "cell_type": "code",
   "execution_count": 30,
   "metadata": {},
   "outputs": [],
   "source": [
    "tag_3 = list(set(list(df['tag_3'])))"
   ]
  },
  {
   "cell_type": "code",
   "execution_count": 31,
   "metadata": {
    "scrolled": true
   },
   "outputs": [
    {
     "data": {
      "text/plain": [
       "126"
      ]
     },
     "execution_count": 31,
     "metadata": {},
     "output_type": "execute_result"
    }
   ],
   "source": [
    "# Look to see how many sub-tags there are so we can figure out if it's worth including them in this model\n",
    "len(tag_3)"
   ]
  },
  {
   "cell_type": "markdown",
   "metadata": {},
   "source": [
    "### 6. Tokenize, Lemmatize, Vectorize, etc."
   ]
  },
  {
   "cell_type": "markdown",
   "metadata": {},
   "source": [
    "#### 1. Look at `title` and `description` columns"
   ]
  },
  {
   "cell_type": "code",
   "execution_count": 32,
   "metadata": {},
   "outputs": [],
   "source": [
    "# Instantiate NLP functions\n",
    "tokenizer = RegexpTokenizer(r'\\w+', gaps=False)\n",
    "lemmatizer = WordNetLemmatizer()"
   ]
  },
  {
   "cell_type": "code",
   "execution_count": 33,
   "metadata": {},
   "outputs": [],
   "source": [
    "# Access each title individually\n",
    "titles = [df.iloc[i]['title'] for i in range(len(df))]\n",
    "descriptions = [df.iloc[i]['description'] for i in range(len(df))]\n"
   ]
  },
  {
   "cell_type": "code",
   "execution_count": 34,
   "metadata": {},
   "outputs": [],
   "source": [
    "# titles[:3]\n",
    "# descriptions[:2]"
   ]
  },
  {
   "cell_type": "markdown",
   "metadata": {},
   "source": [
    "#### 2. `Tokenize`"
   ]
  },
  {
   "cell_type": "code",
   "execution_count": 35,
   "metadata": {},
   "outputs": [],
   "source": [
    "# Tokenize all titles\n",
    "def tokenize(text):\n",
    "    for i in range(len(text)):\n",
    "        text[i] = tokenizer.tokenize(text[i].lower())"
   ]
  },
  {
   "cell_type": "code",
   "execution_count": 36,
   "metadata": {},
   "outputs": [],
   "source": [
    "tokenize(titles)\n",
    "tokenize(descriptions)"
   ]
  },
  {
   "cell_type": "code",
   "execution_count": 37,
   "metadata": {},
   "outputs": [],
   "source": [
    "# titles[:3]\n",
    "# descriptions[:2]"
   ]
  },
  {
   "cell_type": "markdown",
   "metadata": {},
   "source": [
    "#### 3. `Remove stop words`"
   ]
  },
  {
   "cell_type": "code",
   "execution_count": 38,
   "metadata": {},
   "outputs": [],
   "source": [
    "# # Remove stop words\n",
    "# def stop_words(text):\n",
    "#     for i in range(len(text)):\n",
    "#         raw_words = text[i]\n",
    "#         text[i] = [w for w in raw_words if not w in stopwords.words('english')]\n",
    "        "
   ]
  },
  {
   "cell_type": "code",
   "execution_count": 39,
   "metadata": {},
   "outputs": [],
   "source": [
    "# stop_words(titles)\n",
    "# stop_words(descriptions)"
   ]
  },
  {
   "cell_type": "code",
   "execution_count": 40,
   "metadata": {},
   "outputs": [],
   "source": [
    "# titles[:3]\n",
    "# descriptions[:2]"
   ]
  },
  {
   "cell_type": "markdown",
   "metadata": {},
   "source": [
    "#### 4. `Lemmatize`"
   ]
  },
  {
   "cell_type": "code",
   "execution_count": 41,
   "metadata": {},
   "outputs": [],
   "source": [
    "# Lemmatize all titles\n",
    "def lemm(text, empty_list):\n",
    "    for x in range(len(text)):\n",
    "        lemm_list = []\n",
    "        for i in text[x]:\n",
    "            lemm_list.append(lemmatizer.lemmatize(i))\n",
    "        empty_list.append(lemm_list)"
   ]
  },
  {
   "cell_type": "code",
   "execution_count": 42,
   "metadata": {},
   "outputs": [],
   "source": [
    "empty_titles = []\n",
    "\n",
    "lemm(titles, empty_titles)"
   ]
  },
  {
   "cell_type": "code",
   "execution_count": 43,
   "metadata": {
    "scrolled": true
   },
   "outputs": [],
   "source": [
    "empty_descriptions = []\n",
    "\n",
    "lemm(descriptions, empty_descriptions)"
   ]
  },
  {
   "cell_type": "code",
   "execution_count": 44,
   "metadata": {},
   "outputs": [],
   "source": [
    "# empty_titles[:3]\n",
    "# empty_descriptions[:2]"
   ]
  },
  {
   "cell_type": "markdown",
   "metadata": {},
   "source": [
    "#### 5. Rejoin strings"
   ]
  },
  {
   "cell_type": "code",
   "execution_count": 45,
   "metadata": {},
   "outputs": [],
   "source": [
    "# Join strings in list\n",
    "for i in range(len(df)):\n",
    "    titles[i] = ' '.join(empty_titles[i])\n",
    "    descriptions[i] = ' '.join(empty_descriptions[i])"
   ]
  },
  {
   "cell_type": "code",
   "execution_count": 46,
   "metadata": {},
   "outputs": [],
   "source": [
    "# titles[:3]\n",
    "# descriptions[:2]"
   ]
  },
  {
   "cell_type": "markdown",
   "metadata": {},
   "source": [
    "#### 6. `Count Vectorizer & ngrams`"
   ]
  },
  {
   "cell_type": "code",
   "execution_count": 47,
   "metadata": {},
   "outputs": [],
   "source": [
    "t_corpus = titles\n",
    "d_corpus = descriptions"
   ]
  },
  {
   "cell_type": "markdown",
   "metadata": {},
   "source": [
    "##### a. words"
   ]
  },
  {
   "cell_type": "code",
   "execution_count": 48,
   "metadata": {},
   "outputs": [],
   "source": [
    "t_vect = CountVectorizer(ngram_range=(1,1), stop_words='english')\n",
    "d_vect = CountVectorizer(ngram_range=(1,1), stop_words='english')"
   ]
  },
  {
   "cell_type": "code",
   "execution_count": 49,
   "metadata": {},
   "outputs": [],
   "source": [
    "t_text = t_vect.fit_transform(t_corpus)\n",
    "d_text = d_vect.fit_transform(d_corpus)"
   ]
  },
  {
   "cell_type": "code",
   "execution_count": 50,
   "metadata": {},
   "outputs": [],
   "source": [
    "# # Get list of all words\n",
    "# t_vect.get_feature_names()\n",
    "# d_vect.get_feature_names()"
   ]
  },
  {
   "cell_type": "code",
   "execution_count": 51,
   "metadata": {},
   "outputs": [],
   "source": [
    "# Vectorized title words\n",
    "title_words = pd.DataFrame(t_text.toarray(),\n",
    "                         columns=t_vect.get_feature_names())"
   ]
  },
  {
   "cell_type": "code",
   "execution_count": 52,
   "metadata": {},
   "outputs": [],
   "source": [
    "# Vectorized description words\n",
    "description_words = pd.DataFrame(d_text.toarray(),\n",
    "                                columns=d_vect.get_feature_names())"
   ]
  },
  {
   "cell_type": "code",
   "execution_count": 53,
   "metadata": {
    "scrolled": true
   },
   "outputs": [],
   "source": [
    "# # View vector DataFrames\n",
    "# title_words\n",
    "# description_words"
   ]
  },
  {
   "cell_type": "code",
   "execution_count": 54,
   "metadata": {},
   "outputs": [],
   "source": [
    "# Concat all features\n",
    "all_words = pd.concat([title_words, description_words], axis=1)"
   ]
  },
  {
   "cell_type": "code",
   "execution_count": 56,
   "metadata": {},
   "outputs": [],
   "source": [
    "words_df = pd.concat([df, all_words], axis=1)"
   ]
  },
  {
   "cell_type": "code",
   "execution_count": 57,
   "metadata": {},
   "outputs": [],
   "source": [
    "words_df.to_csv('./words_df.csv')"
   ]
  },
  {
   "cell_type": "code",
   "execution_count": 58,
   "metadata": {
    "scrolled": true
   },
   "outputs": [
    {
     "data": {
      "text/plain": [
       "dress      1106\n",
       "nwt         996\n",
       "black       814\n",
       "size        813\n",
       "jean        536\n",
       "sweater     458\n",
       "woman       454\n",
       "shirt       414\n",
       "white       375\n",
       "pink        367\n",
       "dtype: int64"
      ]
     },
     "execution_count": 58,
     "metadata": {},
     "output_type": "execute_result"
    }
   ],
   "source": [
    "# Top words from ALL titles\n",
    "title_words.sum().sort_values(0, ascending=False).head(10)"
   ]
  },
  {
   "cell_type": "code",
   "execution_count": 59,
   "metadata": {
    "scrolled": true
   },
   "outputs": [
    {
     "data": {
      "image/png": "[encoded data removed]",
      "text/plain": [
       "<Figure size 432x288 with 1 Axes>"
      ]
     },
     "metadata": {},
     "output_type": "display_data"
    }
   ],
   "source": [
    "# Graphed\n",
    "title_words.sum().sort_values(0, ascending=False).head(20).plot(kind='barh');"
   ]
  },
  {
   "cell_type": "code",
   "execution_count": 60,
   "metadata": {
    "scrolled": true
   },
   "outputs": [
    {
     "data": {
      "text/plain": [
       "size         3535\n",
       "condition    3067\n",
       "worn         2093\n",
       "new          1943\n",
       "black        1495\n",
       "great        1278\n",
       "length       1186\n",
       "dress        1178\n",
       "sleeve       1107\n",
       "color        1089\n",
       "dtype: int64"
      ]
     },
     "execution_count": 60,
     "metadata": {},
     "output_type": "execute_result"
    }
   ],
   "source": [
    "# Top words from ALL descriptions\n",
    "description_words.sum().sort_values(0, ascending=False).head(10)"
   ]
  },
  {
   "cell_type": "code",
   "execution_count": 61,
   "metadata": {},
   "outputs": [
    {
     "data": {
      "image/png": "[encoded data removed]",
      "text/plain": [
       "<Figure size 432x288 with 1 Axes>"
      ]
     },
     "metadata": {},
     "output_type": "display_data"
    }
   ],
   "source": [
    "# Graphed\n",
    "description_words.sum().sort_values(0, ascending=False).head(20).plot(kind='barh');"
   ]
  },
  {
   "cell_type": "code",
   "execution_count": 62,
   "metadata": {},
   "outputs": [],
   "source": [
    "# # Top words from one title\n",
    "# title_words.iloc[5].sort_values(0, ascending=False)"
   ]
  },
  {
   "cell_type": "code",
   "execution_count": 63,
   "metadata": {},
   "outputs": [],
   "source": [
    "# # Looking for weird words like this:\n",
    "# title_words[title_words['ғαcєвσσĸ'] == 1]"
   ]
  },
  {
   "cell_type": "code",
   "execution_count": 64,
   "metadata": {},
   "outputs": [],
   "source": [
    "# # Isolate specific term and find rows that contain it\n",
    "# oo = list(title_words[title_words['00'] == 1].index)\n",
    "# df.iloc[oo]"
   ]
  },
  {
   "cell_type": "markdown",
   "metadata": {},
   "source": [
    "##### b. `bi-grams & trigrams`"
   ]
  },
  {
   "cell_type": "code",
   "execution_count": 65,
   "metadata": {},
   "outputs": [],
   "source": [
    "t_vect_n = CountVectorizer(ngram_range=(2,3), stop_words='english')\n",
    "d_vect_n = CountVectorizer(ngram_range=(2,3), stop_words='english')"
   ]
  },
  {
   "cell_type": "code",
   "execution_count": 66,
   "metadata": {},
   "outputs": [],
   "source": [
    "t_text = t_vect_n.fit_transform(t_corpus)\n",
    "d_text = d_vect_n.fit_transform(d_corpus)"
   ]
  },
  {
   "cell_type": "code",
   "execution_count": 67,
   "metadata": {},
   "outputs": [],
   "source": [
    "# # Get list of all words\n",
    "# t_vect_n.get_feature_names()\n",
    "# d_vect_n.get_feature_names()"
   ]
  },
  {
   "cell_type": "code",
   "execution_count": 68,
   "metadata": {},
   "outputs": [],
   "source": [
    "# Vectorized title words\n",
    "title_ngrams = pd.DataFrame(t_text.toarray(),\n",
    "                         columns=t_vect_n.get_feature_names())"
   ]
  },
  {
   "cell_type": "code",
   "execution_count": 69,
   "metadata": {},
   "outputs": [],
   "source": [
    "# Vectorized description words\n",
    "description_ngrams = pd.DataFrame(d_text.toarray(),\n",
    "                                columns=d_vect_n.get_feature_names())"
   ]
  },
  {
   "cell_type": "code",
   "execution_count": 70,
   "metadata": {
    "scrolled": true
   },
   "outputs": [],
   "source": [
    "# # View vector DataFrames\n",
    "# title_ngrams\n",
    "# description_ngrams"
   ]
  },
  {
   "cell_type": "code",
   "execution_count": 71,
   "metadata": {},
   "outputs": [],
   "source": [
    "# Concat all features\n",
    "all_ngrams = pd.concat([title_ngrams, description_ngrams], axis=1)"
   ]
  },
  {
   "cell_type": "code",
   "execution_count": 72,
   "metadata": {},
   "outputs": [],
   "source": [
    "ngram_df = pd.concat([df, all_ngrams], axis=1)"
   ]
  },
  {
   "cell_type": "code",
   "execution_count": 73,
   "metadata": {},
   "outputs": [],
   "source": [
    "ngram_df.to_csv('./ngram_df.csv')"
   ]
  },
  {
   "cell_type": "code",
   "execution_count": 74,
   "metadata": {
    "scrolled": true
   },
   "outputs": [
    {
     "data": {
      "text/plain": [
       "long sleeve        166\n",
       "victoria secret    151\n",
       "free people        151\n",
       "american eagle     112\n",
       "forever 21          92\n",
       "michael kor         89\n",
       "brand new           79\n",
       "size small          78\n",
       "banana republic     77\n",
       "skinny jean         75\n",
       "dtype: int64"
      ]
     },
     "execution_count": 74,
     "metadata": {},
     "output_type": "execute_result"
    }
   ],
   "source": [
    "# Top bi-grams/tri-grams from ALL titles\n",
    "title_ngrams.sum().sort_values(0, ascending=False).head(10)"
   ]
  },
  {
   "cell_type": "code",
   "execution_count": 75,
   "metadata": {},
   "outputs": [
    {
     "data": {
      "image/png": "[encoded data removed]",
      "text/plain": [
       "<Figure size 432x288 with 1 Axes>"
      ]
     },
     "metadata": {},
     "output_type": "display_data"
    }
   ],
   "source": [
    "# Graphed\n",
    "title_ngrams.sum().sort_values(0, ascending=False).head(20).plot(kind='barh');"
   ]
  },
  {
   "cell_type": "code",
   "execution_count": 76,
   "metadata": {
    "scrolled": true
   },
   "outputs": [
    {
     "data": {
      "text/plain": [
       "brand new              672\n",
       "great condition        659\n",
       "excellent condition    563\n",
       "new tag                562\n",
       "good condition         521\n",
       "size small             399\n",
       "smoke free             380\n",
       "free home              362\n",
       "like new               348\n",
       "size medium            316\n",
       "dtype: int64"
      ]
     },
     "execution_count": 76,
     "metadata": {},
     "output_type": "execute_result"
    }
   ],
   "source": [
    "# Top bi-grams/tri-grams from ALL descriptions\n",
    "description_ngrams.sum().sort_values(0, ascending=False).head(10)"
   ]
  },
  {
   "cell_type": "code",
   "execution_count": 77,
   "metadata": {},
   "outputs": [
    {
     "data": {
      "image/png": "[encoded data removed]",
      "text/plain": [
       "<Figure size 432x288 with 1 Axes>"
      ]
     },
     "metadata": {},
     "output_type": "display_data"
    }
   ],
   "source": [
    "# Graphed\n",
    "description_ngrams.sum().sort_values(0, ascending=False).head(20).plot(kind='barh');"
   ]
  },
  {
   "cell_type": "markdown",
   "metadata": {},
   "source": [
    "#### 7. Put clean title/description into DataFrame"
   ]
  },
  {
   "cell_type": "code",
   "execution_count": 78,
   "metadata": {},
   "outputs": [],
   "source": [
    "# Create empty DataFrame\n",
    "clean = pd.DataFrame(index=df.index,\n",
    "                          columns=['clean_title', \n",
    "                                   'clean_description'])\n"
   ]
  },
  {
   "cell_type": "code",
   "execution_count": 80,
   "metadata": {},
   "outputs": [],
   "source": [
    "# Input clean titles\n",
    "for i in range(len(titles)):\n",
    "    clean['clean_title'][i] = titles[i]\n",
    "    clean['clean_description'][i] = descriptions[i]"
   ]
  },
  {
   "cell_type": "code",
   "execution_count": 81,
   "metadata": {},
   "outputs": [],
   "source": [
    "# Concatenate two DataFrames\n",
    "df = pd.concat([df, clean], axis=1)"
   ]
  },
  {
   "cell_type": "code",
   "execution_count": 82,
   "metadata": {
    "scrolled": false
   },
   "outputs": [
    {
     "data": {
      "text/html": [
       "<div>\n",
       "<style scoped>\n",
       "    .dataframe tbody tr th:only-of-type {\n",
       "        vertical-align: middle;\n",
       "    }\n",
       "\n",
       "    .dataframe tbody tr th {\n",
       "        vertical-align: top;\n",
       "    }\n",
       "\n",
       "    .dataframe thead th {\n",
       "        text-align: right;\n",
       "    }\n",
       "</style>\n",
       "<table border=\"1\" class=\"dataframe\">\n",
       "  <thead>\n",
       "    <tr style=\"text-align: right;\">\n",
       "      <th></th>\n",
       "      <th>brand</th>\n",
       "      <th>description</th>\n",
       "      <th>item_id</th>\n",
       "      <th>status</th>\n",
       "      <th>title</th>\n",
       "      <th>url</th>\n",
       "      <th>original_price</th>\n",
       "      <th>new_price</th>\n",
       "      <th>tag_1</th>\n",
       "      <th>tag_3</th>\n",
       "      <th>...</th>\n",
       "      <th>tag_2_Makeup</th>\n",
       "      <th>tag_2_Pants</th>\n",
       "      <th>tag_2_Shoes</th>\n",
       "      <th>tag_2_Shorts</th>\n",
       "      <th>tag_2_Skirts</th>\n",
       "      <th>tag_2_Sweaters</th>\n",
       "      <th>tag_2_Swim</th>\n",
       "      <th>tag_2_Tops</th>\n",
       "      <th>clean_title</th>\n",
       "      <th>clean_description</th>\n",
       "    </tr>\n",
       "  </thead>\n",
       "  <tbody>\n",
       "    <tr>\n",
       "      <th>0</th>\n",
       "      <td>Zenana Outfitters</td>\n",
       "      <td>Zenana Premium shirt, size large, came from a ...</td>\n",
       "      <td>5c76992f819e9019dc35783d</td>\n",
       "      <td>Buy Now</td>\n",
       "      <td>Zenana Premium shirt</td>\n",
       "      <td>https://poshmark.com/listing/Zenana-Premium-sh...</td>\n",
       "      <td>25.0</td>\n",
       "      <td>13.0</td>\n",
       "      <td>Women</td>\n",
       "      <td>Blouses</td>\n",
       "      <td>...</td>\n",
       "      <td>0</td>\n",
       "      <td>0</td>\n",
       "      <td>0</td>\n",
       "      <td>0</td>\n",
       "      <td>0</td>\n",
       "      <td>0</td>\n",
       "      <td>0</td>\n",
       "      <td>1</td>\n",
       "      <td>zenana premium shirt</td>\n",
       "      <td>zenana premium shirt size large came from a lo...</td>\n",
       "    </tr>\n",
       "    <tr>\n",
       "      <th>1</th>\n",
       "      <td>Dansko</td>\n",
       "      <td>Like New\\nOnly worn a few times\\nNo wear signs...</td>\n",
       "      <td>5c76989bfe5151cc53579bce</td>\n",
       "      <td>Buy Now</td>\n",
       "      <td>Dansko Black Leather Mary Janes</td>\n",
       "      <td>https://poshmark.com/listing/Dansko-Black-Leat...</td>\n",
       "      <td>0.0</td>\n",
       "      <td>25.0</td>\n",
       "      <td>Women</td>\n",
       "      <td>NaN</td>\n",
       "      <td>...</td>\n",
       "      <td>0</td>\n",
       "      <td>0</td>\n",
       "      <td>0</td>\n",
       "      <td>0</td>\n",
       "      <td>0</td>\n",
       "      <td>0</td>\n",
       "      <td>0</td>\n",
       "      <td>0</td>\n",
       "      <td>dansko black leather mary janes</td>\n",
       "      <td>like new only worn a few time no wear sign doe...</td>\n",
       "    </tr>\n",
       "    <tr>\n",
       "      <th>2</th>\n",
       "      <td>Matisse</td>\n",
       "      <td>Amazing pair of leopard print pony hair wedge ...</td>\n",
       "      <td>5c7694f9df03079e3a8c89cf</td>\n",
       "      <td>Buy Now</td>\n",
       "      <td>Matisse Leopard Wedge Bootie</td>\n",
       "      <td>https://poshmark.com/listing/Matisse-Leopard-W...</td>\n",
       "      <td>215.0</td>\n",
       "      <td>80.0</td>\n",
       "      <td>Women</td>\n",
       "      <td>AnkleBoots&amp;Booties</td>\n",
       "      <td>...</td>\n",
       "      <td>0</td>\n",
       "      <td>0</td>\n",
       "      <td>1</td>\n",
       "      <td>0</td>\n",
       "      <td>0</td>\n",
       "      <td>0</td>\n",
       "      <td>0</td>\n",
       "      <td>0</td>\n",
       "      <td>matisse leopard wedge bootie</td>\n",
       "      <td>amazing pair of leopard print pony hair wedge ...</td>\n",
       "    </tr>\n",
       "  </tbody>\n",
       "</table>\n",
       "<p>3 rows × 28 columns</p>\n",
       "</div>"
      ],
      "text/plain": [
       "               brand                                        description  \\\n",
       "0  Zenana Outfitters  Zenana Premium shirt, size large, came from a ...   \n",
       "1             Dansko  Like New\\nOnly worn a few times\\nNo wear signs...   \n",
       "2            Matisse  Amazing pair of leopard print pony hair wedge ...   \n",
       "\n",
       "                    item_id   status                            title  \\\n",
       "0  5c76992f819e9019dc35783d  Buy Now          Zenana Premium shirt      \n",
       "1  5c76989bfe5151cc53579bce  Buy Now  Dansko Black Leather Mary Janes   \n",
       "2  5c7694f9df03079e3a8c89cf  Buy Now     Matisse Leopard Wedge Bootie   \n",
       "\n",
       "                                                 url  original_price  \\\n",
       "0  https://poshmark.com/listing/Zenana-Premium-sh...            25.0   \n",
       "1  https://poshmark.com/listing/Dansko-Black-Leat...             0.0   \n",
       "2  https://poshmark.com/listing/Matisse-Leopard-W...           215.0   \n",
       "\n",
       "   new_price  tag_1               tag_3  \\\n",
       "0       13.0  Women             Blouses   \n",
       "1       25.0  Women                 NaN   \n",
       "2       80.0  Women  AnkleBoots&Booties   \n",
       "\n",
       "                         ...                          tag_2_Makeup  \\\n",
       "0                        ...                                     0   \n",
       "1                        ...                                     0   \n",
       "2                        ...                                     0   \n",
       "\n",
       "   tag_2_Pants  tag_2_Shoes  tag_2_Shorts  tag_2_Skirts  tag_2_Sweaters  \\\n",
       "0            0            0             0             0               0   \n",
       "1            0            0             0             0               0   \n",
       "2            0            1             0             0               0   \n",
       "\n",
       "   tag_2_Swim  tag_2_Tops                      clean_title  \\\n",
       "0           0           1             zenana premium shirt   \n",
       "1           0           0  dansko black leather mary janes   \n",
       "2           0           0     matisse leopard wedge bootie   \n",
       "\n",
       "                                   clean_description  \n",
       "0  zenana premium shirt size large came from a lo...  \n",
       "1  like new only worn a few time no wear sign doe...  \n",
       "2  amazing pair of leopard print pony hair wedge ...  \n",
       "\n",
       "[3 rows x 28 columns]"
      ]
     },
     "execution_count": 82,
     "metadata": {},
     "output_type": "execute_result"
    }
   ],
   "source": [
    "df.head(3)"
   ]
  },
  {
   "cell_type": "code",
   "execution_count": 83,
   "metadata": {},
   "outputs": [
    {
     "data": {
      "text/html": [
       "<div>\n",
       "<style scoped>\n",
       "    .dataframe tbody tr th:only-of-type {\n",
       "        vertical-align: middle;\n",
       "    }\n",
       "\n",
       "    .dataframe tbody tr th {\n",
       "        vertical-align: top;\n",
       "    }\n",
       "\n",
       "    .dataframe thead th {\n",
       "        text-align: right;\n",
       "    }\n",
       "</style>\n",
       "<table border=\"1\" class=\"dataframe\">\n",
       "  <thead>\n",
       "    <tr style=\"text-align: right;\">\n",
       "      <th></th>\n",
       "      <th>brand</th>\n",
       "      <th>description</th>\n",
       "      <th>item_id</th>\n",
       "      <th>status</th>\n",
       "      <th>title</th>\n",
       "      <th>url</th>\n",
       "      <th>original_price</th>\n",
       "      <th>new_price</th>\n",
       "      <th>tag_1</th>\n",
       "      <th>tag_3</th>\n",
       "      <th>...</th>\n",
       "      <th>tag_2_Makeup</th>\n",
       "      <th>tag_2_Pants</th>\n",
       "      <th>tag_2_Shoes</th>\n",
       "      <th>tag_2_Shorts</th>\n",
       "      <th>tag_2_Skirts</th>\n",
       "      <th>tag_2_Sweaters</th>\n",
       "      <th>tag_2_Swim</th>\n",
       "      <th>tag_2_Tops</th>\n",
       "      <th>clean_title</th>\n",
       "      <th>clean_description</th>\n",
       "    </tr>\n",
       "  </thead>\n",
       "  <tbody>\n",
       "  </tbody>\n",
       "</table>\n",
       "<p>0 rows × 28 columns</p>\n",
       "</div>"
      ],
      "text/plain": [
       "Empty DataFrame\n",
       "Columns: [brand, description, item_id, status, title, url, original_price, new_price, tag_1, tag_3, title_emoji, description_emoji, tag_2_Bags, tag_2_Dresses, tag_2_Intimates&Sleepwear, tag_2_Jackets&Coats, tag_2_Jeans, tag_2_Jewelry, tag_2_Makeup, tag_2_Pants, tag_2_Shoes, tag_2_Shorts, tag_2_Skirts, tag_2_Sweaters, tag_2_Swim, tag_2_Tops, clean_title, clean_description]\n",
       "Index: []\n",
       "\n",
       "[0 rows x 28 columns]"
      ]
     },
     "execution_count": 83,
     "metadata": {},
     "output_type": "execute_result"
    }
   ],
   "source": [
    "# Find rows where `clean_title` is null\n",
    "df[df['clean_title'].isnull()]"
   ]
  },
  {
   "cell_type": "code",
   "execution_count": 84,
   "metadata": {},
   "outputs": [],
   "source": [
    "df['clean_title'].dropna(inplace=True)\n",
    "df.reset_index(inplace=True, drop=True)"
   ]
  },
  {
   "cell_type": "code",
   "execution_count": 85,
   "metadata": {
    "scrolled": false
   },
   "outputs": [
    {
     "data": {
      "text/html": [
       "<div>\n",
       "<style scoped>\n",
       "    .dataframe tbody tr th:only-of-type {\n",
       "        vertical-align: middle;\n",
       "    }\n",
       "\n",
       "    .dataframe tbody tr th {\n",
       "        vertical-align: top;\n",
       "    }\n",
       "\n",
       "    .dataframe thead th {\n",
       "        text-align: right;\n",
       "    }\n",
       "</style>\n",
       "<table border=\"1\" class=\"dataframe\">\n",
       "  <thead>\n",
       "    <tr style=\"text-align: right;\">\n",
       "      <th></th>\n",
       "      <th>brand</th>\n",
       "      <th>description</th>\n",
       "      <th>item_id</th>\n",
       "      <th>status</th>\n",
       "      <th>title</th>\n",
       "      <th>url</th>\n",
       "      <th>original_price</th>\n",
       "      <th>new_price</th>\n",
       "      <th>tag_1</th>\n",
       "      <th>tag_3</th>\n",
       "      <th>...</th>\n",
       "      <th>tag_2_Makeup</th>\n",
       "      <th>tag_2_Pants</th>\n",
       "      <th>tag_2_Shoes</th>\n",
       "      <th>tag_2_Shorts</th>\n",
       "      <th>tag_2_Skirts</th>\n",
       "      <th>tag_2_Sweaters</th>\n",
       "      <th>tag_2_Swim</th>\n",
       "      <th>tag_2_Tops</th>\n",
       "      <th>clean_title</th>\n",
       "      <th>clean_description</th>\n",
       "    </tr>\n",
       "  </thead>\n",
       "  <tbody>\n",
       "  </tbody>\n",
       "</table>\n",
       "<p>0 rows × 28 columns</p>\n",
       "</div>"
      ],
      "text/plain": [
       "Empty DataFrame\n",
       "Columns: [brand, description, item_id, status, title, url, original_price, new_price, tag_1, tag_3, title_emoji, description_emoji, tag_2_Bags, tag_2_Dresses, tag_2_Intimates&Sleepwear, tag_2_Jackets&Coats, tag_2_Jeans, tag_2_Jewelry, tag_2_Makeup, tag_2_Pants, tag_2_Shoes, tag_2_Shorts, tag_2_Skirts, tag_2_Sweaters, tag_2_Swim, tag_2_Tops, clean_title, clean_description]\n",
       "Index: []\n",
       "\n",
       "[0 rows x 28 columns]"
      ]
     },
     "execution_count": 85,
     "metadata": {},
     "output_type": "execute_result"
    }
   ],
   "source": [
    "df[df['clean_description'].isnull()]"
   ]
  },
  {
   "cell_type": "code",
   "execution_count": 86,
   "metadata": {},
   "outputs": [],
   "source": [
    "# Replace null descriptions with a question mark\n",
    "df['clean_description'].fillna('?', inplace=True)"
   ]
  },
  {
   "cell_type": "code",
   "execution_count": 87,
   "metadata": {
    "scrolled": true
   },
   "outputs": [
    {
     "data": {
      "text/plain": [
       "brand                         object\n",
       "description                   object\n",
       "item_id                       object\n",
       "status                        object\n",
       "title                         object\n",
       "url                           object\n",
       "original_price               float64\n",
       "new_price                    float64\n",
       "tag_1                         object\n",
       "tag_3                         object\n",
       "title_emoji                    int64\n",
       "description_emoji              int64\n",
       "tag_2_Bags                     uint8\n",
       "tag_2_Dresses                  uint8\n",
       "tag_2_Intimates&Sleepwear      uint8\n",
       "tag_2_Jackets&Coats            uint8\n",
       "tag_2_Jeans                    uint8\n",
       "tag_2_Jewelry                  uint8\n",
       "tag_2_Makeup                   uint8\n",
       "tag_2_Pants                    uint8\n",
       "tag_2_Shoes                    uint8\n",
       "tag_2_Shorts                   uint8\n",
       "tag_2_Skirts                   uint8\n",
       "tag_2_Sweaters                 uint8\n",
       "tag_2_Swim                     uint8\n",
       "tag_2_Tops                     uint8\n",
       "clean_title                   object\n",
       "clean_description             object\n",
       "dtype: object"
      ]
     },
     "execution_count": 87,
     "metadata": {},
     "output_type": "execute_result"
    }
   ],
   "source": [
    "# Check datatypes\n",
    "df.dtypes"
   ]
  },
  {
   "cell_type": "code",
   "execution_count": 88,
   "metadata": {},
   "outputs": [
    {
     "data": {
      "text/html": [
       "<div>\n",
       "<style scoped>\n",
       "    .dataframe tbody tr th:only-of-type {\n",
       "        vertical-align: middle;\n",
       "    }\n",
       "\n",
       "    .dataframe tbody tr th {\n",
       "        vertical-align: top;\n",
       "    }\n",
       "\n",
       "    .dataframe thead th {\n",
       "        text-align: right;\n",
       "    }\n",
       "</style>\n",
       "<table border=\"1\" class=\"dataframe\">\n",
       "  <thead>\n",
       "    <tr style=\"text-align: right;\">\n",
       "      <th></th>\n",
       "      <th>brand</th>\n",
       "      <th>description</th>\n",
       "      <th>item_id</th>\n",
       "      <th>status</th>\n",
       "      <th>title</th>\n",
       "      <th>url</th>\n",
       "      <th>original_price</th>\n",
       "      <th>new_price</th>\n",
       "      <th>tag_1</th>\n",
       "      <th>tag_3</th>\n",
       "      <th>...</th>\n",
       "      <th>tag_2_Makeup</th>\n",
       "      <th>tag_2_Pants</th>\n",
       "      <th>tag_2_Shoes</th>\n",
       "      <th>tag_2_Shorts</th>\n",
       "      <th>tag_2_Skirts</th>\n",
       "      <th>tag_2_Sweaters</th>\n",
       "      <th>tag_2_Swim</th>\n",
       "      <th>tag_2_Tops</th>\n",
       "      <th>clean_title</th>\n",
       "      <th>clean_description</th>\n",
       "    </tr>\n",
       "  </thead>\n",
       "  <tbody>\n",
       "    <tr>\n",
       "      <th>0</th>\n",
       "      <td>Zenana Outfitters</td>\n",
       "      <td>Zenana Premium shirt, size large, came from a ...</td>\n",
       "      <td>5c76992f819e9019dc35783d</td>\n",
       "      <td>Buy Now</td>\n",
       "      <td>Zenana Premium shirt</td>\n",
       "      <td>https://poshmark.com/listing/Zenana-Premium-sh...</td>\n",
       "      <td>25.0</td>\n",
       "      <td>13.0</td>\n",
       "      <td>Women</td>\n",
       "      <td>Blouses</td>\n",
       "      <td>...</td>\n",
       "      <td>0</td>\n",
       "      <td>0</td>\n",
       "      <td>0</td>\n",
       "      <td>0</td>\n",
       "      <td>0</td>\n",
       "      <td>0</td>\n",
       "      <td>0</td>\n",
       "      <td>1</td>\n",
       "      <td>zenana premium shirt</td>\n",
       "      <td>zenana premium shirt size large came from a lo...</td>\n",
       "    </tr>\n",
       "    <tr>\n",
       "      <th>1</th>\n",
       "      <td>Dansko</td>\n",
       "      <td>Like New\\nOnly worn a few times\\nNo wear signs...</td>\n",
       "      <td>5c76989bfe5151cc53579bce</td>\n",
       "      <td>Buy Now</td>\n",
       "      <td>Dansko Black Leather Mary Janes</td>\n",
       "      <td>https://poshmark.com/listing/Dansko-Black-Leat...</td>\n",
       "      <td>0.0</td>\n",
       "      <td>25.0</td>\n",
       "      <td>Women</td>\n",
       "      <td>NaN</td>\n",
       "      <td>...</td>\n",
       "      <td>0</td>\n",
       "      <td>0</td>\n",
       "      <td>0</td>\n",
       "      <td>0</td>\n",
       "      <td>0</td>\n",
       "      <td>0</td>\n",
       "      <td>0</td>\n",
       "      <td>0</td>\n",
       "      <td>dansko black leather mary janes</td>\n",
       "      <td>like new only worn a few time no wear sign doe...</td>\n",
       "    </tr>\n",
       "    <tr>\n",
       "      <th>2</th>\n",
       "      <td>Matisse</td>\n",
       "      <td>Amazing pair of leopard print pony hair wedge ...</td>\n",
       "      <td>5c7694f9df03079e3a8c89cf</td>\n",
       "      <td>Buy Now</td>\n",
       "      <td>Matisse Leopard Wedge Bootie</td>\n",
       "      <td>https://poshmark.com/listing/Matisse-Leopard-W...</td>\n",
       "      <td>215.0</td>\n",
       "      <td>80.0</td>\n",
       "      <td>Women</td>\n",
       "      <td>AnkleBoots&amp;Booties</td>\n",
       "      <td>...</td>\n",
       "      <td>0</td>\n",
       "      <td>0</td>\n",
       "      <td>1</td>\n",
       "      <td>0</td>\n",
       "      <td>0</td>\n",
       "      <td>0</td>\n",
       "      <td>0</td>\n",
       "      <td>0</td>\n",
       "      <td>matisse leopard wedge bootie</td>\n",
       "      <td>amazing pair of leopard print pony hair wedge ...</td>\n",
       "    </tr>\n",
       "  </tbody>\n",
       "</table>\n",
       "<p>3 rows × 28 columns</p>\n",
       "</div>"
      ],
      "text/plain": [
       "               brand                                        description  \\\n",
       "0  Zenana Outfitters  Zenana Premium shirt, size large, came from a ...   \n",
       "1             Dansko  Like New\\nOnly worn a few times\\nNo wear signs...   \n",
       "2            Matisse  Amazing pair of leopard print pony hair wedge ...   \n",
       "\n",
       "                    item_id   status                            title  \\\n",
       "0  5c76992f819e9019dc35783d  Buy Now          Zenana Premium shirt      \n",
       "1  5c76989bfe5151cc53579bce  Buy Now  Dansko Black Leather Mary Janes   \n",
       "2  5c7694f9df03079e3a8c89cf  Buy Now     Matisse Leopard Wedge Bootie   \n",
       "\n",
       "                                                 url  original_price  \\\n",
       "0  https://poshmark.com/listing/Zenana-Premium-sh...            25.0   \n",
       "1  https://poshmark.com/listing/Dansko-Black-Leat...             0.0   \n",
       "2  https://poshmark.com/listing/Matisse-Leopard-W...           215.0   \n",
       "\n",
       "   new_price  tag_1               tag_3  \\\n",
       "0       13.0  Women             Blouses   \n",
       "1       25.0  Women                 NaN   \n",
       "2       80.0  Women  AnkleBoots&Booties   \n",
       "\n",
       "                         ...                          tag_2_Makeup  \\\n",
       "0                        ...                                     0   \n",
       "1                        ...                                     0   \n",
       "2                        ...                                     0   \n",
       "\n",
       "   tag_2_Pants  tag_2_Shoes  tag_2_Shorts  tag_2_Skirts  tag_2_Sweaters  \\\n",
       "0            0            0             0             0               0   \n",
       "1            0            0             0             0               0   \n",
       "2            0            1             0             0               0   \n",
       "\n",
       "   tag_2_Swim  tag_2_Tops                      clean_title  \\\n",
       "0           0           1             zenana premium shirt   \n",
       "1           0           0  dansko black leather mary janes   \n",
       "2           0           0     matisse leopard wedge bootie   \n",
       "\n",
       "                                   clean_description  \n",
       "0  zenana premium shirt size large came from a lo...  \n",
       "1  like new only worn a few time no wear sign doe...  \n",
       "2  amazing pair of leopard print pony hair wedge ...  \n",
       "\n",
       "[3 rows x 28 columns]"
      ]
     },
     "execution_count": 88,
     "metadata": {},
     "output_type": "execute_result"
    }
   ],
   "source": [
    "df.head(3)"
   ]
  },
  {
   "cell_type": "code",
   "execution_count": 89,
   "metadata": {},
   "outputs": [],
   "source": [
    "df.to_csv('./clean_data_3.csv')"
   ]
  }
 ],
 "metadata": {
  "kernelspec": {
   "display_name": "Python 3",
   "language": "python",
   "name": "python3"
  },
  "language_info": {
   "codemirror_mode": {
    "name": "ipython",
    "version": 3
   },
   "file_extension": ".py",
   "mimetype": "text/x-python",
   "name": "python",
   "nbconvert_exporter": "python",
   "pygments_lexer": "ipython3",
   "version": "3.6.5"
  }
 },
 "nbformat": 4,
 "nbformat_minor": 2
}
