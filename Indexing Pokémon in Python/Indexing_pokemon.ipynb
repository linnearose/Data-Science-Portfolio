{
 "cells": [
  {
   "cell_type": "markdown",
   "metadata": {},
   "source": [
    "<img src=\"http://imgur.com/1ZcRyrc.png\" style=\"float: left; margin: 15px; height: 80px\">\n",
    "\n",
    "# Lab 1.01: Data Structures and Python with Pokemon\n",
    "\n",
    "### Building \"Pokemon Stay\"\n",
    "\n",
    "---\n",
    "You are an analyst at a \"scrappy\" online gaming company that specializes in remakes of last year's fads.\n",
    "\n",
    "Your boss, who runs the product development team, is convinced that Pokemon Go's fatal flaw was that you had to actually move around outside. She has design mock-ups for a new game called Pokemon Stay: in this version players still need to move, but just from website to website. Pokemon gyms are now popular online destinations, and catching Pokemon in the \"wild\" simply requires browsing the internet for hours in the comfort of your home.\n",
    "\n",
    "She wants you to program a prototype version of the game."
   ]
  },
  {
   "cell_type": "markdown",
   "metadata": {},
   "source": [
    "**Don't get overwhelmed trying to go directly to your target.** Drill down through your data one level at a time, and you're less likely to get lost.\n",
    "___\n",
    "\n",
    "Now, let's [dig(lett)](https://pokemondb.net/pokedex/diglett) into some Pokemon data.\n",
    "\n",
    "![diglett](images/diglett.jpg)\n",
    "\n",
    "Remember, nested dicts aren't aren't [magik(arp)](https://pokemondb.net/pokedex/magikarp).\n",
    "\n",
    "![magikarp](images/magikarp.jpg)"
   ]
  },
  {
   "cell_type": "markdown",
   "metadata": {},
   "source": [
    "## 1. Defining a player\n",
    "\n",
    "---\n",
    "Each player needs to have a set of charactaristics, stored in variables, such as an id, a username, play data, etc. A great structure to house these variables is a `dictionary`, because the `values` can contain any python datatype includeing `list`, `dict`, `tuple`, `int`, `float`, `bool`, or `str`. \n",
    "\n",
    "The player characteristics (keys to the player dict) are:\n",
    "\n",
    "    player_id : id code unique to each player (integer)\n",
    "    player_name : entered name of the player (string)\n",
    "    time_played : number of time played the game in minutes (float)\n",
    "    player_pokemon: the player's captured pokemon (dictionary)\n",
    "    gyms_visited: ids of the gyms that a player has visited (list)"
   ]
  },
  {
   "cell_type": "markdown",
   "metadata": {},
   "source": [
    "### A) Create a `dict` for a single player.\n",
    "\n",
    "* The `player_id` should be 1\n",
    "* Since the player doesn't have a name yet, you may set the `player_name` equal to `None`\n",
    "* The rest of the fields should be populated properly depending on the datatype, i.e., `0.0` or an empty iterable of the appropriate type."
   ]
  },
  {
   "cell_type": "code",
   "execution_count": 1,
   "metadata": {},
   "outputs": [],
   "source": [
    "player_1 = {1:\n",
    "                 {'player_id': 1,\n",
    "                 'player_name': None,\n",
    "                 'time_played': 0.0,\n",
    "                 'gyms_visited': [],\n",
    "                 'player_pokemon': {}}}\n",
    "                "
   ]
  },
  {
   "cell_type": "code",
   "execution_count": 2,
   "metadata": {},
   "outputs": [],
   "source": [
    "# player_1"
   ]
  },
  {
   "cell_type": "markdown",
   "metadata": {},
   "source": [
    "### B) Create a `dict` to house your dataset of players.\n",
    "\n",
    "* Because only `player_1` exists, there should only be one `key:value` pair. \n",
    "* The `keys` of this `dict` should be the `player_id`, and the `values` should be the dictionaries with single-player info, including the `player_id` (slightly redundant)."
   ]
  },
  {
   "cell_type": "code",
   "execution_count": 3,
   "metadata": {},
   "outputs": [],
   "source": [
    "# Setting poke_players as player_1 since our poke_players dictionary only has one key:value pair so far\n",
    "poke_players = player_1"
   ]
  },
  {
   "cell_type": "code",
   "execution_count": 4,
   "metadata": {},
   "outputs": [
    {
     "data": {
      "text/plain": [
       "{1: {'player_id': 1,\n",
       "  'player_name': None,\n",
       "  'time_played': 0.0,\n",
       "  'gyms_visited': [],\n",
       "  'player_pokemon': {}}}"
      ]
     },
     "execution_count": 4,
     "metadata": {},
     "output_type": "execute_result"
    }
   ],
   "source": [
    "poke_players"
   ]
  },
  {
   "cell_type": "markdown",
   "metadata": {},
   "source": [
    "To see the contents of a variable, just run a code cell with the variable name in it."
   ]
  },
  {
   "cell_type": "markdown",
   "metadata": {},
   "source": [
    "### C) Update player 1's info with your own.\n",
    "\n",
    "* By indexing your `poke_players` dictionary, update the `player_name` field to your own name.\n",
    "* Display the contents of `poke_players` to check your work."
   ]
  },
  {
   "cell_type": "code",
   "execution_count": 5,
   "metadata": {},
   "outputs": [],
   "source": [
    "# # indexing poke_players to update 'player_name' to 'Linnea'\n",
    "# poke_players[1]['player_name'] = 'Linnea'"
   ]
  },
  {
   "cell_type": "code",
   "execution_count": 6,
   "metadata": {},
   "outputs": [],
   "source": [
    "# # indexing poke_players to update 'player_pokemon' with 'squirtle'\n",
    "# poke_players[1]['player_pokemon'][4] = 'squirtle'"
   ]
  },
  {
   "cell_type": "code",
   "execution_count": 7,
   "metadata": {},
   "outputs": [
    {
     "data": {
      "text/plain": [
       "{'player_id': 1,\n",
       " 'player_name': None,\n",
       " 'time_played': 0.0,\n",
       " 'gyms_visited': [],\n",
       " 'player_pokemon': {}}"
      ]
     },
     "execution_count": 7,
     "metadata": {},
     "output_type": "execute_result"
    }
   ],
   "source": [
    "poke_players[1]"
   ]
  },
  {
   "cell_type": "markdown",
   "metadata": {},
   "source": [
    "### D) Define a function that adds a player to `poke_players`.\n",
    "\n",
    "Your functions should...\n",
    "\n",
    "* Take arguments for `players_dict`, `player_id`, and `player_name`.\n",
    "* Create a player with the above values and populate the `gyms_visited`, `player_pokemon`, and `time_played` in the same way you did for `player_1` above.\n",
    "* Prints the name of the player added.\n",
    "* `return` the updated dictionary."
   ]
  },
  {
   "cell_type": "code",
   "execution_count": 8,
   "metadata": {},
   "outputs": [],
   "source": [
    "import numpy as np\n",
    "from random import sample\n",
    "\n",
    "gyms = ['reddit.com', 'amazon.com', 'twitter.com', 'linkedin.com', 'ebay.com', 'netflix.com', 'stackoverflow.com', 'github.com', 'quora.com', 'google.com']\n",
    "\n",
    "def add_player(players_dict, player_id, player_name):\n",
    "    players_dict = {\n",
    "            'player_id': player_id,\n",
    "            'player_name': player_name,\n",
    "            'time_played': 0.0,\n",
    "            'gyms_visited': sample(gyms,2),\n",
    "            'player_pokemon': {}}\n",
    "    \n",
    "    poke_players[player_id] = players_dict\n",
    "    print(player_name + ' has been added.')\n",
    "    print('')\n",
    "    return poke_players"
   ]
  },
  {
   "cell_type": "markdown",
   "metadata": {},
   "source": [
    "### E) Add a new player\n",
    "\n",
    "* Add a second player to the `poke_players` dictionary using the `add_player` function. The id should be 2, but the name is up to you!\n",
    "* Reassign and overwrite the `poke_players` dictionary.\n",
    "* Display the contents of `poke_players` to check your work."
   ]
  },
  {
   "cell_type": "code",
   "execution_count": 9,
   "metadata": {},
   "outputs": [
    {
     "name": "stdout",
     "output_type": "stream",
     "text": [
      "Linnea has been added.\n",
      "\n"
     ]
    },
    {
     "data": {
      "text/plain": [
       "{1: {'player_id': 1,\n",
       "  'player_name': 'Linnea',\n",
       "  'time_played': 0.0,\n",
       "  'gyms_visited': ['linkedin.com', 'netflix.com'],\n",
       "  'player_pokemon': {}}}"
      ]
     },
     "execution_count": 9,
     "metadata": {},
     "output_type": "execute_result"
    }
   ],
   "source": [
    "add_player('player_1',1,'Linnea')"
   ]
  },
  {
   "cell_type": "code",
   "execution_count": 10,
   "metadata": {},
   "outputs": [
    {
     "name": "stdout",
     "output_type": "stream",
     "text": [
      "Anders has been added.\n",
      "\n"
     ]
    },
    {
     "data": {
      "text/plain": [
       "{1: {'player_id': 1,\n",
       "  'player_name': 'Linnea',\n",
       "  'time_played': 0.0,\n",
       "  'gyms_visited': ['linkedin.com', 'netflix.com'],\n",
       "  'player_pokemon': {}},\n",
       " 2: {'player_id': 2,\n",
       "  'player_name': 'Anders',\n",
       "  'time_played': 0.0,\n",
       "  'gyms_visited': ['google.com', 'amazon.com'],\n",
       "  'player_pokemon': {}}}"
      ]
     },
     "execution_count": 10,
     "metadata": {},
     "output_type": "execute_result"
    }
   ],
   "source": [
    "add_player('player_2',2,'Anders')"
   ]
  },
  {
   "cell_type": "code",
   "execution_count": 11,
   "metadata": {},
   "outputs": [
    {
     "name": "stdout",
     "output_type": "stream",
     "text": [
      "Amy has been added.\n",
      "\n",
      "Dawn has been added.\n",
      "\n",
      "Jasmine has been added.\n",
      "\n"
     ]
    },
    {
     "data": {
      "text/plain": [
       "{1: {'player_id': 1,\n",
       "  'player_name': 'Linnea',\n",
       "  'time_played': 0.0,\n",
       "  'gyms_visited': ['linkedin.com', 'netflix.com'],\n",
       "  'player_pokemon': {}},\n",
       " 2: {'player_id': 2,\n",
       "  'player_name': 'Anders',\n",
       "  'time_played': 0.0,\n",
       "  'gyms_visited': ['google.com', 'amazon.com'],\n",
       "  'player_pokemon': {}},\n",
       " 3: {'player_id': 3,\n",
       "  'player_name': 'Amy',\n",
       "  'time_played': 0.0,\n",
       "  'gyms_visited': ['twitter.com', 'linkedin.com'],\n",
       "  'player_pokemon': {}},\n",
       " 4: {'player_id': 4,\n",
       "  'player_name': 'Dawn',\n",
       "  'time_played': 0.0,\n",
       "  'gyms_visited': ['stackoverflow.com', 'reddit.com'],\n",
       "  'player_pokemon': {}},\n",
       " 5: {'player_id': 5,\n",
       "  'player_name': 'Jasmine',\n",
       "  'time_played': 0.0,\n",
       "  'gyms_visited': ['amazon.com', 'netflix.com'],\n",
       "  'player_pokemon': {}}}"
      ]
     },
     "execution_count": 11,
     "metadata": {},
     "output_type": "execute_result"
    }
   ],
   "source": [
    "add_player('player_3',3,'Amy')\n",
    "add_player('player_4',4,'Dawn')\n",
    "add_player('player_5',5,'Jasmine')"
   ]
  },
  {
   "cell_type": "markdown",
   "metadata": {},
   "source": [
    "## 2. Defining \"gym\" locations\n",
    "\n",
    "---\n",
    "\n",
    "As the sole programmer, Pokemon Stay will have to start small. To begin, there will be 10 different gym location websites on the internet. The gym locations are:\n",
    "\n",
    "    1. 'reddit.com'\n",
    "    2. 'amazon.com'\n",
    "    3. 'twitter.com'\n",
    "    4. 'linkedin.com'\n",
    "    5. 'ebay.com'\n",
    "    6. 'netflix.com'\n",
    "    7. 'stackoverflow.com'\n",
    "    8. 'github.com'\n",
    "    9. 'quora.com'\n",
    "    10. 'google.com'\n",
    "\n",
    "* Set up a list of all the gym locations. This will be a list of strings. Print the list to check your work.\n",
    "* For each player in `poke_players`, use `sample` (imported from `random` below) to randomly select 2 gyms and add these gyms to the `gyms_visited` field.\n",
    "* Display the contents of `poke_players` to check your work."
   ]
  },
  {
   "cell_type": "code",
   "execution_count": 12,
   "metadata": {},
   "outputs": [],
   "source": [
    "# 2 gyms have already been randomly generated for each poke_player\n",
    "gyms = ['reddit.com', 'amazon.com', 'twitter.com', 'linkedin.com', 'ebay.com', 'netflix.com', 'stackoverflow.com', 'github.com', 'quora.com', 'google.com']"
   ]
  },
  {
   "cell_type": "code",
   "execution_count": 13,
   "metadata": {},
   "outputs": [],
   "source": [
    "def add_gym(players_dict, player_id):\n",
    "    new_gym = (sample(gyms,1)[0])\n",
    "    players_dict[player_id]['gyms_visited'].append(new_gym)\n",
    "    print(new_gym + ' has been added.')\n",
    "    print('')\n",
    "    return players_dict[player_id]['player_name'], players_dict[player_id]['gyms_visited']"
   ]
  },
  {
   "cell_type": "code",
   "execution_count": 14,
   "metadata": {},
   "outputs": [
    {
     "name": "stdout",
     "output_type": "stream",
     "text": [
      "reddit.com has been added.\n",
      "\n"
     ]
    },
    {
     "data": {
      "text/plain": [
       "('Anders', ['google.com', 'amazon.com', 'reddit.com'])"
      ]
     },
     "execution_count": 14,
     "metadata": {},
     "output_type": "execute_result"
    }
   ],
   "source": [
    "# Add a new random gym to a player (specified by player_id)\n",
    "add_gym(poke_players, 2)"
   ]
  },
  {
   "cell_type": "code",
   "execution_count": null,
   "metadata": {},
   "outputs": [],
   "source": []
  },
  {
   "cell_type": "markdown",
   "metadata": {},
   "source": [
    "## 3. Create a pokedex\n",
    "\n",
    "---\n",
    "\n",
    "We also need to create some pokemon to catch! Let's store the attributes of each pokemon in a `dictionary`, since each pokemon has many characteristics we'd like to store.\n",
    "\n",
    "\n",
    "Each pokemon will be defined by these characteristics (keys to the pokemon dict):\n",
    "\n",
    "    poke_id : unique identifier for each pokemon (integer, sequential)\n",
    "    poke_name : the name of the pokemon (string)\n",
    "    poke_type : the category of pokemon (string)\n",
    "    hp : base hitpoints (integer between 400 and 500)\n",
    "    attack : base attack (integer between 50 and 100)\n",
    "    defense : base defense (integer between 50 and 100)\n",
    "    special_attack : base special attack (integer between 100 and 150)\n",
    "    special_defense : base sepecial defense (integer between 100 and 150)\n",
    "    speed : base speed (integer between 0 and 100)\n",
    "    \n",
    "**Note**: All integer ranges are inclusive on both ends."
   ]
  },
  {
   "cell_type": "markdown",
   "metadata": {},
   "source": [
    "### A) Create a function called `create_pokemon`\n",
    "\n",
    "* The function should take arguments for `poke_id`, `poke_name`, and `poke_type`.\n",
    "* Assign these arguments along with random stats into a `dict` using the guidelines above.\n",
    "* Use `np.random.randint` to generate values for the numeric attributes based on the conditions above. If you're not clear on how this function works, there is a cell below with an example. Play around with it!\n",
    "* The function should return a `dict` for the pokemon.\n",
    "* Without assigning it to a variable, check the function's output by calling it with the following arguments:\n",
    "  * `poke_id = 1`\n",
    "  * `poke_name = 'charmander'`\n",
    "  * `poke_type = 'fire'`"
   ]
  },
  {
   "cell_type": "code",
   "execution_count": 15,
   "metadata": {},
   "outputs": [],
   "source": [
    "def create_pokemon(poke_id, poke_name, poke_type):\n",
    "    poke_dict = {\n",
    "        'poke_id': poke_id,\n",
    "        'poke_name': poke_name,\n",
    "        'poke_type': poke_type,\n",
    "        'hp': np.random.randint(400, 501),\n",
    "        'attack': np.random.randint(50, 101),\n",
    "        'defense': np.random.randint(50,101),\n",
    "        'special_attack': np.random.randint(100, 151),\n",
    "        'special_defense': np.random.randint(100, 151),\n",
    "        'speed': np.random.randint(0,101)}\n",
    "    return poke_dict"
   ]
  },
  {
   "cell_type": "markdown",
   "metadata": {},
   "source": [
    "### B) Populate the `pokedex`!\n",
    "\n",
    "Now we need some pokemon to catch. Let's create a dictionary to store the information!\n",
    "\n",
    "* Instantiate an empty dictionary called `pokedex`.\n",
    "* Define a function called `create_and_add_to_pokedex`. This function should...\n",
    "  * Take arguments for `pokedex`,  `poke_id`, `poke_name`, and `poke_type`.\n",
    "  * Use the `create_pokemon` function you created earlier to create a pokemon using the provided `poke_id`, `poke_name`, and `poke_type`.\n",
    "  * Add a new `key:value` pair to the `pokedex` dictionary where:\n",
    "    * the `key` is the `poke_id`, and\n",
    "    * the `value` is the newly-created pokemon dict, including the `poke_id` (this is slightly redundant, but that's ok!)\n",
    "  * Prints the name of the pokemon added to the pokedex using the string `format` method or `f` strings.\n",
    "* Add the following 3 pokemon to your `pokedex` using `create_and_add_to_pokedex`:\n",
    "\n",
    "|Id|Name|Type|\n",
    "|---|---|---|\n",
    "|1|charmander|fire|\n",
    "|2|squirtle|water|\n",
    "|3|bulasaur|poison|\n",
    "\n",
    "Display your `pokedex` to check your work. It should look something like...\n",
    "\n",
    "```python\n",
    "{1: {'attack': 64,\n",
    "  'defense': 59,\n",
    "  'hp': 495,\n",
    "  'poke_id': 1,\n",
    "  'poke_name': 'charmander',\n",
    "  'poke_type': 'fire',\n",
    "  'special_attack': 100,\n",
    "  ...\n",
    "```"
   ]
  },
  {
   "cell_type": "code",
   "execution_count": 16,
   "metadata": {},
   "outputs": [],
   "source": [
    "pokedex = {}"
   ]
  },
  {
   "cell_type": "code",
   "execution_count": 17,
   "metadata": {},
   "outputs": [],
   "source": [
    "def create_and_add_to_pokedex(pokedex, poke_id, poke_name, poke_type):\n",
    "    pokedex[poke_id] = create_pokemon(poke_id, poke_name, poke_type)\n",
    "    return pokedex"
   ]
  },
  {
   "cell_type": "code",
   "execution_count": 18,
   "metadata": {},
   "outputs": [
    {
     "data": {
      "text/plain": [
       "{1: {'poke_id': 1,\n",
       "  'poke_name': 'charmander',\n",
       "  'poke_type': 'fire',\n",
       "  'hp': 411,\n",
       "  'attack': 84,\n",
       "  'defense': 83,\n",
       "  'special_attack': 137,\n",
       "  'special_defense': 123,\n",
       "  'speed': 29},\n",
       " 2: {'poke_id': 2,\n",
       "  'poke_name': 'squirtle',\n",
       "  'poke_type': 'water',\n",
       "  'hp': 481,\n",
       "  'attack': 95,\n",
       "  'defense': 65,\n",
       "  'special_attack': 147,\n",
       "  'special_defense': 113,\n",
       "  'speed': 10},\n",
       " 3: {'poke_id': 3,\n",
       "  'poke_name': 'bulbasaur',\n",
       "  'poke_type': 'poison',\n",
       "  'hp': 472,\n",
       "  'attack': 97,\n",
       "  'defense': 62,\n",
       "  'special_attack': 129,\n",
       "  'special_defense': 143,\n",
       "  'speed': 73},\n",
       " 4: {'poke_id': 4,\n",
       "  'poke_name': 'diglett',\n",
       "  'poke_type': 'ground',\n",
       "  'hp': 429,\n",
       "  'attack': 89,\n",
       "  'defense': 99,\n",
       "  'special_attack': 150,\n",
       "  'special_defense': 111,\n",
       "  'speed': 19},\n",
       " 5: {'poke_id': 5,\n",
       "  'poke_name': 'pikachu',\n",
       "  'poke_type': 'electric',\n",
       "  'hp': 432,\n",
       "  'attack': 54,\n",
       "  'defense': 83,\n",
       "  'special_attack': 145,\n",
       "  'special_defense': 113,\n",
       "  'speed': 25},\n",
       " 6: {'poke_id': 6,\n",
       "  'poke_name': 'jigglypuff',\n",
       "  'poke_type': 'fairy',\n",
       "  'hp': 448,\n",
       "  'attack': 89,\n",
       "  'defense': 65,\n",
       "  'special_attack': 108,\n",
       "  'special_defense': 134,\n",
       "  'speed': 71},\n",
       " 7: {'poke_id': 7,\n",
       "  'poke_name': 'oddish',\n",
       "  'poke_type': 'poison',\n",
       "  'hp': 429,\n",
       "  'attack': 58,\n",
       "  'defense': 61,\n",
       "  'special_attack': 119,\n",
       "  'special_defense': 141,\n",
       "  'speed': 64},\n",
       " 8: {'poke_id': 8,\n",
       "  'poke_name': 'meowth',\n",
       "  'poke_type': 'normal',\n",
       "  'hp': 496,\n",
       "  'attack': 78,\n",
       "  'defense': 67,\n",
       "  'special_attack': 128,\n",
       "  'special_defense': 140,\n",
       "  'speed': 38},\n",
       " 9: {'poke_id': 9,\n",
       "  'poke_name': 'psyduck',\n",
       "  'poke_type': 'water',\n",
       "  'hp': 486,\n",
       "  'attack': 68,\n",
       "  'defense': 88,\n",
       "  'special_attack': 112,\n",
       "  'special_defense': 116,\n",
       "  'speed': 71},\n",
       " 10: {'poke_id': 10,\n",
       "  'poke_name': 'slowpoke',\n",
       "  'poke_type': 'psychic',\n",
       "  'hp': 448,\n",
       "  'attack': 67,\n",
       "  'defense': 54,\n",
       "  'special_attack': 141,\n",
       "  'special_defense': 147,\n",
       "  'speed': 62}}"
      ]
     },
     "execution_count": 18,
     "metadata": {},
     "output_type": "execute_result"
    }
   ],
   "source": [
    "create_and_add_to_pokedex(pokedex, 1, 'charmander', 'fire')\n",
    "create_and_add_to_pokedex(pokedex, 2, 'squirtle', 'water')\n",
    "create_and_add_to_pokedex(pokedex, 3, 'bulbasaur', 'poison')\n",
    "create_and_add_to_pokedex(pokedex, 4, 'diglett','ground')\n",
    "create_and_add_to_pokedex(pokedex, 5, 'pikachu', 'electric')\n",
    "create_and_add_to_pokedex(pokedex, 6, 'jigglypuff', 'fairy')\n",
    "create_and_add_to_pokedex(pokedex, 7, 'oddish', 'poison')\n",
    "create_and_add_to_pokedex(pokedex, 8, 'meowth', 'normal')\n",
    "create_and_add_to_pokedex(pokedex, 9, 'psyduck', 'water')\n",
    "create_and_add_to_pokedex(pokedex, 10, 'slowpoke', 'psychic')"
   ]
  },
  {
   "cell_type": "code",
   "execution_count": 19,
   "metadata": {},
   "outputs": [],
   "source": [
    "# pokedex"
   ]
  },
  {
   "cell_type": "markdown",
   "metadata": {},
   "source": [
    "## 4. Let's capture some pokemon!\n",
    "\n",
    "---\n",
    "\n",
    "Each player in `poke_players` should have a nested dictionary with the key `'player_pokemon'`. This is intended to be the place where we keep track of which of the pokemon each player has.\n",
    "\n",
    "The keys of the `'player_pokemon'` dictionaries are the `poke_id`s that correspond to the ids in the `pokedex` dictionary you created earlier, and the values are the individual pokemon dicts. \n",
    "\n",
    "Essentially, we are replicating the structure of our `pokedex` for each user, only showing the Pokemon a particular user has captured nested within their individual player dictionary.\n",
    "\n",
    "* Define a function called `add_pokemon_to_player` that...\n",
    "  * Takes arguents for `player_id`, `poke_id`, `poke_players`, and `pokedex`.\n",
    "  * Adds the desired pokemon to the `player_pokemon` field of the specified player\n",
    "  * Prints which pokemon was added to which player.\n",
    "  * Returns the modified `poke_players`."
   ]
  },
  {
   "cell_type": "code",
   "execution_count": 20,
   "metadata": {},
   "outputs": [],
   "source": [
    "# function to add a pokemon to a player's 'player_pokemon' dict\n",
    "def add_pokemon_to_player(player_id, poke_id, players = poke_players, index = pokedex):\n",
    "    players[player_id]['player_pokemon'][poke_id] = index[poke_id] \n",
    "    return poke_players"
   ]
  },
  {
   "cell_type": "markdown",
   "metadata": {},
   "source": [
    "* Call your function three times to add \n",
    "  * `squirtle` to player 1\n",
    "  * `charmander` to player 2\n",
    "  * `bulbasaur` to player 2\n",
    "* Overwrite your `poke_player` variable each time with the updated dictionary.\n",
    "* Display the contents of `poke_players` to check your work."
   ]
  },
  {
   "cell_type": "code",
   "execution_count": 21,
   "metadata": {},
   "outputs": [],
   "source": [
    "poke_players = add_pokemon_to_player(1, 1)\n",
    "poke_players = add_pokemon_to_player(1, 2)\n",
    "poke_players = add_pokemon_to_player(1, 3)\n",
    "poke_players = add_pokemon_to_player(2, 2)\n",
    "poke_players = add_pokemon_to_player(2, 3)\n",
    "poke_players = add_pokemon_to_player(2, 4)\n",
    "poke_players = add_pokemon_to_player(3, 3)\n",
    "poke_players = add_pokemon_to_player(3, 4)\n",
    "poke_players = add_pokemon_to_player(3, 5)\n",
    "poke_players = add_pokemon_to_player(4, 4)\n",
    "poke_players = add_pokemon_to_player(4, 5)\n",
    "poke_players = add_pokemon_to_player(4, 6)\n",
    "poke_players = add_pokemon_to_player(5, 5)\n",
    "poke_players = add_pokemon_to_player(5, 6)\n",
    "poke_players = add_pokemon_to_player(5, 7)"
   ]
  },
  {
   "cell_type": "code",
   "execution_count": 22,
   "metadata": {},
   "outputs": [],
   "source": [
    "# poke_players"
   ]
  },
  {
   "cell_type": "markdown",
   "metadata": {},
   "source": [
    "## 5. What gyms have players visited?\n",
    "\n",
    "### A) Checking gyms\n",
    "\n",
    "Write a nested for-loop that:\n",
    "\n",
    "1. Iterates through the `gyms` list of gym locations you defined before.\n",
    "2. For each gym, iterate through each player in the `poke_players` dictionary with a second, internal for-loop, checking if the player has visited that gym (stored in the `'gyms_visited'` list).\n",
    "3. If the player has visited the gym, print out \"{player_name} has visited {gym}.\", filling in `{player_name}` and `{gym}` with the current player's name and current gym location."
   ]
  },
  {
   "cell_type": "code",
   "execution_count": 23,
   "metadata": {},
   "outputs": [],
   "source": [
    "def check_gyms(players = poke_players):\n",
    "    for player in players:\n",
    "        print('-', poke_players[player]['player_name'],'has visited -')\n",
    "        for g in gyms:\n",
    "            if g in poke_players[player]['gyms_visited']:\n",
    "                print(g)\n",
    "            else:\n",
    "                None\n",
    "        \n",
    "        print('')\n"
   ]
  },
  {
   "cell_type": "code",
   "execution_count": 24,
   "metadata": {},
   "outputs": [
    {
     "name": "stdout",
     "output_type": "stream",
     "text": [
      "- Linnea has visited -\n",
      "linkedin.com\n",
      "netflix.com\n",
      "\n",
      "- Anders has visited -\n",
      "reddit.com\n",
      "amazon.com\n",
      "google.com\n",
      "\n",
      "- Amy has visited -\n",
      "twitter.com\n",
      "linkedin.com\n",
      "\n",
      "- Dawn has visited -\n",
      "reddit.com\n",
      "stackoverflow.com\n",
      "\n",
      "- Jasmine has visited -\n",
      "amazon.com\n",
      "netflix.com\n",
      "\n"
     ]
    }
   ],
   "source": [
    "check_gyms()"
   ]
  },
  {
   "cell_type": "code",
   "execution_count": 25,
   "metadata": {},
   "outputs": [],
   "source": [
    "def gym_dwellers(gymnasium = gyms):\n",
    "    for g in gymnasium:\n",
    "        print('-',g,'-')\n",
    "        for player in poke_players:\n",
    "            if g in poke_players[player]['gyms_visited']:\n",
    "                print(poke_players[player]['player_name'])\n",
    "            else:\n",
    "                None\n",
    "        print('')"
   ]
  },
  {
   "cell_type": "code",
   "execution_count": 26,
   "metadata": {},
   "outputs": [
    {
     "name": "stdout",
     "output_type": "stream",
     "text": [
      "- reddit.com -\n",
      "Anders\n",
      "Dawn\n",
      "\n",
      "- amazon.com -\n",
      "Anders\n",
      "Jasmine\n",
      "\n",
      "- twitter.com -\n",
      "Amy\n",
      "\n",
      "- linkedin.com -\n",
      "Linnea\n",
      "Amy\n",
      "\n",
      "- ebay.com -\n",
      "\n",
      "- netflix.com -\n",
      "Linnea\n",
      "Jasmine\n",
      "\n",
      "- stackoverflow.com -\n",
      "Dawn\n",
      "\n",
      "- github.com -\n",
      "\n",
      "- quora.com -\n",
      "\n",
      "- google.com -\n",
      "Anders\n",
      "\n"
     ]
    }
   ],
   "source": [
    "gym_dwellers()"
   ]
  },
  {
   "cell_type": "markdown",
   "metadata": {},
   "source": [
    "### B) Computational Complexity\n",
    "\n",
    "How many times did that loop run? If you have N gyms and also M players, how many times would it run as a function of N and M? \n",
    "\n",
    "(You can write your answer as Markdown text.)"
   ]
  },
  {
   "cell_type": "markdown",
   "metadata": {},
   "source": [
    "$N \\text{ gyms x } M \\text{ players } = NxM$"
   ]
  },
  {
   "cell_type": "markdown",
   "metadata": {},
   "source": []
  },
  {
   "cell_type": "markdown",
   "metadata": {},
   "source": [
    "`def loop_count(n,m):\n",
    "    return n*m`"
   ]
  },
  {
   "cell_type": "markdown",
   "metadata": {},
   "source": [
    "## 6. Calculate player \"power\".\n",
    "\n",
    "---\n",
    "\n",
    "Define a function that will calculate a player's \"power\". Player power is defined as the sum of the base statistics all of their pokemon.\n",
    "\n",
    "$$\n",
    "\\text{player power } = \\sum_{i = 1}^{n}\\text{attack}_i + \\text{defense}_i + \\text{special attack}_i + \\text{special defense}_i\n",
    "$$\n",
    "\n",
    "Where $i$ is an individual pokemon in a player's `player_pokemon`. ($\\sum$ just means sum, so you're just adding up all the attributes listed above for all the pokemon in the player's `player_pokemon`).\n",
    "\n",
    "Your function should:\n",
    "\n",
    "*  Accept a `poke_players` dictionary and a `player_id` as arguments.\n",
    "*  For the specified player_id, look up that player's pokemon.\n",
    "*  Find and aggregate the attack and defense values for each of the player's pokemon.\n",
    "*  Print \"{player_name}'s power is {player_power}.\", where the `player_power` is the sum of the base statistics for all of their pokemon.\n",
    "*  Return the player's power value.\n",
    "\n",
    "Check your work by looping through all players in your `poke_players` dict."
   ]
  },
  {
   "cell_type": "markdown",
   "metadata": {},
   "source": [
    "#### Defining function to return the library of stats for a selected pokemon"
   ]
  },
  {
   "cell_type": "code",
   "execution_count": 27,
   "metadata": {},
   "outputs": [],
   "source": [
    "# This function returns a pokemon's library of stats (p_stat_nest) based on input (poke_id)\n",
    "\n",
    "def get_stat(poke_id, player_dict = pokedex):\n",
    "    # Instantiates p_stat_nest as the (nested) dict of poke_id stats  \n",
    "    p_stat_nest = player_dict[poke_id]\n",
    "    return p_stat_nest"
   ]
  },
  {
   "cell_type": "code",
   "execution_count": 28,
   "metadata": {},
   "outputs": [],
   "source": [
    "# get_stat(10)"
   ]
  },
  {
   "cell_type": "markdown",
   "metadata": {},
   "source": [
    "#### Defining functions to return stats quickly using get_stat()"
   ]
  },
  {
   "cell_type": "markdown",
   "metadata": {},
   "source": [
    "For the following functions: Each function returns a stat for selected pokemon (poke_id) based on key (ex: 'poke_name') as input"
   ]
  },
  {
   "cell_type": "code",
   "execution_count": 29,
   "metadata": {},
   "outputs": [],
   "source": [
    "def get_name(poke_id):\n",
    "    poke_name = get_stat(poke_id)['poke_name']\n",
    "    return poke_name"
   ]
  },
  {
   "cell_type": "code",
   "execution_count": 30,
   "metadata": {},
   "outputs": [
    {
     "data": {
      "text/plain": [
       "'slowpoke'"
      ]
     },
     "execution_count": 30,
     "metadata": {},
     "output_type": "execute_result"
    }
   ],
   "source": [
    "get_name(10)"
   ]
  },
  {
   "cell_type": "code",
   "execution_count": 31,
   "metadata": {},
   "outputs": [],
   "source": [
    "def get_type(poke_id):\n",
    "    poke_type = get_stat(poke_id)['poke_type']\n",
    "    return poke_type"
   ]
  },
  {
   "cell_type": "code",
   "execution_count": 32,
   "metadata": {},
   "outputs": [
    {
     "data": {
      "text/plain": [
       "'psychic'"
      ]
     },
     "execution_count": 32,
     "metadata": {},
     "output_type": "execute_result"
    }
   ],
   "source": [
    "get_type(10)"
   ]
  },
  {
   "cell_type": "code",
   "execution_count": 33,
   "metadata": {},
   "outputs": [],
   "source": [
    "def get_hp(poke_id):\n",
    "    hp = get_stat(poke_id)['hp']\n",
    "    return hp"
   ]
  },
  {
   "cell_type": "code",
   "execution_count": 34,
   "metadata": {},
   "outputs": [
    {
     "data": {
      "text/plain": [
       "411"
      ]
     },
     "execution_count": 34,
     "metadata": {},
     "output_type": "execute_result"
    }
   ],
   "source": [
    "get_hp(1)"
   ]
  },
  {
   "cell_type": "code",
   "execution_count": 35,
   "metadata": {},
   "outputs": [],
   "source": [
    "def get_speed(poke_id):\n",
    "    speed = get_stat(poke_id)['speed']\n",
    "    return speed"
   ]
  },
  {
   "cell_type": "code",
   "execution_count": 36,
   "metadata": {},
   "outputs": [
    {
     "data": {
      "text/plain": [
       "29"
      ]
     },
     "execution_count": 36,
     "metadata": {},
     "output_type": "execute_result"
    }
   ],
   "source": [
    "get_speed(1)"
   ]
  },
  {
   "cell_type": "code",
   "execution_count": 37,
   "metadata": {},
   "outputs": [],
   "source": [
    "def get_power(poke_id):\n",
    "    power = get_stat(poke_id)['attack'] + get_stat(poke_id)['defense'] + get_stat(poke_id)['special_attack'] + get_stat(poke_id)['special_defense']\n",
    "    return power"
   ]
  },
  {
   "cell_type": "code",
   "execution_count": 38,
   "metadata": {},
   "outputs": [
    {
     "data": {
      "text/plain": [
       "413"
      ]
     },
     "execution_count": 38,
     "metadata": {},
     "output_type": "execute_result"
    }
   ],
   "source": [
    "get_power(8)"
   ]
  },
  {
   "cell_type": "markdown",
   "metadata": {},
   "source": [
    "#### Poke stats for a specific player"
   ]
  },
  {
   "cell_type": "code",
   "execution_count": 39,
   "metadata": {},
   "outputs": [],
   "source": [
    "# This function (player_poke_stats) spits out some poke stats (p_stat) for each pokemon belonging to a specific player (player_id)\n",
    "\n",
    "# Pick a player --> player_id\n",
    "def player_poke_stats(player_id, player_dict = poke_players):\n",
    "    # Instantiate player_dict\n",
    "    player_dict = get_stat(player_id, player_dict)\n",
    "    # Create list of integers to iterate over\n",
    "    poke_list = list(player_dict['player_pokemon'].keys())\n",
    "    print(player_dict['player_name'] + \"'s Pokemon\")\n",
    "    print('')\n",
    "    # Print the stats\n",
    "    for n in poke_list:\n",
    "        print(n,'*',get_name(n).capitalize())\n",
    "        print('~', get_type(n), '~')\n",
    "        print('Speed:', get_speed(n))\n",
    "        print('Power:', get_power(n))\n",
    "        print('HP:', get_hp(n))\n",
    "        print('')\n",
    "    print('-end-')\n",
    "    print('')"
   ]
  },
  {
   "cell_type": "code",
   "execution_count": 40,
   "metadata": {},
   "outputs": [
    {
     "name": "stdout",
     "output_type": "stream",
     "text": [
      "Jasmine's Pokemon\n",
      "\n",
      "5 * Pikachu\n",
      "~ electric ~\n",
      "Speed: 25\n",
      "Power: 395\n",
      "HP: 432\n",
      "\n",
      "6 * Jigglypuff\n",
      "~ fairy ~\n",
      "Speed: 71\n",
      "Power: 396\n",
      "HP: 448\n",
      "\n",
      "7 * Oddish\n",
      "~ poison ~\n",
      "Speed: 64\n",
      "Power: 379\n",
      "HP: 429\n",
      "\n",
      "-end-\n",
      "\n",
      "Linnea's Pokemon\n",
      "\n",
      "1 * Charmander\n",
      "~ fire ~\n",
      "Speed: 29\n",
      "Power: 427\n",
      "HP: 411\n",
      "\n",
      "2 * Squirtle\n",
      "~ water ~\n",
      "Speed: 10\n",
      "Power: 420\n",
      "HP: 481\n",
      "\n",
      "3 * Bulbasaur\n",
      "~ poison ~\n",
      "Speed: 73\n",
      "Power: 431\n",
      "HP: 472\n",
      "\n",
      "-end-\n",
      "\n"
     ]
    }
   ],
   "source": [
    "player_poke_stats(5)\n",
    "player_poke_stats(1)"
   ]
  },
  {
   "cell_type": "markdown",
   "metadata": {},
   "source": [
    "#### Total poke power for a specific player"
   ]
  },
  {
   "cell_type": "code",
   "execution_count": 41,
   "metadata": {},
   "outputs": [],
   "source": [
    "def total_power(player_id, player_dict = poke_players):\n",
    "    # Instantiate player_dict\n",
    "    player_dict = get_stat(player_id, player_dict)\n",
    "    # Create list of integers to iterate over\n",
    "    poke_list = list(player_dict['player_pokemon'].keys())\n",
    "    power = 0  # \n",
    "    for n in poke_list:\n",
    "        num = get_power(n)\n",
    "        power += num\n",
    "    print('Total Poke Power:',power)\n",
    "    return power\n",
    "        "
   ]
  },
  {
   "cell_type": "markdown",
   "metadata": {},
   "source": [
    "#### Potentially print out total_power within player_poke_stats"
   ]
  },
  {
   "cell_type": "code",
   "execution_count": 42,
   "metadata": {},
   "outputs": [
    {
     "name": "stdout",
     "output_type": "stream",
     "text": [
      "Linnea's Pokemon\n",
      "\n",
      "1 * Charmander\n",
      "~ fire ~\n",
      "Speed: 29\n",
      "Power: 427\n",
      "HP: 411\n",
      "\n",
      "2 * Squirtle\n",
      "~ water ~\n",
      "Speed: 10\n",
      "Power: 420\n",
      "HP: 481\n",
      "\n",
      "3 * Bulbasaur\n",
      "~ poison ~\n",
      "Speed: 73\n",
      "Power: 431\n",
      "HP: 472\n",
      "\n",
      "-end-\n",
      "\n",
      "Total Poke Power: 1278\n"
     ]
    },
    {
     "data": {
      "text/plain": [
       "1278"
      ]
     },
     "execution_count": 42,
     "metadata": {},
     "output_type": "execute_result"
    }
   ],
   "source": [
    "player_poke_stats(1)\n",
    "total_power(1)"
   ]
  },
  {
   "cell_type": "markdown",
   "metadata": {},
   "source": [
    "## 7. Load a pokedex file containing all the pokemon\n",
    "\n",
    "---\n",
    "\n",
    "### Load data using the `with open()` method.\n",
    "\n",
    "While you were putting together the prototype code, your colleagues were preparing a dataset of Pokemon and their attributes (This was a rush job, so they may have picked some crazy values for some...). Your task is to load the data into a list of lists so you can manipulate it.\n",
    "\n",
    "* The `type` of the data should be a `list`\n",
    "  * The `type` of each element in that list should be a `list`\n",
    "    * The `type` of each element in the sub-list should be `str` or `float`.\n",
    "\n",
    "The code provided loads the data into one looooong `str`. To get it into the correct format:\n",
    "* Use the string `.replace()` method to remove `\"`. \n",
    "* Use the string `.split()` method to create a new row for each line. New lines are denoted with a `'\\n'`.\n",
    "* Use `.split()` again on each line, splitting on commas to separate your individual values.\n",
    "* Iterate through your data. Use `try/except` to cast numeric data as type `float`. \n",
    "\n",
    "Your end result is effectively a matrix. Each list $i$ in the outer list is a row, and the $j$th elements of list together form the *j*th column, which represents a data attribute. The first three lists in your pokedex list should look like this:\n",
    "\n",
    "    ['PokedexNumber', 'Name', 'Type', 'Total', 'HP', 'Attack', 'Defense', 'SpecialAttack', 'SpecialDefense', 'Speed']\n",
    "    [1.0, 'Bulbasaur', 'GrassPoison', 318.0, 45.0, 49.0, 49.0, 65.0, 65.0, 45.0]\n",
    "    [2.0, 'Ivysaur', 'GrassPoison', 405.0, 60.0, 62.0, 63.0, 80.0, 80.0, 60.0]\n",
    "    \n",
    "In the above example, `new_pd[1][3]` would return the value `[318.0]`, which occupies the 4th index of the 2nd row (Python is 0-indexed).\n",
    "    \n",
    "**WARNING:** Don't print or display your entire new pokedex! Viewing that many entries will clog up your notebook and make it difficult to read."
   ]
  },
  {
   "cell_type": "markdown",
   "metadata": {},
   "source": [
    "#### Load data into a list of lists to then manipulate"
   ]
  },
  {
   "cell_type": "markdown",
   "metadata": {},
   "source": [
    "### ```raw_pd_sample``` \n",
    "*One long string*\n",
    "```\n",
    "\"PokedexNumber\",\"Name\",\"Type\",\"Total\",\"HP\",\"Attack\",\"Defense\",\"SpecialAttack\",\"SpecialDefense\",\"Speed\"\n",
    "\"001\",\"Bulbasaur\",\"GrassPoison\",\"318\",\"45\",\"49\",\"49\",\"65\",\"65\",\"45\"\n",
    "\"002\",\"Ivysaur\",\"GrassPoison\",\"405\",\"60\",\"62\",\"63\",\"80\",\"80\",\"60\"\n",
    "```\n",
    "#### 1. raw_pd_sample = ```raw_pd_sample.replace('\\\"','')```\n",
    "*Reassign* ```raw_pd_sample``` *after removing* ```\"```\n",
    "```\n",
    "PokedexNumber,Name,Type,Total,HP,Attack,Defense,SpecialAttack,SpecialDefense,Speed\n",
    "001,Bulbasaur,GrassPoison,318,45,49,49,65,65,45\n",
    "002,Ivysaur,GrassPoison,405,60,62,63,80,80,60\n",
    "```\n",
    "#### 2. raw_pd_sample = ```raw_pd_sample.split('\\n')```\n",
    "*Reassign* ```raw_pd_sample``` *after splitting on line breaks* ```\\n```\n",
    "```\n",
    "['PokedexNumber,Name,Type,Total,HP,Attack,Defense,SpecialAttack,SpecialDefense,Speed', '001,Bulbasaur,GrassPoison,318,45,49,49,65,65,45', '002,Ivysaur,GrassPoison,405,60,62,63,80,80,60']\n",
    "```\n",
    "#### 3. ```convert(raw_pd_2)```\n",
    "*Turn the list of strings into a list of lists of strings*\n",
    "```\n",
    "['PokedexNumber', 'Name', 'Type', 'Total', 'HP', 'Attack', 'Defense', 'SpecialAttack', 'SpecialDefense', 'Speed']\n",
    "['001', 'Bulbasaur', 'GrassPoison', '318', '45', '49', '49', '65', '65', '45']\n",
    "['002', 'Ivysaur', 'GrassPoison', '405', '60', '62', '63', '80', '80', '60']\n",
    "```\n",
    "\n"
   ]
  },
  {
   "cell_type": "code",
   "execution_count": 43,
   "metadata": {},
   "outputs": [],
   "source": [
    "# Code to read in pokedex info\n",
    "raw_pd = ''  # Empty list for pokedex file\n",
    "pokedex_file = 'pokedex_basic.csv' # setting variable to point to pokedex CSV file\n",
    "with open(pokedex_file, 'r') as f:\n",
    "    raw_pd = f.read() # The pokedex string is assigned to the raw_pd variable\n",
    "    \n",
    "# Cleaning and reformatting data\n",
    "raw_pd_1 = raw_pd.replace('\\\"','')  # type = STR\n",
    "\n",
    "# print(raw_pd_sample)\n",
    "raw_pd_2 = raw_pd_1.split('\\n') # type = LIST\n",
    "# print(len(raw_pd_2))\n",
    "\n",
    "# Convert\n",
    "def convert(working_list = raw_pd_2):\n",
    "    the_list = []\n",
    "    for entry in (range(len(working_list))):\n",
    "        meow = (working_list[entry].split(','))\n",
    "        the_list.append(meow)\n",
    "    return the_list"
   ]
  },
  {
   "cell_type": "code",
   "execution_count": 44,
   "metadata": {},
   "outputs": [],
   "source": [
    "new_pd = convert() # Instantiating new list of lists of strings\n",
    "# new_pd"
   ]
  },
  {
   "cell_type": "code",
   "execution_count": 45,
   "metadata": {},
   "outputs": [
    {
     "data": {
      "text/plain": [
       "801"
      ]
     },
     "execution_count": 45,
     "metadata": {},
     "output_type": "execute_result"
    }
   ],
   "source": [
    "len(new_pd)"
   ]
  },
  {
   "cell_type": "code",
   "execution_count": 46,
   "metadata": {
    "scrolled": true
   },
   "outputs": [],
   "source": [
    "# print(new_pd[1][0])\n",
    "# print(new_pd[1][1])\n",
    "# print(new_pd[1][2])"
   ]
  },
  {
   "cell_type": "markdown",
   "metadata": {},
   "source": [
    "Iterate through your data. Use try/except to cast numeric data as type float."
   ]
  },
  {
   "cell_type": "code",
   "execution_count": 47,
   "metadata": {},
   "outputs": [],
   "source": [
    "for number in range(1,801):\n",
    "    try: \n",
    "        new_pd[number][0] = int(new_pd[number][0])\n",
    "    except ValueError:\n",
    "        print('This value cannot be converted to an integer.')\n",
    "\n",
    "for number in range(1,len(new_pd)):\n",
    "    for num in range(3,10):\n",
    "        try:\n",
    "            new_pd[number][num] = float(new_pd[number][num])\n",
    "        except ValueError:\n",
    "            print('This value cannot be converted to a float.')"
   ]
  },
  {
   "cell_type": "code",
   "execution_count": 48,
   "metadata": {},
   "outputs": [],
   "source": [
    "# new_pd"
   ]
  },
  {
   "cell_type": "code",
   "execution_count": 49,
   "metadata": {},
   "outputs": [
    {
     "data": {
      "text/plain": [
       "[1, 'Bulbasaur', 'GrassPoison', 318.0, 45.0, 49.0, 49.0, 65.0, 65.0, 45.0]"
      ]
     },
     "execution_count": 49,
     "metadata": {},
     "output_type": "execute_result"
    }
   ],
   "source": [
    "new_pd[1]"
   ]
  },
  {
   "cell_type": "code",
   "execution_count": 50,
   "metadata": {},
   "outputs": [],
   "source": [
    "# # Creating function to convert numeric strings to integers and floats\n",
    "\n",
    "# def numbers(new_pd):\n",
    "#     for number in range(1,len(new_pd)):  # starts on 2nd row since the first row contains column names\n",
    "#         for num in range(1):\n",
    "#             new_pd[number][num] = float(new_pd[number][num])\n",
    "#             new_pd[number][num] = int(new_pd[number][num])\n",
    "#         for num in range(3,10):\n",
    "#             new_pd[number][num] = float(new_pd[number][num])\n",
    "#     return(new_pd)"
   ]
  },
  {
   "cell_type": "code",
   "execution_count": 51,
   "metadata": {},
   "outputs": [],
   "source": [
    "# new_pd = numbers(new_pd)  # Reassigning new_pd to version with integers and floats"
   ]
  },
  {
   "cell_type": "markdown",
   "metadata": {},
   "source": [
    "To preview the top 3 rows of your list of lists, use the code below:"
   ]
  },
  {
   "cell_type": "code",
   "execution_count": 52,
   "metadata": {},
   "outputs": [
    {
     "data": {
      "text/plain": [
       "[['PokedexNumber',\n",
       "  'Name',\n",
       "  'Type',\n",
       "  'Total',\n",
       "  'HP',\n",
       "  'Attack',\n",
       "  'Defense',\n",
       "  'SpecialAttack',\n",
       "  'SpecialDefense',\n",
       "  'Speed'],\n",
       " [1, 'Bulbasaur', 'GrassPoison', 318.0, 45.0, 49.0, 49.0, 65.0, 65.0, 45.0],\n",
       " [2, 'Ivysaur', 'GrassPoison', 405.0, 60.0, 62.0, 63.0, 80.0, 80.0, 60.0]]"
      ]
     },
     "execution_count": 52,
     "metadata": {},
     "output_type": "execute_result"
    }
   ],
   "source": [
    "new_pd[:3]"
   ]
  },
  {
   "cell_type": "markdown",
   "metadata": {},
   "source": [
    "## 8. Changing Types\n",
    "\n",
    "---\n",
    "\n",
    "### A) Convert your data into a dictionary.\n",
    "\n",
    "Your `dict` should...\n",
    "* have `keys` of the new `pokedex` as the `PokedexNumber`\n",
    "* have `values` containing data for each pokemon in a dictionary form, just like our `pokedex` from before\n",
    "  * Keep in mind, the `keys` here are a little bit different than the original `pokedex`.\n",
    "  * Be careful of the header, you do not want to include that as a pokemon.\n",
    "* **WARNING:** Don't display your entire `pokedex` when turning this in! Viewing that many entries will clog up your notebook and make it difficult to read. If youd like to visualize your `pokedex`, index with a few of its `keys`.\n",
    "\n",
    "Your `new_pd_dict` should be organized like...\n",
    "\n",
    "```python\n",
    "{1.0: {'Attack': 49.0,\n",
    "  'Defense': 49.0,\n",
    "  'HP': 45.0,\n",
    "  'Name': 'Bulbasaur',\n",
    "  'PokedexNumber': 1.0,\n",
    "  'SpecialAttack': 65.0,\n",
    "  'SpecialDefense': 65.0,\n",
    "  'Speed': 45.0,\n",
    "  'Total': 318.0,\n",
    "  'Type': 'GrassPoison'},\n",
    " 2.0: {'Attack': 62.0,\n",
    "  'Defense': 63.0,\n",
    "  'HP': 60.0,\n",
    "  'Name': 'Ivysaur',\n",
    "```"
   ]
  },
  {
   "cell_type": "code",
   "execution_count": 53,
   "metadata": {},
   "outputs": [],
   "source": [
    "def new_create_add_pokemon(poke_id, source = new_pd):\n",
    "    new_poke_dict = {\n",
    "        source[0][0]: source[poke_id][0],\n",
    "        source[0][1]: source[poke_id][1],\n",
    "        source[0][2]: source[poke_id][2],\n",
    "        source[0][3]: source[poke_id][3],\n",
    "        source[0][4]: source[poke_id][4],\n",
    "        source[0][5]: source[poke_id][5],\n",
    "        source[0][6]: source[poke_id][6],\n",
    "        source[0][7]: source[poke_id][7],\n",
    "        source[0][8]: source[poke_id][8],\n",
    "        source[0][9]: source[poke_id][9]}\n",
    "    return new_poke_dict"
   ]
  },
  {
   "cell_type": "code",
   "execution_count": 54,
   "metadata": {},
   "outputs": [],
   "source": [
    "def make_dict(row_numbers = range(1,len(new_pd))):\n",
    "    new_pokedex = {} # Defining new empty dictionary\n",
    "    for num in row_numbers:\n",
    "        new_pokedex[num] = new_create_add_pokemon(num)\n",
    "    return new_pokedex\n",
    "\n",
    "new_pd_dict = make_dict()"
   ]
  },
  {
   "cell_type": "markdown",
   "metadata": {},
   "source": [
    "Your new pokedex is oriented by index, meaning that each entry is a row value (the `PokedexNumber` we set at the key would become the index for the row, all the keys for a given Pokemon would become the column headers, and their values would be the row values for that Pokemon). If you've set this up correctly (including naming your dict **`new_pd_dict`**), the following code should display the top 10 lines of your Pokedex formatted in a Pandas DataFrame."
   ]
  },
  {
   "cell_type": "code",
   "execution_count": 55,
   "metadata": {
    "scrolled": true
   },
   "outputs": [
    {
     "data": {
      "text/html": [
       "<div>\n",
       "<style scoped>\n",
       "    .dataframe tbody tr th:only-of-type {\n",
       "        vertical-align: middle;\n",
       "    }\n",
       "\n",
       "    .dataframe tbody tr th {\n",
       "        vertical-align: top;\n",
       "    }\n",
       "\n",
       "    .dataframe thead th {\n",
       "        text-align: right;\n",
       "    }\n",
       "</style>\n",
       "<table border=\"1\" class=\"dataframe\">\n",
       "  <thead>\n",
       "    <tr style=\"text-align: right;\">\n",
       "      <th></th>\n",
       "      <th>Attack</th>\n",
       "      <th>Defense</th>\n",
       "      <th>HP</th>\n",
       "      <th>Name</th>\n",
       "      <th>PokedexNumber</th>\n",
       "      <th>SpecialAttack</th>\n",
       "      <th>SpecialDefense</th>\n",
       "      <th>Speed</th>\n",
       "      <th>Total</th>\n",
       "      <th>Type</th>\n",
       "    </tr>\n",
       "  </thead>\n",
       "  <tbody>\n",
       "    <tr>\n",
       "      <th>1</th>\n",
       "      <td>49</td>\n",
       "      <td>49</td>\n",
       "      <td>45</td>\n",
       "      <td>Bulbasaur</td>\n",
       "      <td>1</td>\n",
       "      <td>65</td>\n",
       "      <td>65</td>\n",
       "      <td>45</td>\n",
       "      <td>318</td>\n",
       "      <td>GrassPoison</td>\n",
       "    </tr>\n",
       "    <tr>\n",
       "      <th>2</th>\n",
       "      <td>62</td>\n",
       "      <td>63</td>\n",
       "      <td>60</td>\n",
       "      <td>Ivysaur</td>\n",
       "      <td>2</td>\n",
       "      <td>80</td>\n",
       "      <td>80</td>\n",
       "      <td>60</td>\n",
       "      <td>405</td>\n",
       "      <td>GrassPoison</td>\n",
       "    </tr>\n",
       "    <tr>\n",
       "      <th>3</th>\n",
       "      <td>82</td>\n",
       "      <td>83</td>\n",
       "      <td>80</td>\n",
       "      <td>Venusaur</td>\n",
       "      <td>3</td>\n",
       "      <td>100</td>\n",
       "      <td>100</td>\n",
       "      <td>80</td>\n",
       "      <td>525</td>\n",
       "      <td>GrassPoison</td>\n",
       "    </tr>\n",
       "    <tr>\n",
       "      <th>4</th>\n",
       "      <td>100</td>\n",
       "      <td>123</td>\n",
       "      <td>80</td>\n",
       "      <td>VenusaurMega Venusaur</td>\n",
       "      <td>3</td>\n",
       "      <td>122</td>\n",
       "      <td>120</td>\n",
       "      <td>80</td>\n",
       "      <td>625</td>\n",
       "      <td>GrassPoison</td>\n",
       "    </tr>\n",
       "    <tr>\n",
       "      <th>5</th>\n",
       "      <td>52</td>\n",
       "      <td>43</td>\n",
       "      <td>39</td>\n",
       "      <td>Charmander</td>\n",
       "      <td>4</td>\n",
       "      <td>60</td>\n",
       "      <td>50</td>\n",
       "      <td>65</td>\n",
       "      <td>309</td>\n",
       "      <td>Fire</td>\n",
       "    </tr>\n",
       "    <tr>\n",
       "      <th>6</th>\n",
       "      <td>64</td>\n",
       "      <td>58</td>\n",
       "      <td>58</td>\n",
       "      <td>Charmeleon</td>\n",
       "      <td>5</td>\n",
       "      <td>80</td>\n",
       "      <td>65</td>\n",
       "      <td>80</td>\n",
       "      <td>405</td>\n",
       "      <td>Fire</td>\n",
       "    </tr>\n",
       "    <tr>\n",
       "      <th>7</th>\n",
       "      <td>84</td>\n",
       "      <td>78</td>\n",
       "      <td>78</td>\n",
       "      <td>Charizard</td>\n",
       "      <td>6</td>\n",
       "      <td>109</td>\n",
       "      <td>85</td>\n",
       "      <td>100</td>\n",
       "      <td>534</td>\n",
       "      <td>FireFlying</td>\n",
       "    </tr>\n",
       "    <tr>\n",
       "      <th>8</th>\n",
       "      <td>130</td>\n",
       "      <td>111</td>\n",
       "      <td>78</td>\n",
       "      <td>CharizardMega Charizard X</td>\n",
       "      <td>6</td>\n",
       "      <td>130</td>\n",
       "      <td>85</td>\n",
       "      <td>100</td>\n",
       "      <td>634</td>\n",
       "      <td>FireDragon</td>\n",
       "    </tr>\n",
       "    <tr>\n",
       "      <th>9</th>\n",
       "      <td>104</td>\n",
       "      <td>78</td>\n",
       "      <td>78</td>\n",
       "      <td>CharizardMega Charizard Y</td>\n",
       "      <td>6</td>\n",
       "      <td>159</td>\n",
       "      <td>115</td>\n",
       "      <td>100</td>\n",
       "      <td>634</td>\n",
       "      <td>FireFlying</td>\n",
       "    </tr>\n",
       "    <tr>\n",
       "      <th>10</th>\n",
       "      <td>48</td>\n",
       "      <td>65</td>\n",
       "      <td>44</td>\n",
       "      <td>Squirtle</td>\n",
       "      <td>7</td>\n",
       "      <td>50</td>\n",
       "      <td>64</td>\n",
       "      <td>43</td>\n",
       "      <td>314</td>\n",
       "      <td>Water</td>\n",
       "    </tr>\n",
       "  </tbody>\n",
       "</table>\n",
       "</div>"
      ],
      "text/plain": [
       "   Attack Defense  HP                       Name PokedexNumber SpecialAttack  \\\n",
       "1      49      49  45                  Bulbasaur             1            65   \n",
       "2      62      63  60                    Ivysaur             2            80   \n",
       "3      82      83  80                   Venusaur             3           100   \n",
       "4     100     123  80      VenusaurMega Venusaur             3           122   \n",
       "5      52      43  39                 Charmander             4            60   \n",
       "6      64      58  58                 Charmeleon             5            80   \n",
       "7      84      78  78                  Charizard             6           109   \n",
       "8     130     111  78  CharizardMega Charizard X             6           130   \n",
       "9     104      78  78  CharizardMega Charizard Y             6           159   \n",
       "10     48      65  44                   Squirtle             7            50   \n",
       "\n",
       "   SpecialDefense Speed Total         Type  \n",
       "1              65    45   318  GrassPoison  \n",
       "2              80    60   405  GrassPoison  \n",
       "3             100    80   525  GrassPoison  \n",
       "4             120    80   625  GrassPoison  \n",
       "5              50    65   309         Fire  \n",
       "6              65    80   405         Fire  \n",
       "7              85   100   534   FireFlying  \n",
       "8              85   100   634   FireDragon  \n",
       "9             115   100   634   FireFlying  \n",
       "10             64    43   314        Water  "
      ]
     },
     "execution_count": 55,
     "metadata": {},
     "output_type": "execute_result"
    }
   ],
   "source": [
    "import pandas as pd\n",
    "pd.DataFrame(new_pd_dict).T.head(10) # T to transpose column values to actual columns"
   ]
  },
  {
   "cell_type": "markdown",
   "metadata": {},
   "source": [
    "### (OPTIONAL) B) Orient your `new_pd_dict` by columns.\n",
    "\n",
    "Your goal in this exercise is to orient the pokedex dict by columns, meaning:\n",
    "\n",
    "* The keys of the dictionary are the column names\n",
    "* The values of the dictionary are a **column vector** (this can be a list or a tuple) of that feature.\n",
    "* **BONUS:** Do this with list and/or dictionary comprehensions only\n",
    "\n",
    "You may find it's easier to work from your `new_pd` list of lists rather than your `new_pd_dict`."
   ]
  },
  {
   "cell_type": "code",
   "execution_count": 56,
   "metadata": {},
   "outputs": [],
   "source": [
    "column = new_pd[0]"
   ]
  },
  {
   "cell_type": "code",
   "execution_count": 57,
   "metadata": {},
   "outputs": [],
   "source": [
    "power = {column[0]:[new_pd[n][0] for n in range(1,801)], \n",
    "         column[1]:[new_pd[n][1] for n in range(1,801)],\n",
    "         column[2]:[new_pd[n][2] for n in range(1,801)],\n",
    "         column[3]:[new_pd[n][3] for n in range(1,801)],\n",
    "         column[4]:[new_pd[n][4] for n in range(1,801)],\n",
    "         column[5]:[new_pd[n][5] for n in range(1,801)],\n",
    "         column[6]:[new_pd[n][6] for n in range(1,801)],\n",
    "         column[7]:[new_pd[n][7] for n in range(1,801)],\n",
    "         column[8]:[new_pd[n][8] for n in range(1,801)],\n",
    "         column[9]:[new_pd[n][9] for n in range(1,801)],}"
   ]
  },
  {
   "cell_type": "code",
   "execution_count": 58,
   "metadata": {},
   "outputs": [],
   "source": [
    "new_pd_df = pd.DataFrame.from_dict(power)"
   ]
  },
  {
   "cell_type": "markdown",
   "metadata": {},
   "source": [
    "You can pass this data through to a pandas DataFrame as well, using the example code below:\n",
    "\n",
    "```pd.DataFrame(your_dict_name).head(10)```"
   ]
  },
  {
   "cell_type": "code",
   "execution_count": 59,
   "metadata": {},
   "outputs": [
    {
     "data": {
      "text/html": [
       "<div>\n",
       "<style scoped>\n",
       "    .dataframe tbody tr th:only-of-type {\n",
       "        vertical-align: middle;\n",
       "    }\n",
       "\n",
       "    .dataframe tbody tr th {\n",
       "        vertical-align: top;\n",
       "    }\n",
       "\n",
       "    .dataframe thead th {\n",
       "        text-align: right;\n",
       "    }\n",
       "</style>\n",
       "<table border=\"1\" class=\"dataframe\">\n",
       "  <thead>\n",
       "    <tr style=\"text-align: right;\">\n",
       "      <th></th>\n",
       "      <th>PokedexNumber</th>\n",
       "      <th>Name</th>\n",
       "      <th>Type</th>\n",
       "      <th>Total</th>\n",
       "      <th>HP</th>\n",
       "      <th>Attack</th>\n",
       "      <th>Defense</th>\n",
       "      <th>SpecialAttack</th>\n",
       "      <th>SpecialDefense</th>\n",
       "      <th>Speed</th>\n",
       "    </tr>\n",
       "  </thead>\n",
       "  <tbody>\n",
       "    <tr>\n",
       "      <th>0</th>\n",
       "      <td>1</td>\n",
       "      <td>Bulbasaur</td>\n",
       "      <td>GrassPoison</td>\n",
       "      <td>318.0</td>\n",
       "      <td>45.0</td>\n",
       "      <td>49.0</td>\n",
       "      <td>49.0</td>\n",
       "      <td>65.0</td>\n",
       "      <td>65.0</td>\n",
       "      <td>45.0</td>\n",
       "    </tr>\n",
       "    <tr>\n",
       "      <th>1</th>\n",
       "      <td>2</td>\n",
       "      <td>Ivysaur</td>\n",
       "      <td>GrassPoison</td>\n",
       "      <td>405.0</td>\n",
       "      <td>60.0</td>\n",
       "      <td>62.0</td>\n",
       "      <td>63.0</td>\n",
       "      <td>80.0</td>\n",
       "      <td>80.0</td>\n",
       "      <td>60.0</td>\n",
       "    </tr>\n",
       "    <tr>\n",
       "      <th>2</th>\n",
       "      <td>3</td>\n",
       "      <td>Venusaur</td>\n",
       "      <td>GrassPoison</td>\n",
       "      <td>525.0</td>\n",
       "      <td>80.0</td>\n",
       "      <td>82.0</td>\n",
       "      <td>83.0</td>\n",
       "      <td>100.0</td>\n",
       "      <td>100.0</td>\n",
       "      <td>80.0</td>\n",
       "    </tr>\n",
       "    <tr>\n",
       "      <th>3</th>\n",
       "      <td>3</td>\n",
       "      <td>VenusaurMega Venusaur</td>\n",
       "      <td>GrassPoison</td>\n",
       "      <td>625.0</td>\n",
       "      <td>80.0</td>\n",
       "      <td>100.0</td>\n",
       "      <td>123.0</td>\n",
       "      <td>122.0</td>\n",
       "      <td>120.0</td>\n",
       "      <td>80.0</td>\n",
       "    </tr>\n",
       "    <tr>\n",
       "      <th>4</th>\n",
       "      <td>4</td>\n",
       "      <td>Charmander</td>\n",
       "      <td>Fire</td>\n",
       "      <td>309.0</td>\n",
       "      <td>39.0</td>\n",
       "      <td>52.0</td>\n",
       "      <td>43.0</td>\n",
       "      <td>60.0</td>\n",
       "      <td>50.0</td>\n",
       "      <td>65.0</td>\n",
       "    </tr>\n",
       "    <tr>\n",
       "      <th>5</th>\n",
       "      <td>5</td>\n",
       "      <td>Charmeleon</td>\n",
       "      <td>Fire</td>\n",
       "      <td>405.0</td>\n",
       "      <td>58.0</td>\n",
       "      <td>64.0</td>\n",
       "      <td>58.0</td>\n",
       "      <td>80.0</td>\n",
       "      <td>65.0</td>\n",
       "      <td>80.0</td>\n",
       "    </tr>\n",
       "    <tr>\n",
       "      <th>6</th>\n",
       "      <td>6</td>\n",
       "      <td>Charizard</td>\n",
       "      <td>FireFlying</td>\n",
       "      <td>534.0</td>\n",
       "      <td>78.0</td>\n",
       "      <td>84.0</td>\n",
       "      <td>78.0</td>\n",
       "      <td>109.0</td>\n",
       "      <td>85.0</td>\n",
       "      <td>100.0</td>\n",
       "    </tr>\n",
       "    <tr>\n",
       "      <th>7</th>\n",
       "      <td>6</td>\n",
       "      <td>CharizardMega Charizard X</td>\n",
       "      <td>FireDragon</td>\n",
       "      <td>634.0</td>\n",
       "      <td>78.0</td>\n",
       "      <td>130.0</td>\n",
       "      <td>111.0</td>\n",
       "      <td>130.0</td>\n",
       "      <td>85.0</td>\n",
       "      <td>100.0</td>\n",
       "    </tr>\n",
       "    <tr>\n",
       "      <th>8</th>\n",
       "      <td>6</td>\n",
       "      <td>CharizardMega Charizard Y</td>\n",
       "      <td>FireFlying</td>\n",
       "      <td>634.0</td>\n",
       "      <td>78.0</td>\n",
       "      <td>104.0</td>\n",
       "      <td>78.0</td>\n",
       "      <td>159.0</td>\n",
       "      <td>115.0</td>\n",
       "      <td>100.0</td>\n",
       "    </tr>\n",
       "    <tr>\n",
       "      <th>9</th>\n",
       "      <td>7</td>\n",
       "      <td>Squirtle</td>\n",
       "      <td>Water</td>\n",
       "      <td>314.0</td>\n",
       "      <td>44.0</td>\n",
       "      <td>48.0</td>\n",
       "      <td>65.0</td>\n",
       "      <td>50.0</td>\n",
       "      <td>64.0</td>\n",
       "      <td>43.0</td>\n",
       "    </tr>\n",
       "  </tbody>\n",
       "</table>\n",
       "</div>"
      ],
      "text/plain": [
       "   PokedexNumber                       Name         Type  Total    HP  Attack  \\\n",
       "0              1                  Bulbasaur  GrassPoison  318.0  45.0    49.0   \n",
       "1              2                    Ivysaur  GrassPoison  405.0  60.0    62.0   \n",
       "2              3                   Venusaur  GrassPoison  525.0  80.0    82.0   \n",
       "3              3      VenusaurMega Venusaur  GrassPoison  625.0  80.0   100.0   \n",
       "4              4                 Charmander         Fire  309.0  39.0    52.0   \n",
       "5              5                 Charmeleon         Fire  405.0  58.0    64.0   \n",
       "6              6                  Charizard   FireFlying  534.0  78.0    84.0   \n",
       "7              6  CharizardMega Charizard X   FireDragon  634.0  78.0   130.0   \n",
       "8              6  CharizardMega Charizard Y   FireFlying  634.0  78.0   104.0   \n",
       "9              7                   Squirtle        Water  314.0  44.0    48.0   \n",
       "\n",
       "   Defense  SpecialAttack  SpecialDefense  Speed  \n",
       "0     49.0           65.0            65.0   45.0  \n",
       "1     63.0           80.0            80.0   60.0  \n",
       "2     83.0          100.0           100.0   80.0  \n",
       "3    123.0          122.0           120.0   80.0  \n",
       "4     43.0           60.0            50.0   65.0  \n",
       "5     58.0           80.0            65.0   80.0  \n",
       "6     78.0          109.0            85.0  100.0  \n",
       "7    111.0          130.0            85.0  100.0  \n",
       "8     78.0          159.0           115.0  100.0  \n",
       "9     65.0           50.0            64.0   43.0  "
      ]
     },
     "execution_count": 59,
     "metadata": {},
     "output_type": "execute_result"
    }
   ],
   "source": [
    "pd.DataFrame(power).head(10)"
   ]
  },
  {
   "cell_type": "code",
   "execution_count": 60,
   "metadata": {},
   "outputs": [
    {
     "data": {
      "text/html": [
       "<div>\n",
       "<style scoped>\n",
       "    .dataframe tbody tr th:only-of-type {\n",
       "        vertical-align: middle;\n",
       "    }\n",
       "\n",
       "    .dataframe tbody tr th {\n",
       "        vertical-align: top;\n",
       "    }\n",
       "\n",
       "    .dataframe thead th {\n",
       "        text-align: right;\n",
       "    }\n",
       "</style>\n",
       "<table border=\"1\" class=\"dataframe\">\n",
       "  <thead>\n",
       "    <tr style=\"text-align: right;\">\n",
       "      <th></th>\n",
       "      <th>PokedexNumber</th>\n",
       "      <th>Name</th>\n",
       "      <th>Type</th>\n",
       "      <th>Total</th>\n",
       "      <th>HP</th>\n",
       "      <th>Attack</th>\n",
       "      <th>Defense</th>\n",
       "      <th>SpecialAttack</th>\n",
       "      <th>SpecialDefense</th>\n",
       "      <th>Speed</th>\n",
       "    </tr>\n",
       "  </thead>\n",
       "  <tbody>\n",
       "    <tr>\n",
       "      <th>790</th>\n",
       "      <td>714</td>\n",
       "      <td>Noibat</td>\n",
       "      <td>FlyingDragon</td>\n",
       "      <td>245.0</td>\n",
       "      <td>40.0</td>\n",
       "      <td>30.0</td>\n",
       "      <td>35.0</td>\n",
       "      <td>45.0</td>\n",
       "      <td>40.0</td>\n",
       "      <td>55.0</td>\n",
       "    </tr>\n",
       "    <tr>\n",
       "      <th>791</th>\n",
       "      <td>715</td>\n",
       "      <td>Noivern</td>\n",
       "      <td>FlyingDragon</td>\n",
       "      <td>535.0</td>\n",
       "      <td>85.0</td>\n",
       "      <td>70.0</td>\n",
       "      <td>80.0</td>\n",
       "      <td>97.0</td>\n",
       "      <td>80.0</td>\n",
       "      <td>123.0</td>\n",
       "    </tr>\n",
       "    <tr>\n",
       "      <th>792</th>\n",
       "      <td>716</td>\n",
       "      <td>Xerneas</td>\n",
       "      <td>Fairy</td>\n",
       "      <td>680.0</td>\n",
       "      <td>126.0</td>\n",
       "      <td>131.0</td>\n",
       "      <td>95.0</td>\n",
       "      <td>131.0</td>\n",
       "      <td>98.0</td>\n",
       "      <td>99.0</td>\n",
       "    </tr>\n",
       "    <tr>\n",
       "      <th>793</th>\n",
       "      <td>717</td>\n",
       "      <td>Yveltal</td>\n",
       "      <td>DarkFlying</td>\n",
       "      <td>680.0</td>\n",
       "      <td>126.0</td>\n",
       "      <td>131.0</td>\n",
       "      <td>95.0</td>\n",
       "      <td>131.0</td>\n",
       "      <td>98.0</td>\n",
       "      <td>99.0</td>\n",
       "    </tr>\n",
       "    <tr>\n",
       "      <th>794</th>\n",
       "      <td>718</td>\n",
       "      <td>Zygarde Forme</td>\n",
       "      <td>DragonGround</td>\n",
       "      <td>600.0</td>\n",
       "      <td>108.0</td>\n",
       "      <td>100.0</td>\n",
       "      <td>121.0</td>\n",
       "      <td>81.0</td>\n",
       "      <td>95.0</td>\n",
       "      <td>95.0</td>\n",
       "    </tr>\n",
       "    <tr>\n",
       "      <th>795</th>\n",
       "      <td>719</td>\n",
       "      <td>Diancie</td>\n",
       "      <td>RockFairy</td>\n",
       "      <td>600.0</td>\n",
       "      <td>50.0</td>\n",
       "      <td>100.0</td>\n",
       "      <td>150.0</td>\n",
       "      <td>100.0</td>\n",
       "      <td>150.0</td>\n",
       "      <td>50.0</td>\n",
       "    </tr>\n",
       "    <tr>\n",
       "      <th>796</th>\n",
       "      <td>719</td>\n",
       "      <td>DiancieMega Diancie</td>\n",
       "      <td>RockFairy</td>\n",
       "      <td>700.0</td>\n",
       "      <td>50.0</td>\n",
       "      <td>160.0</td>\n",
       "      <td>110.0</td>\n",
       "      <td>160.0</td>\n",
       "      <td>110.0</td>\n",
       "      <td>110.0</td>\n",
       "    </tr>\n",
       "    <tr>\n",
       "      <th>797</th>\n",
       "      <td>720</td>\n",
       "      <td>HoopaHoopa Confined</td>\n",
       "      <td>PsychicGhost</td>\n",
       "      <td>600.0</td>\n",
       "      <td>80.0</td>\n",
       "      <td>110.0</td>\n",
       "      <td>60.0</td>\n",
       "      <td>150.0</td>\n",
       "      <td>130.0</td>\n",
       "      <td>70.0</td>\n",
       "    </tr>\n",
       "    <tr>\n",
       "      <th>798</th>\n",
       "      <td>720</td>\n",
       "      <td>HoopaHoopa Unbound</td>\n",
       "      <td>PsychicDark</td>\n",
       "      <td>680.0</td>\n",
       "      <td>80.0</td>\n",
       "      <td>160.0</td>\n",
       "      <td>60.0</td>\n",
       "      <td>170.0</td>\n",
       "      <td>130.0</td>\n",
       "      <td>80.0</td>\n",
       "    </tr>\n",
       "    <tr>\n",
       "      <th>799</th>\n",
       "      <td>721</td>\n",
       "      <td>Volcanion</td>\n",
       "      <td>FireWater</td>\n",
       "      <td>600.0</td>\n",
       "      <td>80.0</td>\n",
       "      <td>110.0</td>\n",
       "      <td>120.0</td>\n",
       "      <td>130.0</td>\n",
       "      <td>90.0</td>\n",
       "      <td>70.0</td>\n",
       "    </tr>\n",
       "  </tbody>\n",
       "</table>\n",
       "</div>"
      ],
      "text/plain": [
       "     PokedexNumber                 Name          Type  Total     HP  Attack  \\\n",
       "790            714               Noibat  FlyingDragon  245.0   40.0    30.0   \n",
       "791            715              Noivern  FlyingDragon  535.0   85.0    70.0   \n",
       "792            716              Xerneas         Fairy  680.0  126.0   131.0   \n",
       "793            717              Yveltal    DarkFlying  680.0  126.0   131.0   \n",
       "794            718        Zygarde Forme  DragonGround  600.0  108.0   100.0   \n",
       "795            719              Diancie     RockFairy  600.0   50.0   100.0   \n",
       "796            719  DiancieMega Diancie     RockFairy  700.0   50.0   160.0   \n",
       "797            720  HoopaHoopa Confined  PsychicGhost  600.0   80.0   110.0   \n",
       "798            720   HoopaHoopa Unbound   PsychicDark  680.0   80.0   160.0   \n",
       "799            721            Volcanion     FireWater  600.0   80.0   110.0   \n",
       "\n",
       "     Defense  SpecialAttack  SpecialDefense  Speed  \n",
       "790     35.0           45.0            40.0   55.0  \n",
       "791     80.0           97.0            80.0  123.0  \n",
       "792     95.0          131.0            98.0   99.0  \n",
       "793     95.0          131.0            98.0   99.0  \n",
       "794    121.0           81.0            95.0   95.0  \n",
       "795    150.0          100.0           150.0   50.0  \n",
       "796    110.0          160.0           110.0  110.0  \n",
       "797     60.0          150.0           130.0   70.0  \n",
       "798     60.0          170.0           130.0   80.0  \n",
       "799    120.0          130.0            90.0   70.0  "
      ]
     },
     "execution_count": 60,
     "metadata": {},
     "output_type": "execute_result"
    }
   ],
   "source": [
    "pd.DataFrame(power).tail(10)"
   ]
  },
  {
   "cell_type": "markdown",
   "metadata": {},
   "source": [
    "## (OPTIONAL) 9. Write a function to filter your pokedex!\n",
    "---\n",
    "\n",
    "Your goal in this exercise is to search your pokedex based on your own defined criteria! Build a function that...\n",
    "\n",
    "* Takes arguments of: \n",
    "  * a pokedex dict (can be either the row or column oriented dict, pick the one of your choice!)\n",
    "  * a `filter_options` dict (described below)\n",
    "* For parameters in your `filter_options` dict, your function should return:\n",
    "  * pokemon that are >= (greater than or equal to) the value you passed in your `filter_options` for that field for continuous values\n",
    "  * pokemon of that name or type for string values (equal)\n",
    "* Return a list of the individual pokemon dictionaries that meet your search criteia!\n",
    "\n",
    "Example:\n",
    "\n",
    "```python\n",
    "\n",
    "# Only filter based on parameters passed\n",
    "filter_options = {\n",
    "    'Attack':   25,\n",
    "    'Defense':  30,\n",
    "    'Type':     'Electric'\n",
    "}\n",
    "\n",
    "# Return records with attack >= 24, defense >= 30, and type == \"Electric\"\n",
    "# Also anticipate that other paramters can also be passed such as \"SpecialAttack\", \"Speed\", etc.\n",
    "filtered_pokedex(pokedex_data, filter_options)\n",
    "\n",
    "# Example output:\n",
    "[{'Attack': 30.0,\n",
    "  'Defense': 50.0,\n",
    "  'HP': 40.0,\n",
    "  'Name': 'Voltorb',\n",
    "  'SpecialAttack': 55.0,\n",
    "  'SpecialDefense': 55.0,\n",
    "  'Speed': 100.0,\n",
    "  'Total': 330.0,\n",
    "  'Type': 'Electric'},\n",
    "  {'Attack': 30.0,\n",
    "  'Defense': 33.0,\n",
    "  'HP': 32.0,\n",
    "  'Name': 'Pikachu',\n",
    "  'SpecialAttack': 55.0,\n",
    "  'SpecialDefense': 55.0,\n",
    "  'Speed': 100.0,\n",
    "  'Total': 330.0,\n",
    "  'Type': 'Electric'},\n",
    "  ... etc\n",
    "  ]\n",
    "\n",
    "```\n",
    "\n"
   ]
  },
  {
   "cell_type": "code",
   "execution_count": 61,
   "metadata": {},
   "outputs": [],
   "source": [
    "# Still playing around with filters\n",
    "\n",
    "filter_options = {}"
   ]
  },
  {
   "cell_type": "code",
   "execution_count": 62,
   "metadata": {},
   "outputs": [],
   "source": [
    "mask = new_pd_df[:]\n",
    "mask.loc[0:10,['Attack','Defense']] = [20,20]  # Setting those values to 20 in all cases of :10"
   ]
  },
  {
   "cell_type": "code",
   "execution_count": 63,
   "metadata": {},
   "outputs": [
    {
     "data": {
      "text/plain": [
       "{'poke_id': 1,\n",
       " 'poke_name': 'charmander',\n",
       " 'poke_type': 'fire',\n",
       " 'hp': 411,\n",
       " 'attack': 84,\n",
       " 'defense': 83,\n",
       " 'special_attack': 137,\n",
       " 'special_defense': 123,\n",
       " 'speed': 29}"
      ]
     },
     "execution_count": 63,
     "metadata": {},
     "output_type": "execute_result"
    }
   ],
   "source": [
    "pokedex[1]"
   ]
  },
  {
   "cell_type": "code",
   "execution_count": 64,
   "metadata": {},
   "outputs": [],
   "source": [
    "filter_options = {\n",
    "    'Attack':   200,\n",
    "    'Defense':  30}"
   ]
  },
  {
   "cell_type": "code",
   "execution_count": 65,
   "metadata": {},
   "outputs": [],
   "source": [
    "def filtered_pokedex(dictionary, filter_options):\n",
    "    filt_dict = {}\n",
    "    for w in list(filter_options.keys()):\n",
    "        for n in range(1,5):\n",
    "            counter = 1\n",
    "            if float(dictionary[n][w]) >= float(filter_options[w]):\n",
    "                \n",
    "                print(dictionary[n]['Name'])\n",
    "                print(filter_options[w])\n",
    "                print('Verified')\n",
    "                filt_dict[counter] = dictionary[n]\n",
    "                print('')\n",
    "                print(counter)\n",
    "                counter += 1 \n",
    "            else:\n",
    "                pass\n",
    "\n"
   ]
  }
 ],
 "metadata": {
  "anaconda-cloud": {},
  "kernelspec": {
   "display_name": "Python 3",
   "language": "python",
   "name": "python3"
  },
  "language_info": {
   "codemirror_mode": {
    "name": "ipython",
    "version": 3
   },
   "file_extension": ".py",
   "mimetype": "text/x-python",
   "name": "python",
   "nbconvert_exporter": "python",
   "pygments_lexer": "ipython3",
   "version": "3.6.5"
  }
 },
 "nbformat": 4,
 "nbformat_minor": 2
}
