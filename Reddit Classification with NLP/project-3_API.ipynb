{
 "cells": [
  {
   "cell_type": "markdown",
   "metadata": {},
   "source": [
    "## reddit API"
   ]
  },
  {
   "cell_type": "code",
   "execution_count": 1,
   "metadata": {},
   "outputs": [],
   "source": [
    "import requests\n",
    "import time\n",
    "import pandas as pd"
   ]
  },
  {
   "cell_type": "code",
   "execution_count": 2,
   "metadata": {},
   "outputs": [],
   "source": [
    "# 'https://www.reddit.com/r/aww.json'\n",
    "# 'https://www.reddit.com/r/datascience.json'\n",
    "\n",
    "# 'https://www.reddit.com/r/cats.json'\n",
    "# 'https://www.reddit.com/r/dogs.json'"
   ]
  },
  {
   "cell_type": "code",
   "execution_count": 3,
   "metadata": {},
   "outputs": [],
   "source": [
    "headers = {'User-agent': 'linnea bot 18'}"
   ]
  },
  {
   "cell_type": "code",
   "execution_count": 4,
   "metadata": {
    "scrolled": false
   },
   "outputs": [
    {
     "name": "stdout",
     "output_type": "stream",
     "text": [
      "0\n",
      "t3_abkajz\n",
      "1\n",
      "t3_abg9ed\n",
      "2\n",
      "t3_abaren\n",
      "3\n",
      "t3_ab8k89\n",
      "4\n",
      "t3_ab4ij0\n",
      "5\n",
      "t3_ab5j72\n",
      "6\n",
      "t3_ab1lk7\n",
      "7\n",
      "t3_aaq7g3\n",
      "8\n",
      "t3_aathzo\n",
      "9\n",
      "t3_aapubf\n",
      "10\n",
      "t3_aam4ln\n",
      "11\n",
      "t3_aaj1x5\n",
      "12\n",
      "t3_aagb44\n",
      "13\n",
      "t3_aag6n8\n",
      "14\n",
      "t3_aa8omw\n",
      "15\n",
      "t3_aa4t0e\n",
      "16\n",
      "t3_aa3sud\n",
      "17\n",
      "t3_aa0j8u\n",
      "18\n",
      "t3_a9wkaq\n",
      "19\n",
      "t3_a9w0t1\n",
      "20\n",
      "t3_a9stdp\n",
      "21\n",
      "t3_a9qajv\n",
      "22\n",
      "t3_a9lvmm\n",
      "23\n",
      "t3_a94q7z\n",
      "24\n",
      "t3_a9bq3b\n",
      "25\n",
      "t3_a94mv6\n",
      "26\n",
      "t3_a8vt1y\n",
      "27\n",
      "None\n",
      "28\n",
      "t3_abkajz\n",
      "29\n",
      "t3_abg9ed\n",
      "30\n",
      "t3_abaren\n",
      "31\n",
      "t3_ab8k89\n",
      "32\n",
      "t3_ab4ij0\n",
      "33\n",
      "t3_ab5j72\n",
      "34\n",
      "t3_ab1lk7\n",
      "35\n",
      "t3_aaq7g3\n",
      "36\n",
      "t3_aathzo\n"
     ]
    }
   ],
   "source": [
    "posts = []\n",
    "after = None\n",
    "for i in range(37):\n",
    "    print(i)\n",
    "    if after == None:\n",
    "        params = {}\n",
    "    else:\n",
    "        params = {'after': after}\n",
    "    url = 'https://www.reddit.com/r/dogs.json'\n",
    "    res = requests.get(url, params=params, headers=headers)  # Params\n",
    "    if res.status_code == 200:\n",
    "        the_json = res.json()\n",
    "        posts.extend(the_json['data']['children'])\n",
    "        after = the_json['data']['after']\n",
    "        print(after)\n",
    "    else:\n",
    "        print(res.status_code)\n",
    "        break\n",
    "    time.sleep(1)  # Slow down, 1 second in between pulls"
   ]
  },
  {
   "cell_type": "markdown",
   "metadata": {},
   "source": [
    "#### Check for unique posts"
   ]
  },
  {
   "cell_type": "code",
   "execution_count": 5,
   "metadata": {},
   "outputs": [
    {
     "data": {
      "text/plain": [
       "910"
      ]
     },
     "execution_count": 5,
     "metadata": {},
     "output_type": "execute_result"
    }
   ],
   "source": [
    "len(posts)"
   ]
  },
  {
   "cell_type": "code",
   "execution_count": 6,
   "metadata": {},
   "outputs": [
    {
     "data": {
      "text/plain": [
       "683"
      ]
     },
     "execution_count": 6,
     "metadata": {},
     "output_type": "execute_result"
    }
   ],
   "source": [
    "# Check for unique posts\n",
    "len(set([p['data']['name'] for p in posts]))"
   ]
  },
  {
   "cell_type": "markdown",
   "metadata": {},
   "source": [
    "#### Create empty DataFrame"
   ]
  },
  {
   "cell_type": "code",
   "execution_count": 7,
   "metadata": {},
   "outputs": [],
   "source": [
    "df = pd.DataFrame(index=range(len(posts)), columns=['title',\n",
    "                                                    'subreddit',\n",
    "                                                    'name',\n",
    "                                                    'num_comments',\n",
    "                                                    'is_video',\n",
    "                                                    'pinned',\n",
    "                                                    'id',\n",
    "                                                    'selftext'])"
   ]
  },
  {
   "cell_type": "markdown",
   "metadata": {},
   "source": [
    "#### Pull specific variables"
   ]
  },
  {
   "cell_type": "code",
   "execution_count": 8,
   "metadata": {},
   "outputs": [],
   "source": [
    "var_list = ['title',\n",
    "            'subreddit',\n",
    "            'name',\n",
    "            'num_comments',\n",
    "            'is_video','pinned',\n",
    "            'id',\n",
    "            'selftext']"
   ]
  },
  {
   "cell_type": "code",
   "execution_count": 9,
   "metadata": {},
   "outputs": [],
   "source": [
    "for i in range(len(posts)):\n",
    "    for var in var_list:\n",
    "        df[var][i] = posts[i]['data'][var]"
   ]
  },
  {
   "cell_type": "code",
   "execution_count": 10,
   "metadata": {},
   "outputs": [
    {
     "data": {
      "text/html": [
       "<div>\n",
       "<style scoped>\n",
       "    .dataframe tbody tr th:only-of-type {\n",
       "        vertical-align: middle;\n",
       "    }\n",
       "\n",
       "    .dataframe tbody tr th {\n",
       "        vertical-align: top;\n",
       "    }\n",
       "\n",
       "    .dataframe thead th {\n",
       "        text-align: right;\n",
       "    }\n",
       "</style>\n",
       "<table border=\"1\" class=\"dataframe\">\n",
       "  <thead>\n",
       "    <tr style=\"text-align: right;\">\n",
       "      <th></th>\n",
       "      <th>title</th>\n",
       "      <th>subreddit</th>\n",
       "      <th>name</th>\n",
       "      <th>num_comments</th>\n",
       "      <th>is_video</th>\n",
       "      <th>pinned</th>\n",
       "      <th>id</th>\n",
       "      <th>selftext</th>\n",
       "    </tr>\n",
       "  </thead>\n",
       "  <tbody>\n",
       "    <tr>\n",
       "      <th>0</th>\n",
       "      <td>[Mod Post][Survey] /r/dogs Official Demographi...</td>\n",
       "      <td>dogs</td>\n",
       "      <td>t3_a2pcty</td>\n",
       "      <td>81</td>\n",
       "      <td>False</td>\n",
       "      <td>False</td>\n",
       "      <td>a2pcty</td>\n",
       "      <td>Hey there, errybody. It's about time we update...</td>\n",
       "    </tr>\n",
       "    <tr>\n",
       "      <th>1</th>\n",
       "      <td>[Mod Post] Subreddit Rules - Read Before Posting</td>\n",
       "      <td>dogs</td>\n",
       "      <td>t3_7408hq</td>\n",
       "      <td>0</td>\n",
       "      <td>False</td>\n",
       "      <td>False</td>\n",
       "      <td>7408hq</td>\n",
       "      <td>#Recurring Threads\\n\\n* [Daily Bark] - Every d...</td>\n",
       "    </tr>\n",
       "    <tr>\n",
       "      <th>2</th>\n",
       "      <td>[HELP] Got a sick dog chilling at my house and...</td>\n",
       "      <td>dogs</td>\n",
       "      <td>t3_abidud</td>\n",
       "      <td>29</td>\n",
       "      <td>False</td>\n",
       "      <td>False</td>\n",
       "      <td>abidud</td>\n",
       "      <td>\\n\\nSo I live on a tropical island and there ...</td>\n",
       "    </tr>\n",
       "    <tr>\n",
       "      <th>3</th>\n",
       "      <td>[fluff] My Dog Barks When People Open Wine</td>\n",
       "      <td>dogs</td>\n",
       "      <td>t3_abjb6e</td>\n",
       "      <td>5</td>\n",
       "      <td>False</td>\n",
       "      <td>False</td>\n",
       "      <td>abjb6e</td>\n",
       "      <td>Built in doggie alarm system for people breaki...</td>\n",
       "    </tr>\n",
       "    <tr>\n",
       "      <th>4</th>\n",
       "      <td>[Help] My dog FREAKED OUT last night over fire...</td>\n",
       "      <td>dogs</td>\n",
       "      <td>t3_abjzot</td>\n",
       "      <td>19</td>\n",
       "      <td>False</td>\n",
       "      <td>False</td>\n",
       "      <td>abjzot</td>\n",
       "      <td>My bf and I stayed home last night and Kira FR...</td>\n",
       "    </tr>\n",
       "  </tbody>\n",
       "</table>\n",
       "</div>"
      ],
      "text/plain": [
       "                                               title subreddit       name  \\\n",
       "0  [Mod Post][Survey] /r/dogs Official Demographi...      dogs  t3_a2pcty   \n",
       "1   [Mod Post] Subreddit Rules - Read Before Posting      dogs  t3_7408hq   \n",
       "2  [HELP] Got a sick dog chilling at my house and...      dogs  t3_abidud   \n",
       "3         [fluff] My Dog Barks When People Open Wine      dogs  t3_abjb6e   \n",
       "4  [Help] My dog FREAKED OUT last night over fire...      dogs  t3_abjzot   \n",
       "\n",
       "  num_comments is_video pinned      id  \\\n",
       "0           81    False  False  a2pcty   \n",
       "1            0    False  False  7408hq   \n",
       "2           29    False  False  abidud   \n",
       "3            5    False  False  abjb6e   \n",
       "4           19    False  False  abjzot   \n",
       "\n",
       "                                            selftext  \n",
       "0  Hey there, errybody. It's about time we update...  \n",
       "1  #Recurring Threads\\n\\n* [Daily Bark] - Every d...  \n",
       "2   \\n\\nSo I live on a tropical island and there ...  \n",
       "3  Built in doggie alarm system for people breaki...  \n",
       "4  My bf and I stayed home last night and Kira FR...  "
      ]
     },
     "execution_count": 10,
     "metadata": {},
     "output_type": "execute_result"
    }
   ],
   "source": [
    "df.head()"
   ]
  },
  {
   "cell_type": "markdown",
   "metadata": {},
   "source": [
    "#### Save to `.csv`"
   ]
  },
  {
   "cell_type": "code",
   "execution_count": 11,
   "metadata": {},
   "outputs": [],
   "source": [
    "# # Save posts as a csv\n",
    "# df.to_csv('./data/dogs4.csv')"
   ]
  }
 ],
 "metadata": {
  "kernelspec": {
   "display_name": "Python 3",
   "language": "python",
   "name": "python3"
  },
  "language_info": {
   "codemirror_mode": {
    "name": "ipython",
    "version": 3
   },
   "file_extension": ".py",
   "mimetype": "text/x-python",
   "name": "python",
   "nbconvert_exporter": "python",
   "pygments_lexer": "ipython3",
   "version": "3.6.5"
  }
 },
 "nbformat": 4,
 "nbformat_minor": 2
}
